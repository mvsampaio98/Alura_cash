{
 "cells": [
  {
   "cell_type": "markdown",
   "id": "0f1c7a8a",
   "metadata": {},
   "source": [
    "**Importando base de dados**"
   ]
  },
  {
   "cell_type": "code",
   "execution_count": 3,
   "id": "a43e6077",
   "metadata": {},
   "outputs": [
    {
     "data": {
      "text/html": [
       "<div>\n",
       "<style scoped>\n",
       "    .dataframe tbody tr th:only-of-type {\n",
       "        vertical-align: middle;\n",
       "    }\n",
       "\n",
       "    .dataframe tbody tr th {\n",
       "        vertical-align: top;\n",
       "    }\n",
       "\n",
       "    .dataframe thead th {\n",
       "        text-align: right;\n",
       "    }\n",
       "</style>\n",
       "<table border=\"1\" class=\"dataframe\">\n",
       "  <thead>\n",
       "    <tr style=\"text-align: right;\">\n",
       "      <th></th>\n",
       "      <th>id_pessoa</th>\n",
       "      <th>idade_pessoa</th>\n",
       "      <th>salario_ano_pessoa</th>\n",
       "      <th>propriedade_pessoa</th>\n",
       "      <th>anos_trabalhados_pessoa</th>\n",
       "      <th>id_emprestimo</th>\n",
       "      <th>motivo_emprestimo</th>\n",
       "      <th>pontuacao_emprestimo</th>\n",
       "      <th>valor_emprestimo</th>\n",
       "      <th>taxa_juros_emprestimo</th>\n",
       "      <th>status_inadimplencia</th>\n",
       "      <th>percentual_emprestimo_salario</th>\n",
       "      <th>id_historico</th>\n",
       "      <th>verifica_inadimplencia</th>\n",
       "      <th>tempo_primeira_solicitacao</th>\n",
       "    </tr>\n",
       "  </thead>\n",
       "  <tbody>\n",
       "    <tr>\n",
       "      <th>0</th>\n",
       "      <td>F9a6bBd9-Xe2o</td>\n",
       "      <td>27</td>\n",
       "      <td>68000</td>\n",
       "      <td>Aluguel</td>\n",
       "      <td>4.0</td>\n",
       "      <td>8HuvzhAq-k7Xi</td>\n",
       "      <td>Melhora_do_lar</td>\n",
       "      <td>A</td>\n",
       "      <td>8700</td>\n",
       "      <td>7.88</td>\n",
       "      <td>0</td>\n",
       "      <td>0.13</td>\n",
       "      <td>L42AQtMx-SEGR</td>\n",
       "      <td>N</td>\n",
       "      <td>5</td>\n",
       "    </tr>\n",
       "    <tr>\n",
       "      <th>1</th>\n",
       "      <td>RSQpYv0W-D6Oo</td>\n",
       "      <td>24</td>\n",
       "      <td>12600</td>\n",
       "      <td>Aluguel</td>\n",
       "      <td>2.0</td>\n",
       "      <td>PDpdl2hQ-Sszr</td>\n",
       "      <td>Empreendimento</td>\n",
       "      <td>C</td>\n",
       "      <td>2500</td>\n",
       "      <td>13.11</td>\n",
       "      <td>1</td>\n",
       "      <td>0.20</td>\n",
       "      <td>oZ2iPvfD-HdIo</td>\n",
       "      <td>Y</td>\n",
       "      <td>2</td>\n",
       "    </tr>\n",
       "    <tr>\n",
       "      <th>2</th>\n",
       "      <td>bRYeof0L-cqHI</td>\n",
       "      <td>30</td>\n",
       "      <td>100000</td>\n",
       "      <td>Aluguel</td>\n",
       "      <td>13.0</td>\n",
       "      <td>0T2YFLWb-IZze</td>\n",
       "      <td>Pagamento_debitos</td>\n",
       "      <td>A</td>\n",
       "      <td>12000</td>\n",
       "      <td>7.88</td>\n",
       "      <td>0</td>\n",
       "      <td>0.12</td>\n",
       "      <td>0Y1a64ag-4RLW</td>\n",
       "      <td>N</td>\n",
       "      <td>9</td>\n",
       "    </tr>\n",
       "    <tr>\n",
       "      <th>3</th>\n",
       "      <td>d0YRlkdZ-nuLT</td>\n",
       "      <td>28</td>\n",
       "      <td>83000</td>\n",
       "      <td>Hipoteca</td>\n",
       "      <td>6.0</td>\n",
       "      <td>xzTEiD3e-BbFZ</td>\n",
       "      <td>Pagamento_debitos</td>\n",
       "      <td>B</td>\n",
       "      <td>5000</td>\n",
       "      <td>0.00</td>\n",
       "      <td>0</td>\n",
       "      <td>0.06</td>\n",
       "      <td>Z5LA433k-5vqf</td>\n",
       "      <td>N</td>\n",
       "      <td>9</td>\n",
       "    </tr>\n",
       "    <tr>\n",
       "      <th>4</th>\n",
       "      <td>njGBnugm-85Dv</td>\n",
       "      <td>30</td>\n",
       "      <td>110400</td>\n",
       "      <td>Aluguel</td>\n",
       "      <td>1.0</td>\n",
       "      <td>QKDlpIm7-sqMC</td>\n",
       "      <td>Empreendimento</td>\n",
       "      <td>D</td>\n",
       "      <td>14000</td>\n",
       "      <td>16.89</td>\n",
       "      <td>1</td>\n",
       "      <td>0.13</td>\n",
       "      <td>ObEkaKZr-9MDa</td>\n",
       "      <td>N</td>\n",
       "      <td>6</td>\n",
       "    </tr>\n",
       "  </tbody>\n",
       "</table>\n",
       "</div>"
      ],
      "text/plain": [
       "       id_pessoa  idade_pessoa  salario_ano_pessoa propriedade_pessoa  \\\n",
       "0  F9a6bBd9-Xe2o            27               68000            Aluguel   \n",
       "1  RSQpYv0W-D6Oo            24               12600            Aluguel   \n",
       "2  bRYeof0L-cqHI            30              100000            Aluguel   \n",
       "3  d0YRlkdZ-nuLT            28               83000           Hipoteca   \n",
       "4  njGBnugm-85Dv            30              110400            Aluguel   \n",
       "\n",
       "   anos_trabalhados_pessoa  id_emprestimo  motivo_emprestimo  \\\n",
       "0                      4.0  8HuvzhAq-k7Xi     Melhora_do_lar   \n",
       "1                      2.0  PDpdl2hQ-Sszr     Empreendimento   \n",
       "2                     13.0  0T2YFLWb-IZze  Pagamento_debitos   \n",
       "3                      6.0  xzTEiD3e-BbFZ  Pagamento_debitos   \n",
       "4                      1.0  QKDlpIm7-sqMC     Empreendimento   \n",
       "\n",
       "  pontuacao_emprestimo  valor_emprestimo  taxa_juros_emprestimo  \\\n",
       "0                    A              8700                   7.88   \n",
       "1                    C              2500                  13.11   \n",
       "2                    A             12000                   7.88   \n",
       "3                    B              5000                   0.00   \n",
       "4                    D             14000                  16.89   \n",
       "\n",
       "   status_inadimplencia  percentual_emprestimo_salario   id_historico  \\\n",
       "0                     0                           0.13  L42AQtMx-SEGR   \n",
       "1                     1                           0.20  oZ2iPvfD-HdIo   \n",
       "2                     0                           0.12  0Y1a64ag-4RLW   \n",
       "3                     0                           0.06  Z5LA433k-5vqf   \n",
       "4                     1                           0.13  ObEkaKZr-9MDa   \n",
       "\n",
       "  verifica_inadimplencia  tempo_primeira_solicitacao  \n",
       "0                      N                           5  \n",
       "1                      Y                           2  \n",
       "2                      N                           9  \n",
       "3                      N                           9  \n",
       "4                      N                           6  "
      ]
     },
     "execution_count": 3,
     "metadata": {},
     "output_type": "execute_result"
    }
   ],
   "source": [
    "import pandas as pd\n",
    "\n",
    "dados = pd.read_csv('data/analise_de_risco.csv', sep=';')\n",
    "\n",
    "dados.head()"
   ]
  },
  {
   "cell_type": "markdown",
   "id": "dbd7a1b7",
   "metadata": {},
   "source": [
    "### 1. Remoção de Dados Nulos"
   ]
  },
  {
   "cell_type": "code",
   "execution_count": 4,
   "id": "a285c50a",
   "metadata": {
    "scrolled": true
   },
   "outputs": [
    {
     "name": "stdout",
     "output_type": "stream",
     "text": [
      "<class 'pandas.core.frame.DataFrame'>\n",
      "RangeIndex: 34485 entries, 0 to 34484\n",
      "Data columns (total 15 columns):\n",
      " #   Column                         Non-Null Count  Dtype  \n",
      "---  ------                         --------------  -----  \n",
      " 0   id_pessoa                      34485 non-null  object \n",
      " 1   idade_pessoa                   34485 non-null  int64  \n",
      " 2   salario_ano_pessoa             34485 non-null  int64  \n",
      " 3   propriedade_pessoa             34154 non-null  object \n",
      " 4   anos_trabalhados_pessoa        34485 non-null  float64\n",
      " 5   id_emprestimo                  34485 non-null  object \n",
      " 6   motivo_emprestimo              34174 non-null  object \n",
      " 7   pontuacao_emprestimo           34176 non-null  object \n",
      " 8   valor_emprestimo               34485 non-null  int64  \n",
      " 9   taxa_juros_emprestimo          34485 non-null  float64\n",
      " 10  status_inadimplencia           34485 non-null  int64  \n",
      " 11  percentual_emprestimo_salario  34485 non-null  float64\n",
      " 12  id_historico                   34485 non-null  object \n",
      " 13  verifica_inadimplencia         34119 non-null  object \n",
      " 14  tempo_primeira_solicitacao     34485 non-null  int64  \n",
      "dtypes: float64(3), int64(5), object(7)\n",
      "memory usage: 3.9+ MB\n"
     ]
    }
   ],
   "source": [
    "dados.info()"
   ]
  },
  {
   "cell_type": "code",
   "execution_count": 5,
   "id": "1b764631",
   "metadata": {},
   "outputs": [],
   "source": [
    "dados = dados.dropna(axis = 0)"
   ]
  },
  {
   "cell_type": "code",
   "execution_count": 6,
   "id": "798309ec",
   "metadata": {},
   "outputs": [
    {
     "name": "stdout",
     "output_type": "stream",
     "text": [
      "<class 'pandas.core.frame.DataFrame'>\n",
      "Int64Index: 33360 entries, 0 to 34484\n",
      "Data columns (total 15 columns):\n",
      " #   Column                         Non-Null Count  Dtype  \n",
      "---  ------                         --------------  -----  \n",
      " 0   id_pessoa                      33360 non-null  object \n",
      " 1   idade_pessoa                   33360 non-null  int64  \n",
      " 2   salario_ano_pessoa             33360 non-null  int64  \n",
      " 3   propriedade_pessoa             33360 non-null  object \n",
      " 4   anos_trabalhados_pessoa        33360 non-null  float64\n",
      " 5   id_emprestimo                  33360 non-null  object \n",
      " 6   motivo_emprestimo              33360 non-null  object \n",
      " 7   pontuacao_emprestimo           33360 non-null  object \n",
      " 8   valor_emprestimo               33360 non-null  int64  \n",
      " 9   taxa_juros_emprestimo          33360 non-null  float64\n",
      " 10  status_inadimplencia           33360 non-null  int64  \n",
      " 11  percentual_emprestimo_salario  33360 non-null  float64\n",
      " 12  id_historico                   33360 non-null  object \n",
      " 13  verifica_inadimplencia         33360 non-null  object \n",
      " 14  tempo_primeira_solicitacao     33360 non-null  int64  \n",
      "dtypes: float64(3), int64(5), object(7)\n",
      "memory usage: 4.1+ MB\n"
     ]
    }
   ],
   "source": [
    "dados.info()"
   ]
  },
  {
   "cell_type": "markdown",
   "id": "34e56649",
   "metadata": {},
   "source": [
    "### 2. Tratamento de Outliers"
   ]
  },
  {
   "cell_type": "code",
   "execution_count": 7,
   "id": "3c0a2438",
   "metadata": {
    "scrolled": true
   },
   "outputs": [
    {
     "data": {
      "text/html": [
       "<div>\n",
       "<style scoped>\n",
       "    .dataframe tbody tr th:only-of-type {\n",
       "        vertical-align: middle;\n",
       "    }\n",
       "\n",
       "    .dataframe tbody tr th {\n",
       "        vertical-align: top;\n",
       "    }\n",
       "\n",
       "    .dataframe thead th {\n",
       "        text-align: right;\n",
       "    }\n",
       "</style>\n",
       "<table border=\"1\" class=\"dataframe\">\n",
       "  <thead>\n",
       "    <tr style=\"text-align: right;\">\n",
       "      <th></th>\n",
       "      <th>idade_pessoa</th>\n",
       "      <th>salario_ano_pessoa</th>\n",
       "      <th>anos_trabalhados_pessoa</th>\n",
       "      <th>valor_emprestimo</th>\n",
       "      <th>taxa_juros_emprestimo</th>\n",
       "      <th>status_inadimplencia</th>\n",
       "      <th>percentual_emprestimo_salario</th>\n",
       "      <th>tempo_primeira_solicitacao</th>\n",
       "    </tr>\n",
       "  </thead>\n",
       "  <tbody>\n",
       "    <tr>\n",
       "      <th>count</th>\n",
       "      <td>33360.000000</td>\n",
       "      <td>3.336000e+04</td>\n",
       "      <td>33360.000000</td>\n",
       "      <td>33360.000000</td>\n",
       "      <td>33360.000000</td>\n",
       "      <td>33360.000000</td>\n",
       "      <td>33360.000000</td>\n",
       "      <td>33360.000000</td>\n",
       "    </tr>\n",
       "    <tr>\n",
       "      <th>mean</th>\n",
       "      <td>27.561721</td>\n",
       "      <td>6.564681e+04</td>\n",
       "      <td>4.628567</td>\n",
       "      <td>9529.754197</td>\n",
       "      <td>9.893280</td>\n",
       "      <td>0.216457</td>\n",
       "      <td>0.169135</td>\n",
       "      <td>5.807374</td>\n",
       "    </tr>\n",
       "    <tr>\n",
       "      <th>std</th>\n",
       "      <td>6.698419</td>\n",
       "      <td>6.174520e+04</td>\n",
       "      <td>4.159946</td>\n",
       "      <td>6348.596166</td>\n",
       "      <td>4.523957</td>\n",
       "      <td>0.411835</td>\n",
       "      <td>0.107204</td>\n",
       "      <td>4.057953</td>\n",
       "    </tr>\n",
       "    <tr>\n",
       "      <th>min</th>\n",
       "      <td>0.000000</td>\n",
       "      <td>0.000000e+00</td>\n",
       "      <td>0.000000</td>\n",
       "      <td>0.000000</td>\n",
       "      <td>0.000000</td>\n",
       "      <td>0.000000</td>\n",
       "      <td>0.000000</td>\n",
       "      <td>2.000000</td>\n",
       "    </tr>\n",
       "    <tr>\n",
       "      <th>25%</th>\n",
       "      <td>23.000000</td>\n",
       "      <td>3.827100e+04</td>\n",
       "      <td>2.000000</td>\n",
       "      <td>5000.000000</td>\n",
       "      <td>7.490000</td>\n",
       "      <td>0.000000</td>\n",
       "      <td>0.090000</td>\n",
       "      <td>3.000000</td>\n",
       "    </tr>\n",
       "    <tr>\n",
       "      <th>50%</th>\n",
       "      <td>26.000000</td>\n",
       "      <td>5.500000e+04</td>\n",
       "      <td>4.000000</td>\n",
       "      <td>8000.000000</td>\n",
       "      <td>10.620000</td>\n",
       "      <td>0.000000</td>\n",
       "      <td>0.150000</td>\n",
       "      <td>4.000000</td>\n",
       "    </tr>\n",
       "    <tr>\n",
       "      <th>75%</th>\n",
       "      <td>30.000000</td>\n",
       "      <td>7.900000e+04</td>\n",
       "      <td>7.000000</td>\n",
       "      <td>12000.000000</td>\n",
       "      <td>13.110000</td>\n",
       "      <td>0.000000</td>\n",
       "      <td>0.230000</td>\n",
       "      <td>8.000000</td>\n",
       "    </tr>\n",
       "    <tr>\n",
       "      <th>max</th>\n",
       "      <td>144.000000</td>\n",
       "      <td>6.000000e+06</td>\n",
       "      <td>123.000000</td>\n",
       "      <td>35000.000000</td>\n",
       "      <td>23.220000</td>\n",
       "      <td>1.000000</td>\n",
       "      <td>0.830000</td>\n",
       "      <td>30.000000</td>\n",
       "    </tr>\n",
       "  </tbody>\n",
       "</table>\n",
       "</div>"
      ],
      "text/plain": [
       "       idade_pessoa  salario_ano_pessoa  anos_trabalhados_pessoa  \\\n",
       "count  33360.000000        3.336000e+04             33360.000000   \n",
       "mean      27.561721        6.564681e+04                 4.628567   \n",
       "std        6.698419        6.174520e+04                 4.159946   \n",
       "min        0.000000        0.000000e+00                 0.000000   \n",
       "25%       23.000000        3.827100e+04                 2.000000   \n",
       "50%       26.000000        5.500000e+04                 4.000000   \n",
       "75%       30.000000        7.900000e+04                 7.000000   \n",
       "max      144.000000        6.000000e+06               123.000000   \n",
       "\n",
       "       valor_emprestimo  taxa_juros_emprestimo  status_inadimplencia  \\\n",
       "count      33360.000000           33360.000000          33360.000000   \n",
       "mean        9529.754197               9.893280              0.216457   \n",
       "std         6348.596166               4.523957              0.411835   \n",
       "min            0.000000               0.000000              0.000000   \n",
       "25%         5000.000000               7.490000              0.000000   \n",
       "50%         8000.000000              10.620000              0.000000   \n",
       "75%        12000.000000              13.110000              0.000000   \n",
       "max        35000.000000              23.220000              1.000000   \n",
       "\n",
       "       percentual_emprestimo_salario  tempo_primeira_solicitacao  \n",
       "count                   33360.000000                33360.000000  \n",
       "mean                        0.169135                    5.807374  \n",
       "std                         0.107204                    4.057953  \n",
       "min                         0.000000                    2.000000  \n",
       "25%                         0.090000                    3.000000  \n",
       "50%                         0.150000                    4.000000  \n",
       "75%                         0.230000                    8.000000  \n",
       "max                         0.830000                   30.000000  "
      ]
     },
     "execution_count": 7,
     "metadata": {},
     "output_type": "execute_result"
    }
   ],
   "source": [
    "dados.describe()"
   ]
  },
  {
   "cell_type": "markdown",
   "id": "b2daee75",
   "metadata": {},
   "source": [
    "Na primeira coluna 'idade_pessoa' notamos que o valor maximo é de 144 anos e o valor mínimo 0 anos. Isso representa claramente outliers em nossa base de dados."
   ]
  },
  {
   "cell_type": "code",
   "execution_count": 14,
   "id": "fc548f68",
   "metadata": {},
   "outputs": [
    {
     "data": {
      "text/plain": [
       "<AxesSubplot:>"
      ]
     },
     "execution_count": 14,
     "metadata": {},
     "output_type": "execute_result"
    },
    {
     "data": {
      "image/png": "[encoded data removed]",
      "text/plain": [
       "<Figure size 720x360 with 1 Axes>"
      ]
     },
     "metadata": {
      "needs_background": "light"
     },
     "output_type": "display_data"
    }
   ],
   "source": [
    "import matplotlib.pyplot as plt\n",
    "\n",
    "plt.figure(figsize=(10,5))\n",
    "dados.boxplot(column = ['idade_pessoa'])"
   ]
  },
  {
   "cell_type": "markdown",
   "id": "c62bb6c5",
   "metadata": {},
   "source": [
    "Pelo BoxPlot é possível notar uma grande quantidade de pessoas com idade = 0 e acima dos 85 anos já parecem estar muito longe dos dados comuns que temos. Visto isso, iremos tratar para não afetar nosso modelo"
   ]
  },
  {
   "cell_type": "code",
   "execution_count": 36,
   "id": "7403af6b",
   "metadata": {},
   "outputs": [],
   "source": [
    "dados_idade_out = dados.loc[dados.idade_pessoa > 18]\n",
    "dados_idade_out2 = dados_idade_out.loc[dados_idade_out.idade_pessoa < 85]"
   ]
  },
  {
   "cell_type": "code",
   "execution_count": 38,
   "id": "6d416b59",
   "metadata": {},
   "outputs": [
    {
     "data": {
      "text/plain": [
       "<AxesSubplot:>"
      ]
     },
     "execution_count": 38,
     "metadata": {},
     "output_type": "execute_result"
    },
    {
     "data": {
      "image/png": "[encoded data removed]",
      "text/plain": [
       "<Figure size 720x360 with 1 Axes>"
      ]
     },
     "metadata": {
      "needs_background": "light"
     },
     "output_type": "display_data"
    }
   ],
   "source": [
    "plt.figure(figsize=(10,5))\n",
    "dados_idade_out2.boxplot(column = ['idade_pessoa'])"
   ]
  },
  {
   "cell_type": "markdown",
   "id": "d02f0d86",
   "metadata": {},
   "source": [
    "Agora ja temos uma melhora na dispersão de dados comparado com anteriormente"
   ]
  },
  {
   "cell_type": "code",
   "execution_count": 43,
   "id": "a545acec",
   "metadata": {},
   "outputs": [
    {
     "data": {
      "text/html": [
       "<div>\n",
       "<style scoped>\n",
       "    .dataframe tbody tr th:only-of-type {\n",
       "        vertical-align: middle;\n",
       "    }\n",
       "\n",
       "    .dataframe tbody tr th {\n",
       "        vertical-align: top;\n",
       "    }\n",
       "\n",
       "    .dataframe thead th {\n",
       "        text-align: right;\n",
       "    }\n",
       "</style>\n",
       "<table border=\"1\" class=\"dataframe\">\n",
       "  <thead>\n",
       "    <tr style=\"text-align: right;\">\n",
       "      <th></th>\n",
       "      <th>idade_pessoa</th>\n",
       "      <th>salario_ano_pessoa</th>\n",
       "      <th>anos_trabalhados_pessoa</th>\n",
       "      <th>valor_emprestimo</th>\n",
       "      <th>taxa_juros_emprestimo</th>\n",
       "      <th>status_inadimplencia</th>\n",
       "      <th>percentual_emprestimo_salario</th>\n",
       "      <th>tempo_primeira_solicitacao</th>\n",
       "    </tr>\n",
       "  </thead>\n",
       "  <tbody>\n",
       "    <tr>\n",
       "      <th>count</th>\n",
       "      <td>33146.000000</td>\n",
       "      <td>3.314600e+04</td>\n",
       "      <td>33146.000000</td>\n",
       "      <td>33146.000000</td>\n",
       "      <td>33146.000000</td>\n",
       "      <td>33146.000000</td>\n",
       "      <td>33146.000000</td>\n",
       "      <td>33146.000000</td>\n",
       "    </tr>\n",
       "    <tr>\n",
       "      <th>mean</th>\n",
       "      <td>27.716376</td>\n",
       "      <td>6.554003e+04</td>\n",
       "      <td>4.632746</td>\n",
       "      <td>9535.114343</td>\n",
       "      <td>9.902509</td>\n",
       "      <td>0.216678</td>\n",
       "      <td>0.169280</td>\n",
       "      <td>5.801092</td>\n",
       "    </tr>\n",
       "    <tr>\n",
       "      <th>std</th>\n",
       "      <td>6.201413</td>\n",
       "      <td>5.253935e+04</td>\n",
       "      <td>4.158681</td>\n",
       "      <td>6343.415706</td>\n",
       "      <td>4.516430</td>\n",
       "      <td>0.411987</td>\n",
       "      <td>0.107184</td>\n",
       "      <td>4.048721</td>\n",
       "    </tr>\n",
       "    <tr>\n",
       "      <th>min</th>\n",
       "      <td>20.000000</td>\n",
       "      <td>0.000000e+00</td>\n",
       "      <td>0.000000</td>\n",
       "      <td>0.000000</td>\n",
       "      <td>0.000000</td>\n",
       "      <td>0.000000</td>\n",
       "      <td>0.000000</td>\n",
       "      <td>2.000000</td>\n",
       "    </tr>\n",
       "    <tr>\n",
       "      <th>25%</th>\n",
       "      <td>23.000000</td>\n",
       "      <td>3.840000e+04</td>\n",
       "      <td>2.000000</td>\n",
       "      <td>5000.000000</td>\n",
       "      <td>7.490000</td>\n",
       "      <td>0.000000</td>\n",
       "      <td>0.090000</td>\n",
       "      <td>3.000000</td>\n",
       "    </tr>\n",
       "    <tr>\n",
       "      <th>50%</th>\n",
       "      <td>26.000000</td>\n",
       "      <td>5.500000e+04</td>\n",
       "      <td>4.000000</td>\n",
       "      <td>8000.000000</td>\n",
       "      <td>10.620000</td>\n",
       "      <td>0.000000</td>\n",
       "      <td>0.150000</td>\n",
       "      <td>4.000000</td>\n",
       "    </tr>\n",
       "    <tr>\n",
       "      <th>75%</th>\n",
       "      <td>30.000000</td>\n",
       "      <td>7.900000e+04</td>\n",
       "      <td>7.000000</td>\n",
       "      <td>12000.000000</td>\n",
       "      <td>13.110000</td>\n",
       "      <td>0.000000</td>\n",
       "      <td>0.230000</td>\n",
       "      <td>8.000000</td>\n",
       "    </tr>\n",
       "    <tr>\n",
       "      <th>max</th>\n",
       "      <td>84.000000</td>\n",
       "      <td>2.039784e+06</td>\n",
       "      <td>123.000000</td>\n",
       "      <td>35000.000000</td>\n",
       "      <td>23.220000</td>\n",
       "      <td>1.000000</td>\n",
       "      <td>0.830000</td>\n",
       "      <td>30.000000</td>\n",
       "    </tr>\n",
       "  </tbody>\n",
       "</table>\n",
       "</div>"
      ],
      "text/plain": [
       "       idade_pessoa  salario_ano_pessoa  anos_trabalhados_pessoa  \\\n",
       "count  33146.000000        3.314600e+04             33146.000000   \n",
       "mean      27.716376        6.554003e+04                 4.632746   \n",
       "std        6.201413        5.253935e+04                 4.158681   \n",
       "min       20.000000        0.000000e+00                 0.000000   \n",
       "25%       23.000000        3.840000e+04                 2.000000   \n",
       "50%       26.000000        5.500000e+04                 4.000000   \n",
       "75%       30.000000        7.900000e+04                 7.000000   \n",
       "max       84.000000        2.039784e+06               123.000000   \n",
       "\n",
       "       valor_emprestimo  taxa_juros_emprestimo  status_inadimplencia  \\\n",
       "count      33146.000000           33146.000000          33146.000000   \n",
       "mean        9535.114343               9.902509              0.216678   \n",
       "std         6343.415706               4.516430              0.411987   \n",
       "min            0.000000               0.000000              0.000000   \n",
       "25%         5000.000000               7.490000              0.000000   \n",
       "50%         8000.000000              10.620000              0.000000   \n",
       "75%        12000.000000              13.110000              0.000000   \n",
       "max        35000.000000              23.220000              1.000000   \n",
       "\n",
       "       percentual_emprestimo_salario  tempo_primeira_solicitacao  \n",
       "count                   33146.000000                33146.000000  \n",
       "mean                        0.169280                    5.801092  \n",
       "std                         0.107184                    4.048721  \n",
       "min                         0.000000                    2.000000  \n",
       "25%                         0.090000                    3.000000  \n",
       "50%                         0.150000                    4.000000  \n",
       "75%                         0.230000                    8.000000  \n",
       "max                         0.830000                   30.000000  "
      ]
     },
     "execution_count": 43,
     "metadata": {},
     "output_type": "execute_result"
    }
   ],
   "source": [
    "dados_idade_out2.describe()"
   ]
  },
  {
   "cell_type": "code",
   "execution_count": 83,
   "id": "63476804",
   "metadata": {},
   "outputs": [
    {
     "data": {
      "text/plain": [
       "<AxesSubplot:>"
      ]
     },
     "execution_count": 83,
     "metadata": {},
     "output_type": "execute_result"
    },
    {
     "data": {
      "image/png": "[encoded data removed]",
      "text/plain": [
       "<Figure size 720x360 with 1 Axes>"
      ]
     },
     "metadata": {
      "needs_background": "light"
     },
     "output_type": "display_data"
    }
   ],
   "source": [
    "plt.figure(figsize=(10,5))\n",
    "dados_idade_out2.boxplot(column = ['salario_ano_pessoa'])"
   ]
  },
  {
   "cell_type": "markdown",
   "id": "2ea88218",
   "metadata": {},
   "source": [
    "Pode ser visto que acima de poucas pessoas posuem o salario acima dos 1 milhão anuais e pessoas que não ganham nenhum salário anual parece não fazer sentido para o que queremos. Iremos tratar isso !"
   ]
  },
  {
   "cell_type": "code",
   "execution_count": 60,
   "id": "1f5dd2b0",
   "metadata": {},
   "outputs": [],
   "source": [
    "dados_salario_ano = dados_idade_out2.loc[dados_idade_out2.salario_ano_pessoa < 1000000]\n",
    "dados_salario_ano2 = dados_salario_ano.loc[dados_salario_ano.salario_ano_pessoa > 0]"
   ]
  },
  {
   "cell_type": "code",
   "execution_count": 84,
   "id": "a1e5bdb6",
   "metadata": {},
   "outputs": [
    {
     "data": {
      "text/plain": [
       "<AxesSubplot:>"
      ]
     },
     "execution_count": 84,
     "metadata": {},
     "output_type": "execute_result"
    },
    {
     "data": {
      "image/png": "[encoded data removed]",
      "text/plain": [
       "<Figure size 720x360 with 1 Axes>"
      ]
     },
     "metadata": {
      "needs_background": "light"
     },
     "output_type": "display_data"
    }
   ],
   "source": [
    "plt.figure(figsize=(10,5))\n",
    "dados_salario_ano2.boxplot(column = ['salario_ano_pessoa'])"
   ]
  },
  {
   "cell_type": "code",
   "execution_count": 63,
   "id": "23795531",
   "metadata": {},
   "outputs": [
    {
     "data": {
      "text/html": [
       "<div>\n",
       "<style scoped>\n",
       "    .dataframe tbody tr th:only-of-type {\n",
       "        vertical-align: middle;\n",
       "    }\n",
       "\n",
       "    .dataframe tbody tr th {\n",
       "        vertical-align: top;\n",
       "    }\n",
       "\n",
       "    .dataframe thead th {\n",
       "        text-align: right;\n",
       "    }\n",
       "</style>\n",
       "<table border=\"1\" class=\"dataframe\">\n",
       "  <thead>\n",
       "    <tr style=\"text-align: right;\">\n",
       "      <th></th>\n",
       "      <th>idade_pessoa</th>\n",
       "      <th>salario_ano_pessoa</th>\n",
       "      <th>anos_trabalhados_pessoa</th>\n",
       "      <th>valor_emprestimo</th>\n",
       "      <th>taxa_juros_emprestimo</th>\n",
       "      <th>status_inadimplencia</th>\n",
       "      <th>percentual_emprestimo_salario</th>\n",
       "      <th>tempo_primeira_solicitacao</th>\n",
       "    </tr>\n",
       "  </thead>\n",
       "  <tbody>\n",
       "    <tr>\n",
       "      <th>count</th>\n",
       "      <td>32973.000000</td>\n",
       "      <td>32973.000000</td>\n",
       "      <td>32973.000000</td>\n",
       "      <td>32973.000000</td>\n",
       "      <td>32973.000000</td>\n",
       "      <td>32973.000000</td>\n",
       "      <td>32973.000000</td>\n",
       "      <td>32973.000000</td>\n",
       "    </tr>\n",
       "    <tr>\n",
       "      <th>mean</th>\n",
       "      <td>27.713281</td>\n",
       "      <td>65516.216268</td>\n",
       "      <td>4.635763</td>\n",
       "      <td>9544.211173</td>\n",
       "      <td>9.912245</td>\n",
       "      <td>0.217147</td>\n",
       "      <td>0.169393</td>\n",
       "      <td>5.798441</td>\n",
       "    </tr>\n",
       "    <tr>\n",
       "      <th>std</th>\n",
       "      <td>6.192305</td>\n",
       "      <td>47099.566872</td>\n",
       "      <td>4.158444</td>\n",
       "      <td>6340.027808</td>\n",
       "      <td>4.507023</td>\n",
       "      <td>0.412310</td>\n",
       "      <td>0.107037</td>\n",
       "      <td>4.046236</td>\n",
       "    </tr>\n",
       "    <tr>\n",
       "      <th>min</th>\n",
       "      <td>20.000000</td>\n",
       "      <td>4000.000000</td>\n",
       "      <td>0.000000</td>\n",
       "      <td>0.000000</td>\n",
       "      <td>0.000000</td>\n",
       "      <td>0.000000</td>\n",
       "      <td>0.000000</td>\n",
       "      <td>2.000000</td>\n",
       "    </tr>\n",
       "    <tr>\n",
       "      <th>25%</th>\n",
       "      <td>23.000000</td>\n",
       "      <td>38500.000000</td>\n",
       "      <td>2.000000</td>\n",
       "      <td>5000.000000</td>\n",
       "      <td>7.490000</td>\n",
       "      <td>0.000000</td>\n",
       "      <td>0.090000</td>\n",
       "      <td>3.000000</td>\n",
       "    </tr>\n",
       "    <tr>\n",
       "      <th>50%</th>\n",
       "      <td>26.000000</td>\n",
       "      <td>55000.000000</td>\n",
       "      <td>4.000000</td>\n",
       "      <td>8000.000000</td>\n",
       "      <td>10.620000</td>\n",
       "      <td>0.000000</td>\n",
       "      <td>0.150000</td>\n",
       "      <td>4.000000</td>\n",
       "    </tr>\n",
       "    <tr>\n",
       "      <th>75%</th>\n",
       "      <td>30.000000</td>\n",
       "      <td>79200.000000</td>\n",
       "      <td>7.000000</td>\n",
       "      <td>12000.000000</td>\n",
       "      <td>13.110000</td>\n",
       "      <td>0.000000</td>\n",
       "      <td>0.230000</td>\n",
       "      <td>8.000000</td>\n",
       "    </tr>\n",
       "    <tr>\n",
       "      <th>max</th>\n",
       "      <td>84.000000</td>\n",
       "      <td>948000.000000</td>\n",
       "      <td>123.000000</td>\n",
       "      <td>35000.000000</td>\n",
       "      <td>23.220000</td>\n",
       "      <td>1.000000</td>\n",
       "      <td>0.830000</td>\n",
       "      <td>30.000000</td>\n",
       "    </tr>\n",
       "  </tbody>\n",
       "</table>\n",
       "</div>"
      ],
      "text/plain": [
       "       idade_pessoa  salario_ano_pessoa  anos_trabalhados_pessoa  \\\n",
       "count  32973.000000        32973.000000             32973.000000   \n",
       "mean      27.713281        65516.216268                 4.635763   \n",
       "std        6.192305        47099.566872                 4.158444   \n",
       "min       20.000000         4000.000000                 0.000000   \n",
       "25%       23.000000        38500.000000                 2.000000   \n",
       "50%       26.000000        55000.000000                 4.000000   \n",
       "75%       30.000000        79200.000000                 7.000000   \n",
       "max       84.000000       948000.000000               123.000000   \n",
       "\n",
       "       valor_emprestimo  taxa_juros_emprestimo  status_inadimplencia  \\\n",
       "count      32973.000000           32973.000000          32973.000000   \n",
       "mean        9544.211173               9.912245              0.217147   \n",
       "std         6340.027808               4.507023              0.412310   \n",
       "min            0.000000               0.000000              0.000000   \n",
       "25%         5000.000000               7.490000              0.000000   \n",
       "50%         8000.000000              10.620000              0.000000   \n",
       "75%        12000.000000              13.110000              0.000000   \n",
       "max        35000.000000              23.220000              1.000000   \n",
       "\n",
       "       percentual_emprestimo_salario  tempo_primeira_solicitacao  \n",
       "count                   32973.000000                32973.000000  \n",
       "mean                        0.169393                    5.798441  \n",
       "std                         0.107037                    4.046236  \n",
       "min                         0.000000                    2.000000  \n",
       "25%                         0.090000                    3.000000  \n",
       "50%                         0.150000                    4.000000  \n",
       "75%                         0.230000                    8.000000  \n",
       "max                         0.830000                   30.000000  "
      ]
     },
     "execution_count": 63,
     "metadata": {},
     "output_type": "execute_result"
    }
   ],
   "source": [
    "dados_salario_ano2.describe()"
   ]
  },
  {
   "cell_type": "code",
   "execution_count": 85,
   "id": "ebf4f12f",
   "metadata": {},
   "outputs": [
    {
     "data": {
      "text/plain": [
       "<AxesSubplot:>"
      ]
     },
     "execution_count": 85,
     "metadata": {},
     "output_type": "execute_result"
    },
    {
     "data": {
      "image/png": "[encoded data removed]",
      "text/plain": [
       "<Figure size 720x360 with 1 Axes>"
      ]
     },
     "metadata": {
      "needs_background": "light"
     },
     "output_type": "display_data"
    }
   ],
   "source": [
    "plt.figure(figsize=(10,5))\n",
    "dados_salario_ano2.boxplot(column = ['anos_trabalhados_pessoa'])"
   ]
  },
  {
   "cell_type": "markdown",
   "id": "4cad5d95",
   "metadata": {},
   "source": [
    "Vemos que temos um dado acima de 120 anos de trabalho, o que é impossível. Iremos remover esse dado."
   ]
  },
  {
   "cell_type": "code",
   "execution_count": 67,
   "id": "a1782537",
   "metadata": {},
   "outputs": [],
   "source": [
    "dados_anos_trabalhados = dados_salario_ano2.loc[dados_salario_ano2.anos_trabalhados_pessoa < 100]"
   ]
  },
  {
   "cell_type": "code",
   "execution_count": 86,
   "id": "db015f08",
   "metadata": {},
   "outputs": [
    {
     "data": {
      "text/plain": [
       "<AxesSubplot:>"
      ]
     },
     "execution_count": 86,
     "metadata": {},
     "output_type": "execute_result"
    },
    {
     "data": {
      "image/png": "[encoded data removed]",
      "text/plain": [
       "<Figure size 720x360 with 1 Axes>"
      ]
     },
     "metadata": {
      "needs_background": "light"
     },
     "output_type": "display_data"
    }
   ],
   "source": [
    "plt.figure(figsize=(10,5))\n",
    "dados_anos_trabalhados.boxplot(column = ['anos_trabalhados_pessoa'])"
   ]
  },
  {
   "cell_type": "code",
   "execution_count": 78,
   "id": "4d2ef4c3",
   "metadata": {},
   "outputs": [
    {
     "data": {
      "text/html": [
       "<div>\n",
       "<style scoped>\n",
       "    .dataframe tbody tr th:only-of-type {\n",
       "        vertical-align: middle;\n",
       "    }\n",
       "\n",
       "    .dataframe tbody tr th {\n",
       "        vertical-align: top;\n",
       "    }\n",
       "\n",
       "    .dataframe thead th {\n",
       "        text-align: right;\n",
       "    }\n",
       "</style>\n",
       "<table border=\"1\" class=\"dataframe\">\n",
       "  <thead>\n",
       "    <tr style=\"text-align: right;\">\n",
       "      <th></th>\n",
       "      <th>idade_pessoa</th>\n",
       "      <th>salario_ano_pessoa</th>\n",
       "      <th>anos_trabalhados_pessoa</th>\n",
       "      <th>valor_emprestimo</th>\n",
       "      <th>taxa_juros_emprestimo</th>\n",
       "      <th>status_inadimplencia</th>\n",
       "      <th>percentual_emprestimo_salario</th>\n",
       "      <th>tempo_primeira_solicitacao</th>\n",
       "    </tr>\n",
       "  </thead>\n",
       "  <tbody>\n",
       "    <tr>\n",
       "      <th>count</th>\n",
       "      <td>32971.000000</td>\n",
       "      <td>32971.000000</td>\n",
       "      <td>32971.000000</td>\n",
       "      <td>32971.000000</td>\n",
       "      <td>32971.000000</td>\n",
       "      <td>32971.000000</td>\n",
       "      <td>32971.000000</td>\n",
       "      <td>32971.000000</td>\n",
       "    </tr>\n",
       "    <tr>\n",
       "      <th>mean</th>\n",
       "      <td>27.713657</td>\n",
       "      <td>65512.577689</td>\n",
       "      <td>4.628583</td>\n",
       "      <td>9543.121986</td>\n",
       "      <td>9.912162</td>\n",
       "      <td>0.217130</td>\n",
       "      <td>0.169382</td>\n",
       "      <td>5.798581</td>\n",
       "    </tr>\n",
       "    <tr>\n",
       "      <th>std</th>\n",
       "      <td>6.192302</td>\n",
       "      <td>47095.830324</td>\n",
       "      <td>4.055094</td>\n",
       "      <td>6338.408299</td>\n",
       "      <td>4.506996</td>\n",
       "      <td>0.412298</td>\n",
       "      <td>0.107014</td>\n",
       "      <td>4.046317</td>\n",
       "    </tr>\n",
       "    <tr>\n",
       "      <th>min</th>\n",
       "      <td>20.000000</td>\n",
       "      <td>4000.000000</td>\n",
       "      <td>0.000000</td>\n",
       "      <td>0.000000</td>\n",
       "      <td>0.000000</td>\n",
       "      <td>0.000000</td>\n",
       "      <td>0.000000</td>\n",
       "      <td>2.000000</td>\n",
       "    </tr>\n",
       "    <tr>\n",
       "      <th>25%</th>\n",
       "      <td>23.000000</td>\n",
       "      <td>38500.000000</td>\n",
       "      <td>2.000000</td>\n",
       "      <td>5000.000000</td>\n",
       "      <td>7.490000</td>\n",
       "      <td>0.000000</td>\n",
       "      <td>0.090000</td>\n",
       "      <td>3.000000</td>\n",
       "    </tr>\n",
       "    <tr>\n",
       "      <th>50%</th>\n",
       "      <td>26.000000</td>\n",
       "      <td>55000.000000</td>\n",
       "      <td>4.000000</td>\n",
       "      <td>8000.000000</td>\n",
       "      <td>10.620000</td>\n",
       "      <td>0.000000</td>\n",
       "      <td>0.150000</td>\n",
       "      <td>4.000000</td>\n",
       "    </tr>\n",
       "    <tr>\n",
       "      <th>75%</th>\n",
       "      <td>30.000000</td>\n",
       "      <td>79200.000000</td>\n",
       "      <td>7.000000</td>\n",
       "      <td>12000.000000</td>\n",
       "      <td>13.110000</td>\n",
       "      <td>0.000000</td>\n",
       "      <td>0.230000</td>\n",
       "      <td>8.000000</td>\n",
       "    </tr>\n",
       "    <tr>\n",
       "      <th>max</th>\n",
       "      <td>84.000000</td>\n",
       "      <td>948000.000000</td>\n",
       "      <td>41.000000</td>\n",
       "      <td>35000.000000</td>\n",
       "      <td>23.220000</td>\n",
       "      <td>1.000000</td>\n",
       "      <td>0.830000</td>\n",
       "      <td>30.000000</td>\n",
       "    </tr>\n",
       "  </tbody>\n",
       "</table>\n",
       "</div>"
      ],
      "text/plain": [
       "       idade_pessoa  salario_ano_pessoa  anos_trabalhados_pessoa  \\\n",
       "count  32971.000000        32971.000000             32971.000000   \n",
       "mean      27.713657        65512.577689                 4.628583   \n",
       "std        6.192302        47095.830324                 4.055094   \n",
       "min       20.000000         4000.000000                 0.000000   \n",
       "25%       23.000000        38500.000000                 2.000000   \n",
       "50%       26.000000        55000.000000                 4.000000   \n",
       "75%       30.000000        79200.000000                 7.000000   \n",
       "max       84.000000       948000.000000                41.000000   \n",
       "\n",
       "       valor_emprestimo  taxa_juros_emprestimo  status_inadimplencia  \\\n",
       "count      32971.000000           32971.000000          32971.000000   \n",
       "mean        9543.121986               9.912162              0.217130   \n",
       "std         6338.408299               4.506996              0.412298   \n",
       "min            0.000000               0.000000              0.000000   \n",
       "25%         5000.000000               7.490000              0.000000   \n",
       "50%         8000.000000              10.620000              0.000000   \n",
       "75%        12000.000000              13.110000              0.000000   \n",
       "max        35000.000000              23.220000              1.000000   \n",
       "\n",
       "       percentual_emprestimo_salario  tempo_primeira_solicitacao  \n",
       "count                   32971.000000                32971.000000  \n",
       "mean                        0.169382                    5.798581  \n",
       "std                         0.107014                    4.046317  \n",
       "min                         0.000000                    2.000000  \n",
       "25%                         0.090000                    3.000000  \n",
       "50%                         0.150000                    4.000000  \n",
       "75%                         0.230000                    8.000000  \n",
       "max                         0.830000                   30.000000  "
      ]
     },
     "execution_count": 78,
     "metadata": {},
     "output_type": "execute_result"
    }
   ],
   "source": [
    "dados.describe()"
   ]
  },
  {
   "cell_type": "markdown",
   "id": "8de19ee9",
   "metadata": {},
   "source": [
    "O valor do emprestimo não pode ser igual a zero, logo iremos eliminar esses registros. Da mesma maneira a taxa de juros ser zero se tratando de um emprestimo parece ser também um outlier. Vamos tratar essas duas colunas"
   ]
  },
  {
   "cell_type": "code",
   "execution_count": 79,
   "id": "7e7c0387",
   "metadata": {},
   "outputs": [],
   "source": [
    "dados_valor_emprestimo = dados_anos_trabalhados.loc[dados_anos_trabalhados.valor_emprestimo > 0]\n",
    "dados_taxa_juros = dados_valor_emprestimo.loc[dados_valor_emprestimo.taxa_juros_emprestimo > 0]"
   ]
  },
  {
   "cell_type": "code",
   "execution_count": 80,
   "id": "ab273df8",
   "metadata": {},
   "outputs": [],
   "source": [
    "dados = dados_taxa_juros"
   ]
  },
  {
   "cell_type": "code",
   "execution_count": 81,
   "id": "767b5976",
   "metadata": {},
   "outputs": [
    {
     "name": "stdout",
     "output_type": "stream",
     "text": [
      "<class 'pandas.core.frame.DataFrame'>\n",
      "Int64Index: 29583 entries, 0 to 34484\n",
      "Data columns (total 15 columns):\n",
      " #   Column                         Non-Null Count  Dtype  \n",
      "---  ------                         --------------  -----  \n",
      " 0   id_pessoa                      29583 non-null  object \n",
      " 1   idade_pessoa                   29583 non-null  int64  \n",
      " 2   salario_ano_pessoa             29583 non-null  int64  \n",
      " 3   propriedade_pessoa             29583 non-null  object \n",
      " 4   anos_trabalhados_pessoa        29583 non-null  float64\n",
      " 5   id_emprestimo                  29583 non-null  object \n",
      " 6   motivo_emprestimo              29583 non-null  object \n",
      " 7   pontuacao_emprestimo           29583 non-null  object \n",
      " 8   valor_emprestimo               29583 non-null  int64  \n",
      " 9   taxa_juros_emprestimo          29583 non-null  float64\n",
      " 10  status_inadimplencia           29583 non-null  int64  \n",
      " 11  percentual_emprestimo_salario  29583 non-null  float64\n",
      " 12  id_historico                   29583 non-null  object \n",
      " 13  verifica_inadimplencia         29583 non-null  object \n",
      " 14  tempo_primeira_solicitacao     29583 non-null  int64  \n",
      "dtypes: float64(3), int64(5), object(7)\n",
      "memory usage: 3.6+ MB\n"
     ]
    }
   ],
   "source": [
    "dados.info()"
   ]
  },
  {
   "cell_type": "code",
   "execution_count": 82,
   "id": "b0a2b284",
   "metadata": {},
   "outputs": [
    {
     "data": {
      "text/html": [
       "<div>\n",
       "<style scoped>\n",
       "    .dataframe tbody tr th:only-of-type {\n",
       "        vertical-align: middle;\n",
       "    }\n",
       "\n",
       "    .dataframe tbody tr th {\n",
       "        vertical-align: top;\n",
       "    }\n",
       "\n",
       "    .dataframe thead th {\n",
       "        text-align: right;\n",
       "    }\n",
       "</style>\n",
       "<table border=\"1\" class=\"dataframe\">\n",
       "  <thead>\n",
       "    <tr style=\"text-align: right;\">\n",
       "      <th></th>\n",
       "      <th>idade_pessoa</th>\n",
       "      <th>salario_ano_pessoa</th>\n",
       "      <th>anos_trabalhados_pessoa</th>\n",
       "      <th>valor_emprestimo</th>\n",
       "      <th>taxa_juros_emprestimo</th>\n",
       "      <th>status_inadimplencia</th>\n",
       "      <th>percentual_emprestimo_salario</th>\n",
       "      <th>tempo_primeira_solicitacao</th>\n",
       "    </tr>\n",
       "  </thead>\n",
       "  <tbody>\n",
       "    <tr>\n",
       "      <th>count</th>\n",
       "      <td>29583.000000</td>\n",
       "      <td>29583.000000</td>\n",
       "      <td>29583.000000</td>\n",
       "      <td>29583.000000</td>\n",
       "      <td>29583.000000</td>\n",
       "      <td>29583.000000</td>\n",
       "      <td>29583.000000</td>\n",
       "      <td>29583.000000</td>\n",
       "    </tr>\n",
       "    <tr>\n",
       "      <th>mean</th>\n",
       "      <td>27.699997</td>\n",
       "      <td>65525.552987</td>\n",
       "      <td>4.633911</td>\n",
       "      <td>9583.453335</td>\n",
       "      <td>11.010195</td>\n",
       "      <td>0.218808</td>\n",
       "      <td>0.169739</td>\n",
       "      <td>5.786938</td>\n",
       "    </tr>\n",
       "    <tr>\n",
       "      <th>std</th>\n",
       "      <td>6.168867</td>\n",
       "      <td>46921.136552</td>\n",
       "      <td>4.056791</td>\n",
       "      <td>6317.036143</td>\n",
       "      <td>3.239640</td>\n",
       "      <td>0.413445</td>\n",
       "      <td>0.107013</td>\n",
       "      <td>4.026903</td>\n",
       "    </tr>\n",
       "    <tr>\n",
       "      <th>min</th>\n",
       "      <td>20.000000</td>\n",
       "      <td>4000.000000</td>\n",
       "      <td>0.000000</td>\n",
       "      <td>500.000000</td>\n",
       "      <td>5.420000</td>\n",
       "      <td>0.000000</td>\n",
       "      <td>0.000000</td>\n",
       "      <td>2.000000</td>\n",
       "    </tr>\n",
       "    <tr>\n",
       "      <th>25%</th>\n",
       "      <td>23.000000</td>\n",
       "      <td>38500.000000</td>\n",
       "      <td>2.000000</td>\n",
       "      <td>5000.000000</td>\n",
       "      <td>7.900000</td>\n",
       "      <td>0.000000</td>\n",
       "      <td>0.090000</td>\n",
       "      <td>3.000000</td>\n",
       "    </tr>\n",
       "    <tr>\n",
       "      <th>50%</th>\n",
       "      <td>26.000000</td>\n",
       "      <td>55000.000000</td>\n",
       "      <td>4.000000</td>\n",
       "      <td>8000.000000</td>\n",
       "      <td>10.990000</td>\n",
       "      <td>0.000000</td>\n",
       "      <td>0.150000</td>\n",
       "      <td>4.000000</td>\n",
       "    </tr>\n",
       "    <tr>\n",
       "      <th>75%</th>\n",
       "      <td>30.000000</td>\n",
       "      <td>79000.000000</td>\n",
       "      <td>7.000000</td>\n",
       "      <td>12250.000000</td>\n",
       "      <td>13.470000</td>\n",
       "      <td>0.000000</td>\n",
       "      <td>0.230000</td>\n",
       "      <td>8.000000</td>\n",
       "    </tr>\n",
       "    <tr>\n",
       "      <th>max</th>\n",
       "      <td>84.000000</td>\n",
       "      <td>948000.000000</td>\n",
       "      <td>41.000000</td>\n",
       "      <td>35000.000000</td>\n",
       "      <td>23.220000</td>\n",
       "      <td>1.000000</td>\n",
       "      <td>0.830000</td>\n",
       "      <td>30.000000</td>\n",
       "    </tr>\n",
       "  </tbody>\n",
       "</table>\n",
       "</div>"
      ],
      "text/plain": [
       "       idade_pessoa  salario_ano_pessoa  anos_trabalhados_pessoa  \\\n",
       "count  29583.000000        29583.000000             29583.000000   \n",
       "mean      27.699997        65525.552987                 4.633911   \n",
       "std        6.168867        46921.136552                 4.056791   \n",
       "min       20.000000         4000.000000                 0.000000   \n",
       "25%       23.000000        38500.000000                 2.000000   \n",
       "50%       26.000000        55000.000000                 4.000000   \n",
       "75%       30.000000        79000.000000                 7.000000   \n",
       "max       84.000000       948000.000000                41.000000   \n",
       "\n",
       "       valor_emprestimo  taxa_juros_emprestimo  status_inadimplencia  \\\n",
       "count      29583.000000           29583.000000          29583.000000   \n",
       "mean        9583.453335              11.010195              0.218808   \n",
       "std         6317.036143               3.239640              0.413445   \n",
       "min          500.000000               5.420000              0.000000   \n",
       "25%         5000.000000               7.900000              0.000000   \n",
       "50%         8000.000000              10.990000              0.000000   \n",
       "75%        12250.000000              13.470000              0.000000   \n",
       "max        35000.000000              23.220000              1.000000   \n",
       "\n",
       "       percentual_emprestimo_salario  tempo_primeira_solicitacao  \n",
       "count                   29583.000000                29583.000000  \n",
       "mean                        0.169739                    5.786938  \n",
       "std                         0.107013                    4.026903  \n",
       "min                         0.000000                    2.000000  \n",
       "25%                         0.090000                    3.000000  \n",
       "50%                         0.150000                    4.000000  \n",
       "75%                         0.230000                    8.000000  \n",
       "max                         0.830000                   30.000000  "
      ]
     },
     "execution_count": 82,
     "metadata": {},
     "output_type": "execute_result"
    }
   ],
   "source": [
    "dados.describe()"
   ]
  },
  {
   "cell_type": "markdown",
   "id": "fd7c55fd",
   "metadata": {},
   "source": [
    "**Agora os Outliers mais claros parecem ter sido removidos, optei por não deletar acima das margens do BoxPlot para considerarmos mais dados para treinar e testar no modelo**"
   ]
  }
 ],
 "metadata": {
  "kernelspec": {
   "display_name": "Python 3 (ipykernel)",
   "language": "python",
   "name": "python3"
  },
  "language_info": {
   "codemirror_mode": {
    "name": "ipython",
    "version": 3
   },
   "file_extension": ".py",
   "mimetype": "text/x-python",
   "name": "python",
   "nbconvert_exporter": "python",
   "pygments_lexer": "ipython3",
   "version": "3.9.12"
  }
 },
 "nbformat": 4,
 "nbformat_minor": 5
}
