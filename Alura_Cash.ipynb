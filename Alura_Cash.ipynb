{
 "cells": [
  {
   "cell_type": "markdown",
   "id": "45ab8e3e",
   "metadata": {},
   "source": [
    "<h1><center>ALURA CASH</center></h1>"
   ]
  },
  {
   "cell_type": "markdown",
   "id": "a1491b2c",
   "metadata": {},
   "source": [
    "**Importando base de dados**"
   ]
  },
  {
   "cell_type": "code",
   "execution_count": 1,
   "id": "d26fb6e3",
   "metadata": {
    "scrolled": true
   },
   "outputs": [
    {
     "data": {
      "text/html": [
       "<div>\n",
       "<style scoped>\n",
       "    .dataframe tbody tr th:only-of-type {\n",
       "        vertical-align: middle;\n",
       "    }\n",
       "\n",
       "    .dataframe tbody tr th {\n",
       "        vertical-align: top;\n",
       "    }\n",
       "\n",
       "    .dataframe thead th {\n",
       "        text-align: right;\n",
       "    }\n",
       "</style>\n",
       "<table border=\"1\" class=\"dataframe\">\n",
       "  <thead>\n",
       "    <tr style=\"text-align: right;\">\n",
       "      <th></th>\n",
       "      <th>id_pessoa</th>\n",
       "      <th>idade_pessoa</th>\n",
       "      <th>salario_ano_pessoa</th>\n",
       "      <th>propriedade_pessoa</th>\n",
       "      <th>anos_trabalhados_pessoa</th>\n",
       "      <th>id_emprestimo</th>\n",
       "      <th>motivo_emprestimo</th>\n",
       "      <th>pontuacao_emprestimo</th>\n",
       "      <th>valor_emprestimo</th>\n",
       "      <th>taxa_juros_emprestimo</th>\n",
       "      <th>status_inadimplencia</th>\n",
       "      <th>percentual_emprestimo_salario</th>\n",
       "      <th>id_historico</th>\n",
       "      <th>verifica_inadimplencia</th>\n",
       "      <th>tempo_primeira_solicitacao</th>\n",
       "    </tr>\n",
       "  </thead>\n",
       "  <tbody>\n",
       "    <tr>\n",
       "      <th>0</th>\n",
       "      <td>F9a6bBd9-Xe2o</td>\n",
       "      <td>27</td>\n",
       "      <td>68000</td>\n",
       "      <td>Aluguel</td>\n",
       "      <td>4.0</td>\n",
       "      <td>8HuvzhAq-k7Xi</td>\n",
       "      <td>Melhora_do_lar</td>\n",
       "      <td>A</td>\n",
       "      <td>8700</td>\n",
       "      <td>7.88</td>\n",
       "      <td>0</td>\n",
       "      <td>0.13</td>\n",
       "      <td>L42AQtMx-SEGR</td>\n",
       "      <td>N</td>\n",
       "      <td>5</td>\n",
       "    </tr>\n",
       "    <tr>\n",
       "      <th>1</th>\n",
       "      <td>RSQpYv0W-D6Oo</td>\n",
       "      <td>24</td>\n",
       "      <td>12600</td>\n",
       "      <td>Aluguel</td>\n",
       "      <td>2.0</td>\n",
       "      <td>PDpdl2hQ-Sszr</td>\n",
       "      <td>Empreendimento</td>\n",
       "      <td>C</td>\n",
       "      <td>2500</td>\n",
       "      <td>13.11</td>\n",
       "      <td>1</td>\n",
       "      <td>0.20</td>\n",
       "      <td>oZ2iPvfD-HdIo</td>\n",
       "      <td>Y</td>\n",
       "      <td>2</td>\n",
       "    </tr>\n",
       "    <tr>\n",
       "      <th>2</th>\n",
       "      <td>bRYeof0L-cqHI</td>\n",
       "      <td>30</td>\n",
       "      <td>100000</td>\n",
       "      <td>Aluguel</td>\n",
       "      <td>13.0</td>\n",
       "      <td>0T2YFLWb-IZze</td>\n",
       "      <td>Pagamento_debitos</td>\n",
       "      <td>A</td>\n",
       "      <td>12000</td>\n",
       "      <td>7.88</td>\n",
       "      <td>0</td>\n",
       "      <td>0.12</td>\n",
       "      <td>0Y1a64ag-4RLW</td>\n",
       "      <td>N</td>\n",
       "      <td>9</td>\n",
       "    </tr>\n",
       "    <tr>\n",
       "      <th>3</th>\n",
       "      <td>d0YRlkdZ-nuLT</td>\n",
       "      <td>28</td>\n",
       "      <td>83000</td>\n",
       "      <td>Hipoteca</td>\n",
       "      <td>6.0</td>\n",
       "      <td>xzTEiD3e-BbFZ</td>\n",
       "      <td>Pagamento_debitos</td>\n",
       "      <td>B</td>\n",
       "      <td>5000</td>\n",
       "      <td>0.00</td>\n",
       "      <td>0</td>\n",
       "      <td>0.06</td>\n",
       "      <td>Z5LA433k-5vqf</td>\n",
       "      <td>N</td>\n",
       "      <td>9</td>\n",
       "    </tr>\n",
       "    <tr>\n",
       "      <th>4</th>\n",
       "      <td>njGBnugm-85Dv</td>\n",
       "      <td>30</td>\n",
       "      <td>110400</td>\n",
       "      <td>Aluguel</td>\n",
       "      <td>1.0</td>\n",
       "      <td>QKDlpIm7-sqMC</td>\n",
       "      <td>Empreendimento</td>\n",
       "      <td>D</td>\n",
       "      <td>14000</td>\n",
       "      <td>16.89</td>\n",
       "      <td>1</td>\n",
       "      <td>0.13</td>\n",
       "      <td>ObEkaKZr-9MDa</td>\n",
       "      <td>N</td>\n",
       "      <td>6</td>\n",
       "    </tr>\n",
       "  </tbody>\n",
       "</table>\n",
       "</div>"
      ],
      "text/plain": [
       "       id_pessoa  idade_pessoa  salario_ano_pessoa propriedade_pessoa  \\\n",
       "0  F9a6bBd9-Xe2o            27               68000            Aluguel   \n",
       "1  RSQpYv0W-D6Oo            24               12600            Aluguel   \n",
       "2  bRYeof0L-cqHI            30              100000            Aluguel   \n",
       "3  d0YRlkdZ-nuLT            28               83000           Hipoteca   \n",
       "4  njGBnugm-85Dv            30              110400            Aluguel   \n",
       "\n",
       "   anos_trabalhados_pessoa  id_emprestimo  motivo_emprestimo  \\\n",
       "0                      4.0  8HuvzhAq-k7Xi     Melhora_do_lar   \n",
       "1                      2.0  PDpdl2hQ-Sszr     Empreendimento   \n",
       "2                     13.0  0T2YFLWb-IZze  Pagamento_debitos   \n",
       "3                      6.0  xzTEiD3e-BbFZ  Pagamento_debitos   \n",
       "4                      1.0  QKDlpIm7-sqMC     Empreendimento   \n",
       "\n",
       "  pontuacao_emprestimo  valor_emprestimo  taxa_juros_emprestimo  \\\n",
       "0                    A              8700                   7.88   \n",
       "1                    C              2500                  13.11   \n",
       "2                    A             12000                   7.88   \n",
       "3                    B              5000                   0.00   \n",
       "4                    D             14000                  16.89   \n",
       "\n",
       "   status_inadimplencia  percentual_emprestimo_salario   id_historico  \\\n",
       "0                     0                           0.13  L42AQtMx-SEGR   \n",
       "1                     1                           0.20  oZ2iPvfD-HdIo   \n",
       "2                     0                           0.12  0Y1a64ag-4RLW   \n",
       "3                     0                           0.06  Z5LA433k-5vqf   \n",
       "4                     1                           0.13  ObEkaKZr-9MDa   \n",
       "\n",
       "  verifica_inadimplencia  tempo_primeira_solicitacao  \n",
       "0                      N                           5  \n",
       "1                      Y                           2  \n",
       "2                      N                           9  \n",
       "3                      N                           9  \n",
       "4                      N                           6  "
      ]
     },
     "execution_count": 1,
     "metadata": {},
     "output_type": "execute_result"
    }
   ],
   "source": [
    "import pandas as pd\n",
    "\n",
    "dados = pd.read_csv('data/analise_de_risco.csv', sep=';')\n",
    "\n",
    "dados.head()"
   ]
  },
  {
   "cell_type": "markdown",
   "id": "417125fe",
   "metadata": {},
   "source": [
    "### 1. Remoção de Dados Nulos"
   ]
  },
  {
   "cell_type": "markdown",
   "id": "9b8d5acf",
   "metadata": {},
   "source": [
    "Existem várias formas de tratar os dados nulos, entre elas estão:\n",
    "    \n",
    "> Deletar todas as linhas que possuem registros nulos com dropna();\n",
    "\n",
    "> Utilizar a técnica fillna() para substituir os dados nulos por um valor específico que desejamos.\n",
    "\n",
    "Uma técnica bastante utilizada para tratamento de dados nulos é substitui-los pela média ou mediana de uma determinada coluna.\n",
    "\n",
    "Vou primeiro verificar a quantidade de valores nulos por coluna:"
   ]
  },
  {
   "cell_type": "code",
   "execution_count": 2,
   "id": "c7c1a671",
   "metadata": {
    "scrolled": true
   },
   "outputs": [
    {
     "data": {
      "text/plain": [
       "id_pessoa                          0\n",
       "idade_pessoa                       0\n",
       "salario_ano_pessoa                 0\n",
       "propriedade_pessoa               331\n",
       "anos_trabalhados_pessoa            0\n",
       "id_emprestimo                      0\n",
       "motivo_emprestimo                311\n",
       "pontuacao_emprestimo             309\n",
       "valor_emprestimo                   0\n",
       "taxa_juros_emprestimo              0\n",
       "status_inadimplencia               0\n",
       "percentual_emprestimo_salario      0\n",
       "id_historico                       0\n",
       "verifica_inadimplencia           366\n",
       "tempo_primeira_solicitacao         0\n",
       "dtype: int64"
      ]
     },
     "execution_count": 2,
     "metadata": {},
     "output_type": "execute_result"
    }
   ],
   "source": [
    "dados.isnull().sum()"
   ]
  },
  {
   "cell_type": "markdown",
   "id": "731a58a7",
   "metadata": {},
   "source": [
    "Como as colunas que possuem dados faltantes são todas categóricas, não faz sentido tirar a média ou a mediana delas e nem substituir por outro valor. Então eu optei por apenas excluir esses registros:"
   ]
  },
  {
   "cell_type": "code",
   "execution_count": 3,
   "id": "e9ea3206",
   "metadata": {},
   "outputs": [],
   "source": [
    "dados = dados.dropna(axis = 0)"
   ]
  },
  {
   "cell_type": "markdown",
   "id": "20011151",
   "metadata": {},
   "source": [
    "Checando novamente os valores nulos: "
   ]
  },
  {
   "cell_type": "code",
   "execution_count": 4,
   "id": "6c3b2894",
   "metadata": {
    "scrolled": true
   },
   "outputs": [
    {
     "data": {
      "text/plain": [
       "id_pessoa                        0\n",
       "idade_pessoa                     0\n",
       "salario_ano_pessoa               0\n",
       "propriedade_pessoa               0\n",
       "anos_trabalhados_pessoa          0\n",
       "id_emprestimo                    0\n",
       "motivo_emprestimo                0\n",
       "pontuacao_emprestimo             0\n",
       "valor_emprestimo                 0\n",
       "taxa_juros_emprestimo            0\n",
       "status_inadimplencia             0\n",
       "percentual_emprestimo_salario    0\n",
       "id_historico                     0\n",
       "verifica_inadimplencia           0\n",
       "tempo_primeira_solicitacao       0\n",
       "dtype: int64"
      ]
     },
     "execution_count": 4,
     "metadata": {},
     "output_type": "execute_result"
    }
   ],
   "source": [
    "dados.isnull().sum()"
   ]
  },
  {
   "cell_type": "markdown",
   "id": "756dcc0b",
   "metadata": {},
   "source": [
    "### 2. Tratamento de Outliers"
   ]
  },
  {
   "cell_type": "markdown",
   "id": "25cf9611",
   "metadata": {},
   "source": [
    "Nessa etapa iremos utilizar muito o .describe() que é basicamente o resumo trazendo a média, desvio padrão, valores minímos e máximos, quartis e a quantidade de dados, claro que essa função irá ignorar outras variáveis categóricas, mas no momento queremos tratar os outliers das colunas numéricas.\n",
    "\n",
    "Paralelo a esse comando muito útil do python, iremos utilizar gráficos do tipo BoxPlot do matplotlib para facilitar a visualização de possíveis outliers em nossas amostras.\n",
    "\n"
   ]
  },
  {
   "cell_type": "markdown",
   "id": "099d8904",
   "metadata": {},
   "source": [
    "**O que é o BoxPlot ?**"
   ]
  },
  {
   "cell_type": "markdown",
   "id": "293f4ef4",
   "metadata": {},
   "source": [
    "O box plot dá uma idéia da posição, dispersão, assimetria, caudas e dados discrepantes (outliers). A posição central é dada pela mediana e a dispersão por $IIQ$. As posições relativas de $Q1$, $Mediana$ e $Q3$ dão uma noção da simetria da distribuição. Os comprimentos das cauda são dados pelas linhas que vão do retângulo aos valores remotos e pelos valores atípicos."
   ]
  },
  {
   "cell_type": "markdown",
   "id": "eba56526",
   "metadata": {},
   "source": [
    "<img src='https://caelum-online-public.s3.amazonaws.com/1177-estatistica-parte1/01/img005.png' width='50%'>"
   ]
  },
  {
   "cell_type": "markdown",
   "id": "9ca00fc2",
   "metadata": {},
   "source": [
    "Vamos começar vendo a descrição dos dados:"
   ]
  },
  {
   "cell_type": "code",
   "execution_count": 5,
   "id": "57c2acd5",
   "metadata": {
    "scrolled": true
   },
   "outputs": [
    {
     "data": {
      "text/html": [
       "<div>\n",
       "<style scoped>\n",
       "    .dataframe tbody tr th:only-of-type {\n",
       "        vertical-align: middle;\n",
       "    }\n",
       "\n",
       "    .dataframe tbody tr th {\n",
       "        vertical-align: top;\n",
       "    }\n",
       "\n",
       "    .dataframe thead th {\n",
       "        text-align: right;\n",
       "    }\n",
       "</style>\n",
       "<table border=\"1\" class=\"dataframe\">\n",
       "  <thead>\n",
       "    <tr style=\"text-align: right;\">\n",
       "      <th></th>\n",
       "      <th>idade_pessoa</th>\n",
       "      <th>salario_ano_pessoa</th>\n",
       "      <th>anos_trabalhados_pessoa</th>\n",
       "      <th>valor_emprestimo</th>\n",
       "      <th>taxa_juros_emprestimo</th>\n",
       "      <th>status_inadimplencia</th>\n",
       "      <th>percentual_emprestimo_salario</th>\n",
       "      <th>tempo_primeira_solicitacao</th>\n",
       "    </tr>\n",
       "  </thead>\n",
       "  <tbody>\n",
       "    <tr>\n",
       "      <th>count</th>\n",
       "      <td>33360.000000</td>\n",
       "      <td>3.336000e+04</td>\n",
       "      <td>33360.000000</td>\n",
       "      <td>33360.000000</td>\n",
       "      <td>33360.000000</td>\n",
       "      <td>33360.000000</td>\n",
       "      <td>33360.000000</td>\n",
       "      <td>33360.000000</td>\n",
       "    </tr>\n",
       "    <tr>\n",
       "      <th>mean</th>\n",
       "      <td>27.561721</td>\n",
       "      <td>6.564681e+04</td>\n",
       "      <td>4.628567</td>\n",
       "      <td>9529.754197</td>\n",
       "      <td>9.893280</td>\n",
       "      <td>0.216457</td>\n",
       "      <td>0.169135</td>\n",
       "      <td>5.807374</td>\n",
       "    </tr>\n",
       "    <tr>\n",
       "      <th>std</th>\n",
       "      <td>6.698419</td>\n",
       "      <td>6.174520e+04</td>\n",
       "      <td>4.159946</td>\n",
       "      <td>6348.596166</td>\n",
       "      <td>4.523957</td>\n",
       "      <td>0.411835</td>\n",
       "      <td>0.107204</td>\n",
       "      <td>4.057953</td>\n",
       "    </tr>\n",
       "    <tr>\n",
       "      <th>min</th>\n",
       "      <td>0.000000</td>\n",
       "      <td>0.000000e+00</td>\n",
       "      <td>0.000000</td>\n",
       "      <td>0.000000</td>\n",
       "      <td>0.000000</td>\n",
       "      <td>0.000000</td>\n",
       "      <td>0.000000</td>\n",
       "      <td>2.000000</td>\n",
       "    </tr>\n",
       "    <tr>\n",
       "      <th>25%</th>\n",
       "      <td>23.000000</td>\n",
       "      <td>3.827100e+04</td>\n",
       "      <td>2.000000</td>\n",
       "      <td>5000.000000</td>\n",
       "      <td>7.490000</td>\n",
       "      <td>0.000000</td>\n",
       "      <td>0.090000</td>\n",
       "      <td>3.000000</td>\n",
       "    </tr>\n",
       "    <tr>\n",
       "      <th>50%</th>\n",
       "      <td>26.000000</td>\n",
       "      <td>5.500000e+04</td>\n",
       "      <td>4.000000</td>\n",
       "      <td>8000.000000</td>\n",
       "      <td>10.620000</td>\n",
       "      <td>0.000000</td>\n",
       "      <td>0.150000</td>\n",
       "      <td>4.000000</td>\n",
       "    </tr>\n",
       "    <tr>\n",
       "      <th>75%</th>\n",
       "      <td>30.000000</td>\n",
       "      <td>7.900000e+04</td>\n",
       "      <td>7.000000</td>\n",
       "      <td>12000.000000</td>\n",
       "      <td>13.110000</td>\n",
       "      <td>0.000000</td>\n",
       "      <td>0.230000</td>\n",
       "      <td>8.000000</td>\n",
       "    </tr>\n",
       "    <tr>\n",
       "      <th>max</th>\n",
       "      <td>144.000000</td>\n",
       "      <td>6.000000e+06</td>\n",
       "      <td>123.000000</td>\n",
       "      <td>35000.000000</td>\n",
       "      <td>23.220000</td>\n",
       "      <td>1.000000</td>\n",
       "      <td>0.830000</td>\n",
       "      <td>30.000000</td>\n",
       "    </tr>\n",
       "  </tbody>\n",
       "</table>\n",
       "</div>"
      ],
      "text/plain": [
       "       idade_pessoa  salario_ano_pessoa  anos_trabalhados_pessoa  \\\n",
       "count  33360.000000        3.336000e+04             33360.000000   \n",
       "mean      27.561721        6.564681e+04                 4.628567   \n",
       "std        6.698419        6.174520e+04                 4.159946   \n",
       "min        0.000000        0.000000e+00                 0.000000   \n",
       "25%       23.000000        3.827100e+04                 2.000000   \n",
       "50%       26.000000        5.500000e+04                 4.000000   \n",
       "75%       30.000000        7.900000e+04                 7.000000   \n",
       "max      144.000000        6.000000e+06               123.000000   \n",
       "\n",
       "       valor_emprestimo  taxa_juros_emprestimo  status_inadimplencia  \\\n",
       "count      33360.000000           33360.000000          33360.000000   \n",
       "mean        9529.754197               9.893280              0.216457   \n",
       "std         6348.596166               4.523957              0.411835   \n",
       "min            0.000000               0.000000              0.000000   \n",
       "25%         5000.000000               7.490000              0.000000   \n",
       "50%         8000.000000              10.620000              0.000000   \n",
       "75%        12000.000000              13.110000              0.000000   \n",
       "max        35000.000000              23.220000              1.000000   \n",
       "\n",
       "       percentual_emprestimo_salario  tempo_primeira_solicitacao  \n",
       "count                   33360.000000                33360.000000  \n",
       "mean                        0.169135                    5.807374  \n",
       "std                         0.107204                    4.057953  \n",
       "min                         0.000000                    2.000000  \n",
       "25%                         0.090000                    3.000000  \n",
       "50%                         0.150000                    4.000000  \n",
       "75%                         0.230000                    8.000000  \n",
       "max                         0.830000                   30.000000  "
      ]
     },
     "execution_count": 5,
     "metadata": {},
     "output_type": "execute_result"
    }
   ],
   "source": [
    "dados.describe()"
   ]
  },
  {
   "cell_type": "markdown",
   "id": "0fb41db2",
   "metadata": {},
   "source": [
    "Na primeira coluna **'idade_pessoa'** notamos que o valor maximo é de 144 anos e o valor mínimo 0 anos. Isso representa claramente outliers em nossa base de dados. \n",
    "\n",
    "Para ficar mais claro vamos visualizar essa coluna em um boxplot:"
   ]
  },
  {
   "cell_type": "code",
   "execution_count": 6,
   "id": "8ef322b9",
   "metadata": {},
   "outputs": [
    {
     "data": {
      "text/plain": [
       "<AxesSubplot:>"
      ]
     },
     "execution_count": 6,
     "metadata": {},
     "output_type": "execute_result"
    },
    {
     "data": {
      "image/png": "[encoded data removed]",
      "text/plain": [
       "<Figure size 720x360 with 1 Axes>"
      ]
     },
     "metadata": {
      "needs_background": "light"
     },
     "output_type": "display_data"
    }
   ],
   "source": [
    "import matplotlib.pyplot as plt\n",
    "plt.figure(figsize=(10,5))\n",
    "dados.boxplot(column = ['idade_pessoa'])"
   ]
  },
  {
   "cell_type": "markdown",
   "id": "a3f449fb",
   "metadata": {},
   "source": [
    "**OBS: Eu optei por não remover alguns dados que estão após o limite superior e abaixo ao limite inferior do boxplot, visando um modelo mais abrangente**"
   ]
  },
  {
   "cell_type": "markdown",
   "id": "d511af93",
   "metadata": {},
   "source": [
    "Pelo BoxPlot é possível notar uma grande quantidade de pessoas com idade = 0 e acima dos 85 anos já parecem estar muito longe dos dados comuns que temos. Visto isso, iremos tratar para não afetar nosso modelo"
   ]
  },
  {
   "cell_type": "code",
   "execution_count": 7,
   "id": "29c86a27",
   "metadata": {},
   "outputs": [],
   "source": [
    "filtro = (dados.idade_pessoa > 18) & (dados.idade_pessoa < 85)"
   ]
  },
  {
   "cell_type": "code",
   "execution_count": 8,
   "id": "0508f313",
   "metadata": {},
   "outputs": [],
   "source": [
    "dados_sem_out = dados[filtro]"
   ]
  },
  {
   "cell_type": "code",
   "execution_count": 9,
   "id": "b46e2c4e",
   "metadata": {},
   "outputs": [
    {
     "data": {
      "image/png": "[encoded data removed]",
      "text/plain": [
       "<Figure size 720x504 with 2 Axes>"
      ]
     },
     "metadata": {
      "needs_background": "light"
     },
     "output_type": "display_data"
    }
   ],
   "source": [
    "fig, ax = plt.subplots(1, 2, figsize=(10,7))\n",
    "ax[1].set_title('Idade_pessoa - Sem Outliers')\n",
    "ax[0].boxplot(dados.idade_pessoa)\n",
    "ax[0].set_title('Idade_pessoa - Com Outliers')\n",
    "ax[0].grid(True)\n",
    "ax[1].boxplot(dados_sem_out.idade_pessoa)\n",
    "ax[1].grid(True)"
   ]
  },
  {
   "cell_type": "markdown",
   "id": "7d5a472d",
   "metadata": {},
   "source": [
    "Agora ja temos uma melhora na dispersão de dados comparado com anteriormente"
   ]
  },
  {
   "cell_type": "code",
   "execution_count": 10,
   "id": "693cdabc",
   "metadata": {},
   "outputs": [
    {
     "data": {
      "text/html": [
       "<div>\n",
       "<style scoped>\n",
       "    .dataframe tbody tr th:only-of-type {\n",
       "        vertical-align: middle;\n",
       "    }\n",
       "\n",
       "    .dataframe tbody tr th {\n",
       "        vertical-align: top;\n",
       "    }\n",
       "\n",
       "    .dataframe thead th {\n",
       "        text-align: right;\n",
       "    }\n",
       "</style>\n",
       "<table border=\"1\" class=\"dataframe\">\n",
       "  <thead>\n",
       "    <tr style=\"text-align: right;\">\n",
       "      <th></th>\n",
       "      <th>idade_pessoa</th>\n",
       "      <th>salario_ano_pessoa</th>\n",
       "      <th>anos_trabalhados_pessoa</th>\n",
       "      <th>valor_emprestimo</th>\n",
       "      <th>taxa_juros_emprestimo</th>\n",
       "      <th>status_inadimplencia</th>\n",
       "      <th>percentual_emprestimo_salario</th>\n",
       "      <th>tempo_primeira_solicitacao</th>\n",
       "    </tr>\n",
       "  </thead>\n",
       "  <tbody>\n",
       "    <tr>\n",
       "      <th>count</th>\n",
       "      <td>33146.000000</td>\n",
       "      <td>3.314600e+04</td>\n",
       "      <td>33146.000000</td>\n",
       "      <td>33146.000000</td>\n",
       "      <td>33146.000000</td>\n",
       "      <td>33146.000000</td>\n",
       "      <td>33146.000000</td>\n",
       "      <td>33146.000000</td>\n",
       "    </tr>\n",
       "    <tr>\n",
       "      <th>mean</th>\n",
       "      <td>27.716376</td>\n",
       "      <td>6.554003e+04</td>\n",
       "      <td>4.632746</td>\n",
       "      <td>9535.114343</td>\n",
       "      <td>9.902509</td>\n",
       "      <td>0.216678</td>\n",
       "      <td>0.169280</td>\n",
       "      <td>5.801092</td>\n",
       "    </tr>\n",
       "    <tr>\n",
       "      <th>std</th>\n",
       "      <td>6.201413</td>\n",
       "      <td>5.253935e+04</td>\n",
       "      <td>4.158681</td>\n",
       "      <td>6343.415706</td>\n",
       "      <td>4.516430</td>\n",
       "      <td>0.411987</td>\n",
       "      <td>0.107184</td>\n",
       "      <td>4.048721</td>\n",
       "    </tr>\n",
       "    <tr>\n",
       "      <th>min</th>\n",
       "      <td>20.000000</td>\n",
       "      <td>0.000000e+00</td>\n",
       "      <td>0.000000</td>\n",
       "      <td>0.000000</td>\n",
       "      <td>0.000000</td>\n",
       "      <td>0.000000</td>\n",
       "      <td>0.000000</td>\n",
       "      <td>2.000000</td>\n",
       "    </tr>\n",
       "    <tr>\n",
       "      <th>25%</th>\n",
       "      <td>23.000000</td>\n",
       "      <td>3.840000e+04</td>\n",
       "      <td>2.000000</td>\n",
       "      <td>5000.000000</td>\n",
       "      <td>7.490000</td>\n",
       "      <td>0.000000</td>\n",
       "      <td>0.090000</td>\n",
       "      <td>3.000000</td>\n",
       "    </tr>\n",
       "    <tr>\n",
       "      <th>50%</th>\n",
       "      <td>26.000000</td>\n",
       "      <td>5.500000e+04</td>\n",
       "      <td>4.000000</td>\n",
       "      <td>8000.000000</td>\n",
       "      <td>10.620000</td>\n",
       "      <td>0.000000</td>\n",
       "      <td>0.150000</td>\n",
       "      <td>4.000000</td>\n",
       "    </tr>\n",
       "    <tr>\n",
       "      <th>75%</th>\n",
       "      <td>30.000000</td>\n",
       "      <td>7.900000e+04</td>\n",
       "      <td>7.000000</td>\n",
       "      <td>12000.000000</td>\n",
       "      <td>13.110000</td>\n",
       "      <td>0.000000</td>\n",
       "      <td>0.230000</td>\n",
       "      <td>8.000000</td>\n",
       "    </tr>\n",
       "    <tr>\n",
       "      <th>max</th>\n",
       "      <td>84.000000</td>\n",
       "      <td>2.039784e+06</td>\n",
       "      <td>123.000000</td>\n",
       "      <td>35000.000000</td>\n",
       "      <td>23.220000</td>\n",
       "      <td>1.000000</td>\n",
       "      <td>0.830000</td>\n",
       "      <td>30.000000</td>\n",
       "    </tr>\n",
       "  </tbody>\n",
       "</table>\n",
       "</div>"
      ],
      "text/plain": [
       "       idade_pessoa  salario_ano_pessoa  anos_trabalhados_pessoa  \\\n",
       "count  33146.000000        3.314600e+04             33146.000000   \n",
       "mean      27.716376        6.554003e+04                 4.632746   \n",
       "std        6.201413        5.253935e+04                 4.158681   \n",
       "min       20.000000        0.000000e+00                 0.000000   \n",
       "25%       23.000000        3.840000e+04                 2.000000   \n",
       "50%       26.000000        5.500000e+04                 4.000000   \n",
       "75%       30.000000        7.900000e+04                 7.000000   \n",
       "max       84.000000        2.039784e+06               123.000000   \n",
       "\n",
       "       valor_emprestimo  taxa_juros_emprestimo  status_inadimplencia  \\\n",
       "count      33146.000000           33146.000000          33146.000000   \n",
       "mean        9535.114343               9.902509              0.216678   \n",
       "std         6343.415706               4.516430              0.411987   \n",
       "min            0.000000               0.000000              0.000000   \n",
       "25%         5000.000000               7.490000              0.000000   \n",
       "50%         8000.000000              10.620000              0.000000   \n",
       "75%        12000.000000              13.110000              0.000000   \n",
       "max        35000.000000              23.220000              1.000000   \n",
       "\n",
       "       percentual_emprestimo_salario  tempo_primeira_solicitacao  \n",
       "count                   33146.000000                33146.000000  \n",
       "mean                        0.169280                    5.801092  \n",
       "std                         0.107184                    4.048721  \n",
       "min                         0.000000                    2.000000  \n",
       "25%                         0.090000                    3.000000  \n",
       "50%                         0.150000                    4.000000  \n",
       "75%                         0.230000                    8.000000  \n",
       "max                         0.830000                   30.000000  "
      ]
     },
     "execution_count": 10,
     "metadata": {},
     "output_type": "execute_result"
    }
   ],
   "source": [
    "dados_sem_out.describe()"
   ]
  },
  {
   "cell_type": "code",
   "execution_count": 11,
   "id": "a40eda10",
   "metadata": {},
   "outputs": [
    {
     "data": {
      "text/plain": [
       "<AxesSubplot:>"
      ]
     },
     "execution_count": 11,
     "metadata": {},
     "output_type": "execute_result"
    },
    {
     "data": {
      "image/png": "[encoded data removed]",
      "text/plain": [
       "<Figure size 720x360 with 1 Axes>"
      ]
     },
     "metadata": {
      "needs_background": "light"
     },
     "output_type": "display_data"
    }
   ],
   "source": [
    "plt.figure(figsize=(10,5))\n",
    "dados.boxplot(column = ['salario_ano_pessoa'])"
   ]
  },
  {
   "cell_type": "markdown",
   "id": "0fdac17f",
   "metadata": {},
   "source": [
    "Pode ser visto que acima de poucas pessoas posuem o salario acima dos 1 milhão anuais e pessoas que não ganham nenhum salário anual parece não fazer sentido para o que queremos. Iremos tratar isso:"
   ]
  },
  {
   "cell_type": "code",
   "execution_count": 12,
   "id": "2153c05c",
   "metadata": {},
   "outputs": [],
   "source": [
    "filtro = (dados_sem_out.salario_ano_pessoa > 0) & (dados_sem_out.salario_ano_pessoa < 1000000)"
   ]
  },
  {
   "cell_type": "code",
   "execution_count": 13,
   "id": "2e32b375",
   "metadata": {},
   "outputs": [],
   "source": [
    "dados_sem_out = dados_sem_out[filtro]"
   ]
  },
  {
   "cell_type": "code",
   "execution_count": 14,
   "id": "4474d661",
   "metadata": {},
   "outputs": [
    {
     "data": {
      "text/plain": [
       "32973"
      ]
     },
     "execution_count": 14,
     "metadata": {},
     "output_type": "execute_result"
    }
   ],
   "source": [
    "dados_sem_out.idade_pessoa.count()"
   ]
  },
  {
   "cell_type": "code",
   "execution_count": 15,
   "id": "bca3b333",
   "metadata": {
    "scrolled": false
   },
   "outputs": [
    {
     "data": {
      "image/png": "[encoded data removed]",
      "text/plain": [
       "<Figure size 720x504 with 2 Axes>"
      ]
     },
     "metadata": {
      "needs_background": "light"
     },
     "output_type": "display_data"
    }
   ],
   "source": [
    "fig, ax = plt.subplots(1, 2, figsize=(10,7))\n",
    "ax[0].boxplot(dados.salario_ano_pessoa)\n",
    "ax[0].set_title('Salário Anual - Com Outliers')\n",
    "ax[0].grid(True)\n",
    "ax[1].boxplot(dados_sem_out.salario_ano_pessoa)\n",
    "ax[1].set_title('Salário Anual - Sem Outliers')\n",
    "ax[1].grid(True)"
   ]
  },
  {
   "cell_type": "markdown",
   "id": "92b95739",
   "metadata": {},
   "source": [
    "Veja que mesmo removendo os outliers claros ainda sim a variável dos salários anuais continua dispersa, porém vou optar por não exluir esses dados."
   ]
  },
  {
   "cell_type": "code",
   "execution_count": 16,
   "id": "65bd0d83",
   "metadata": {},
   "outputs": [
    {
     "data": {
      "text/html": [
       "<div>\n",
       "<style scoped>\n",
       "    .dataframe tbody tr th:only-of-type {\n",
       "        vertical-align: middle;\n",
       "    }\n",
       "\n",
       "    .dataframe tbody tr th {\n",
       "        vertical-align: top;\n",
       "    }\n",
       "\n",
       "    .dataframe thead th {\n",
       "        text-align: right;\n",
       "    }\n",
       "</style>\n",
       "<table border=\"1\" class=\"dataframe\">\n",
       "  <thead>\n",
       "    <tr style=\"text-align: right;\">\n",
       "      <th></th>\n",
       "      <th>idade_pessoa</th>\n",
       "      <th>salario_ano_pessoa</th>\n",
       "      <th>anos_trabalhados_pessoa</th>\n",
       "      <th>valor_emprestimo</th>\n",
       "      <th>taxa_juros_emprestimo</th>\n",
       "      <th>status_inadimplencia</th>\n",
       "      <th>percentual_emprestimo_salario</th>\n",
       "      <th>tempo_primeira_solicitacao</th>\n",
       "    </tr>\n",
       "  </thead>\n",
       "  <tbody>\n",
       "    <tr>\n",
       "      <th>count</th>\n",
       "      <td>32973.000000</td>\n",
       "      <td>32973.000000</td>\n",
       "      <td>32973.000000</td>\n",
       "      <td>32973.000000</td>\n",
       "      <td>32973.000000</td>\n",
       "      <td>32973.000000</td>\n",
       "      <td>32973.000000</td>\n",
       "      <td>32973.000000</td>\n",
       "    </tr>\n",
       "    <tr>\n",
       "      <th>mean</th>\n",
       "      <td>27.713281</td>\n",
       "      <td>65516.216268</td>\n",
       "      <td>4.635763</td>\n",
       "      <td>9544.211173</td>\n",
       "      <td>9.912245</td>\n",
       "      <td>0.217147</td>\n",
       "      <td>0.169393</td>\n",
       "      <td>5.798441</td>\n",
       "    </tr>\n",
       "    <tr>\n",
       "      <th>std</th>\n",
       "      <td>6.192305</td>\n",
       "      <td>47099.566872</td>\n",
       "      <td>4.158444</td>\n",
       "      <td>6340.027808</td>\n",
       "      <td>4.507023</td>\n",
       "      <td>0.412310</td>\n",
       "      <td>0.107037</td>\n",
       "      <td>4.046236</td>\n",
       "    </tr>\n",
       "    <tr>\n",
       "      <th>min</th>\n",
       "      <td>20.000000</td>\n",
       "      <td>4000.000000</td>\n",
       "      <td>0.000000</td>\n",
       "      <td>0.000000</td>\n",
       "      <td>0.000000</td>\n",
       "      <td>0.000000</td>\n",
       "      <td>0.000000</td>\n",
       "      <td>2.000000</td>\n",
       "    </tr>\n",
       "    <tr>\n",
       "      <th>25%</th>\n",
       "      <td>23.000000</td>\n",
       "      <td>38500.000000</td>\n",
       "      <td>2.000000</td>\n",
       "      <td>5000.000000</td>\n",
       "      <td>7.490000</td>\n",
       "      <td>0.000000</td>\n",
       "      <td>0.090000</td>\n",
       "      <td>3.000000</td>\n",
       "    </tr>\n",
       "    <tr>\n",
       "      <th>50%</th>\n",
       "      <td>26.000000</td>\n",
       "      <td>55000.000000</td>\n",
       "      <td>4.000000</td>\n",
       "      <td>8000.000000</td>\n",
       "      <td>10.620000</td>\n",
       "      <td>0.000000</td>\n",
       "      <td>0.150000</td>\n",
       "      <td>4.000000</td>\n",
       "    </tr>\n",
       "    <tr>\n",
       "      <th>75%</th>\n",
       "      <td>30.000000</td>\n",
       "      <td>79200.000000</td>\n",
       "      <td>7.000000</td>\n",
       "      <td>12000.000000</td>\n",
       "      <td>13.110000</td>\n",
       "      <td>0.000000</td>\n",
       "      <td>0.230000</td>\n",
       "      <td>8.000000</td>\n",
       "    </tr>\n",
       "    <tr>\n",
       "      <th>max</th>\n",
       "      <td>84.000000</td>\n",
       "      <td>948000.000000</td>\n",
       "      <td>123.000000</td>\n",
       "      <td>35000.000000</td>\n",
       "      <td>23.220000</td>\n",
       "      <td>1.000000</td>\n",
       "      <td>0.830000</td>\n",
       "      <td>30.000000</td>\n",
       "    </tr>\n",
       "  </tbody>\n",
       "</table>\n",
       "</div>"
      ],
      "text/plain": [
       "       idade_pessoa  salario_ano_pessoa  anos_trabalhados_pessoa  \\\n",
       "count  32973.000000        32973.000000             32973.000000   \n",
       "mean      27.713281        65516.216268                 4.635763   \n",
       "std        6.192305        47099.566872                 4.158444   \n",
       "min       20.000000         4000.000000                 0.000000   \n",
       "25%       23.000000        38500.000000                 2.000000   \n",
       "50%       26.000000        55000.000000                 4.000000   \n",
       "75%       30.000000        79200.000000                 7.000000   \n",
       "max       84.000000       948000.000000               123.000000   \n",
       "\n",
       "       valor_emprestimo  taxa_juros_emprestimo  status_inadimplencia  \\\n",
       "count      32973.000000           32973.000000          32973.000000   \n",
       "mean        9544.211173               9.912245              0.217147   \n",
       "std         6340.027808               4.507023              0.412310   \n",
       "min            0.000000               0.000000              0.000000   \n",
       "25%         5000.000000               7.490000              0.000000   \n",
       "50%         8000.000000              10.620000              0.000000   \n",
       "75%        12000.000000              13.110000              0.000000   \n",
       "max        35000.000000              23.220000              1.000000   \n",
       "\n",
       "       percentual_emprestimo_salario  tempo_primeira_solicitacao  \n",
       "count                   32973.000000                32973.000000  \n",
       "mean                        0.169393                    5.798441  \n",
       "std                         0.107037                    4.046236  \n",
       "min                         0.000000                    2.000000  \n",
       "25%                         0.090000                    3.000000  \n",
       "50%                         0.150000                    4.000000  \n",
       "75%                         0.230000                    8.000000  \n",
       "max                         0.830000                   30.000000  "
      ]
     },
     "execution_count": 16,
     "metadata": {},
     "output_type": "execute_result"
    }
   ],
   "source": [
    "dados_sem_out.describe()"
   ]
  },
  {
   "cell_type": "code",
   "execution_count": 17,
   "id": "57971a5a",
   "metadata": {},
   "outputs": [
    {
     "data": {
      "text/plain": [
       "<AxesSubplot:>"
      ]
     },
     "execution_count": 17,
     "metadata": {},
     "output_type": "execute_result"
    },
    {
     "data": {
      "image/png": "[encoded data removed]",
      "text/plain": [
       "<Figure size 720x360 with 1 Axes>"
      ]
     },
     "metadata": {
      "needs_background": "light"
     },
     "output_type": "display_data"
    }
   ],
   "source": [
    "plt.figure(figsize=(10,5))\n",
    "dados.boxplot(column = ['anos_trabalhados_pessoa'])"
   ]
  },
  {
   "cell_type": "markdown",
   "id": "800b1fc3",
   "metadata": {},
   "source": [
    "Vemos que temos um dado acima de 120 anos de trabalho, o que é impossível. Iremos remover esse dado."
   ]
  },
  {
   "cell_type": "code",
   "execution_count": 18,
   "id": "30c3fc05",
   "metadata": {},
   "outputs": [],
   "source": [
    "filtro = dados_sem_out.anos_trabalhados_pessoa < 100\n",
    "dados_sem_out = dados_sem_out[filtro]"
   ]
  },
  {
   "cell_type": "code",
   "execution_count": 19,
   "id": "3ae3ef6f",
   "metadata": {
    "scrolled": false
   },
   "outputs": [
    {
     "data": {
      "image/png": "[encoded data removed]",
      "text/plain": [
       "<Figure size 720x504 with 2 Axes>"
      ]
     },
     "metadata": {
      "needs_background": "light"
     },
     "output_type": "display_data"
    }
   ],
   "source": [
    "fig, ax = plt.subplots(1, 2, figsize=(10,7))\n",
    "ax[0].boxplot(dados.anos_trabalhados_pessoa)\n",
    "ax[0].set_title('Anos Trabalhados - Com Outliers')\n",
    "ax[0].grid(True)\n",
    "ax[1].boxplot(dados_sem_out.anos_trabalhados_pessoa)\n",
    "ax[1].set_title('Anos Trabalhados - Sem Outliers')\n",
    "ax[1].grid(True)"
   ]
  },
  {
   "cell_type": "markdown",
   "id": "491d6083",
   "metadata": {},
   "source": [
    "Ao contrario da variável anterior, essa se mostrou bem eficiente ao remover um dos outliers"
   ]
  },
  {
   "cell_type": "code",
   "execution_count": 20,
   "id": "f70c848b",
   "metadata": {},
   "outputs": [
    {
     "data": {
      "text/html": [
       "<div>\n",
       "<style scoped>\n",
       "    .dataframe tbody tr th:only-of-type {\n",
       "        vertical-align: middle;\n",
       "    }\n",
       "\n",
       "    .dataframe tbody tr th {\n",
       "        vertical-align: top;\n",
       "    }\n",
       "\n",
       "    .dataframe thead th {\n",
       "        text-align: right;\n",
       "    }\n",
       "</style>\n",
       "<table border=\"1\" class=\"dataframe\">\n",
       "  <thead>\n",
       "    <tr style=\"text-align: right;\">\n",
       "      <th></th>\n",
       "      <th>idade_pessoa</th>\n",
       "      <th>salario_ano_pessoa</th>\n",
       "      <th>anos_trabalhados_pessoa</th>\n",
       "      <th>valor_emprestimo</th>\n",
       "      <th>taxa_juros_emprestimo</th>\n",
       "      <th>status_inadimplencia</th>\n",
       "      <th>percentual_emprestimo_salario</th>\n",
       "      <th>tempo_primeira_solicitacao</th>\n",
       "    </tr>\n",
       "  </thead>\n",
       "  <tbody>\n",
       "    <tr>\n",
       "      <th>count</th>\n",
       "      <td>32971.000000</td>\n",
       "      <td>32971.000000</td>\n",
       "      <td>32971.000000</td>\n",
       "      <td>32971.000000</td>\n",
       "      <td>32971.000000</td>\n",
       "      <td>32971.000000</td>\n",
       "      <td>32971.000000</td>\n",
       "      <td>32971.000000</td>\n",
       "    </tr>\n",
       "    <tr>\n",
       "      <th>mean</th>\n",
       "      <td>27.713657</td>\n",
       "      <td>65512.577689</td>\n",
       "      <td>4.628583</td>\n",
       "      <td>9543.121986</td>\n",
       "      <td>9.912162</td>\n",
       "      <td>0.217130</td>\n",
       "      <td>0.169382</td>\n",
       "      <td>5.798581</td>\n",
       "    </tr>\n",
       "    <tr>\n",
       "      <th>std</th>\n",
       "      <td>6.192302</td>\n",
       "      <td>47095.830324</td>\n",
       "      <td>4.055094</td>\n",
       "      <td>6338.408299</td>\n",
       "      <td>4.506996</td>\n",
       "      <td>0.412298</td>\n",
       "      <td>0.107014</td>\n",
       "      <td>4.046317</td>\n",
       "    </tr>\n",
       "    <tr>\n",
       "      <th>min</th>\n",
       "      <td>20.000000</td>\n",
       "      <td>4000.000000</td>\n",
       "      <td>0.000000</td>\n",
       "      <td>0.000000</td>\n",
       "      <td>0.000000</td>\n",
       "      <td>0.000000</td>\n",
       "      <td>0.000000</td>\n",
       "      <td>2.000000</td>\n",
       "    </tr>\n",
       "    <tr>\n",
       "      <th>25%</th>\n",
       "      <td>23.000000</td>\n",
       "      <td>38500.000000</td>\n",
       "      <td>2.000000</td>\n",
       "      <td>5000.000000</td>\n",
       "      <td>7.490000</td>\n",
       "      <td>0.000000</td>\n",
       "      <td>0.090000</td>\n",
       "      <td>3.000000</td>\n",
       "    </tr>\n",
       "    <tr>\n",
       "      <th>50%</th>\n",
       "      <td>26.000000</td>\n",
       "      <td>55000.000000</td>\n",
       "      <td>4.000000</td>\n",
       "      <td>8000.000000</td>\n",
       "      <td>10.620000</td>\n",
       "      <td>0.000000</td>\n",
       "      <td>0.150000</td>\n",
       "      <td>4.000000</td>\n",
       "    </tr>\n",
       "    <tr>\n",
       "      <th>75%</th>\n",
       "      <td>30.000000</td>\n",
       "      <td>79200.000000</td>\n",
       "      <td>7.000000</td>\n",
       "      <td>12000.000000</td>\n",
       "      <td>13.110000</td>\n",
       "      <td>0.000000</td>\n",
       "      <td>0.230000</td>\n",
       "      <td>8.000000</td>\n",
       "    </tr>\n",
       "    <tr>\n",
       "      <th>max</th>\n",
       "      <td>84.000000</td>\n",
       "      <td>948000.000000</td>\n",
       "      <td>41.000000</td>\n",
       "      <td>35000.000000</td>\n",
       "      <td>23.220000</td>\n",
       "      <td>1.000000</td>\n",
       "      <td>0.830000</td>\n",
       "      <td>30.000000</td>\n",
       "    </tr>\n",
       "  </tbody>\n",
       "</table>\n",
       "</div>"
      ],
      "text/plain": [
       "       idade_pessoa  salario_ano_pessoa  anos_trabalhados_pessoa  \\\n",
       "count  32971.000000        32971.000000             32971.000000   \n",
       "mean      27.713657        65512.577689                 4.628583   \n",
       "std        6.192302        47095.830324                 4.055094   \n",
       "min       20.000000         4000.000000                 0.000000   \n",
       "25%       23.000000        38500.000000                 2.000000   \n",
       "50%       26.000000        55000.000000                 4.000000   \n",
       "75%       30.000000        79200.000000                 7.000000   \n",
       "max       84.000000       948000.000000                41.000000   \n",
       "\n",
       "       valor_emprestimo  taxa_juros_emprestimo  status_inadimplencia  \\\n",
       "count      32971.000000           32971.000000          32971.000000   \n",
       "mean        9543.121986               9.912162              0.217130   \n",
       "std         6338.408299               4.506996              0.412298   \n",
       "min            0.000000               0.000000              0.000000   \n",
       "25%         5000.000000               7.490000              0.000000   \n",
       "50%         8000.000000              10.620000              0.000000   \n",
       "75%        12000.000000              13.110000              0.000000   \n",
       "max        35000.000000              23.220000              1.000000   \n",
       "\n",
       "       percentual_emprestimo_salario  tempo_primeira_solicitacao  \n",
       "count                   32971.000000                32971.000000  \n",
       "mean                        0.169382                    5.798581  \n",
       "std                         0.107014                    4.046317  \n",
       "min                         0.000000                    2.000000  \n",
       "25%                         0.090000                    3.000000  \n",
       "50%                         0.150000                    4.000000  \n",
       "75%                         0.230000                    8.000000  \n",
       "max                         0.830000                   30.000000  "
      ]
     },
     "execution_count": 20,
     "metadata": {},
     "output_type": "execute_result"
    }
   ],
   "source": [
    "dados_sem_out.describe()"
   ]
  },
  {
   "cell_type": "markdown",
   "id": "d4f46831",
   "metadata": {},
   "source": [
    "O valor do emprestimo não pode ser igual a zero, logo iremos eliminar esses registros. Da mesma maneira a taxa de juros ser zero se tratando de um emprestimo parece ser também um outlier. Vamos tratar essas duas colunas"
   ]
  },
  {
   "cell_type": "code",
   "execution_count": 21,
   "id": "e6c7be61",
   "metadata": {},
   "outputs": [],
   "source": [
    "filtro = (dados_sem_out.valor_emprestimo > 0) & (dados_sem_out.taxa_juros_emprestimo > 0)\n",
    "dados_sem_out = dados_sem_out[filtro]"
   ]
  },
  {
   "cell_type": "markdown",
   "id": "e54a9e25",
   "metadata": {},
   "source": [
    "Vamos analisar como ficou nossa base de dados depois de tratar esses outliers:"
   ]
  },
  {
   "cell_type": "code",
   "execution_count": 22,
   "id": "3621faa6",
   "metadata": {
    "scrolled": false
   },
   "outputs": [
    {
     "name": "stdout",
     "output_type": "stream",
     "text": [
      "<class 'pandas.core.frame.DataFrame'>\n",
      "Int64Index: 29583 entries, 0 to 34484\n",
      "Data columns (total 15 columns):\n",
      " #   Column                         Non-Null Count  Dtype  \n",
      "---  ------                         --------------  -----  \n",
      " 0   id_pessoa                      29583 non-null  object \n",
      " 1   idade_pessoa                   29583 non-null  int64  \n",
      " 2   salario_ano_pessoa             29583 non-null  int64  \n",
      " 3   propriedade_pessoa             29583 non-null  object \n",
      " 4   anos_trabalhados_pessoa        29583 non-null  float64\n",
      " 5   id_emprestimo                  29583 non-null  object \n",
      " 6   motivo_emprestimo              29583 non-null  object \n",
      " 7   pontuacao_emprestimo           29583 non-null  object \n",
      " 8   valor_emprestimo               29583 non-null  int64  \n",
      " 9   taxa_juros_emprestimo          29583 non-null  float64\n",
      " 10  status_inadimplencia           29583 non-null  int64  \n",
      " 11  percentual_emprestimo_salario  29583 non-null  float64\n",
      " 12  id_historico                   29583 non-null  object \n",
      " 13  verifica_inadimplencia         29583 non-null  object \n",
      " 14  tempo_primeira_solicitacao     29583 non-null  int64  \n",
      "dtypes: float64(3), int64(5), object(7)\n",
      "memory usage: 3.6+ MB\n"
     ]
    }
   ],
   "source": [
    "dados_sem_out.info()"
   ]
  },
  {
   "cell_type": "code",
   "execution_count": 23,
   "id": "63187b79",
   "metadata": {
    "scrolled": true
   },
   "outputs": [
    {
     "data": {
      "text/html": [
       "<div>\n",
       "<style scoped>\n",
       "    .dataframe tbody tr th:only-of-type {\n",
       "        vertical-align: middle;\n",
       "    }\n",
       "\n",
       "    .dataframe tbody tr th {\n",
       "        vertical-align: top;\n",
       "    }\n",
       "\n",
       "    .dataframe thead th {\n",
       "        text-align: right;\n",
       "    }\n",
       "</style>\n",
       "<table border=\"1\" class=\"dataframe\">\n",
       "  <thead>\n",
       "    <tr style=\"text-align: right;\">\n",
       "      <th></th>\n",
       "      <th>idade_pessoa</th>\n",
       "      <th>salario_ano_pessoa</th>\n",
       "      <th>anos_trabalhados_pessoa</th>\n",
       "      <th>valor_emprestimo</th>\n",
       "      <th>taxa_juros_emprestimo</th>\n",
       "      <th>status_inadimplencia</th>\n",
       "      <th>percentual_emprestimo_salario</th>\n",
       "      <th>tempo_primeira_solicitacao</th>\n",
       "    </tr>\n",
       "  </thead>\n",
       "  <tbody>\n",
       "    <tr>\n",
       "      <th>count</th>\n",
       "      <td>29583.000000</td>\n",
       "      <td>29583.000000</td>\n",
       "      <td>29583.000000</td>\n",
       "      <td>29583.000000</td>\n",
       "      <td>29583.000000</td>\n",
       "      <td>29583.000000</td>\n",
       "      <td>29583.000000</td>\n",
       "      <td>29583.000000</td>\n",
       "    </tr>\n",
       "    <tr>\n",
       "      <th>mean</th>\n",
       "      <td>27.699997</td>\n",
       "      <td>65525.552987</td>\n",
       "      <td>4.633911</td>\n",
       "      <td>9583.453335</td>\n",
       "      <td>11.010195</td>\n",
       "      <td>0.218808</td>\n",
       "      <td>0.169739</td>\n",
       "      <td>5.786938</td>\n",
       "    </tr>\n",
       "    <tr>\n",
       "      <th>std</th>\n",
       "      <td>6.168867</td>\n",
       "      <td>46921.136552</td>\n",
       "      <td>4.056791</td>\n",
       "      <td>6317.036143</td>\n",
       "      <td>3.239640</td>\n",
       "      <td>0.413445</td>\n",
       "      <td>0.107013</td>\n",
       "      <td>4.026903</td>\n",
       "    </tr>\n",
       "    <tr>\n",
       "      <th>min</th>\n",
       "      <td>20.000000</td>\n",
       "      <td>4000.000000</td>\n",
       "      <td>0.000000</td>\n",
       "      <td>500.000000</td>\n",
       "      <td>5.420000</td>\n",
       "      <td>0.000000</td>\n",
       "      <td>0.000000</td>\n",
       "      <td>2.000000</td>\n",
       "    </tr>\n",
       "    <tr>\n",
       "      <th>25%</th>\n",
       "      <td>23.000000</td>\n",
       "      <td>38500.000000</td>\n",
       "      <td>2.000000</td>\n",
       "      <td>5000.000000</td>\n",
       "      <td>7.900000</td>\n",
       "      <td>0.000000</td>\n",
       "      <td>0.090000</td>\n",
       "      <td>3.000000</td>\n",
       "    </tr>\n",
       "    <tr>\n",
       "      <th>50%</th>\n",
       "      <td>26.000000</td>\n",
       "      <td>55000.000000</td>\n",
       "      <td>4.000000</td>\n",
       "      <td>8000.000000</td>\n",
       "      <td>10.990000</td>\n",
       "      <td>0.000000</td>\n",
       "      <td>0.150000</td>\n",
       "      <td>4.000000</td>\n",
       "    </tr>\n",
       "    <tr>\n",
       "      <th>75%</th>\n",
       "      <td>30.000000</td>\n",
       "      <td>79000.000000</td>\n",
       "      <td>7.000000</td>\n",
       "      <td>12250.000000</td>\n",
       "      <td>13.470000</td>\n",
       "      <td>0.000000</td>\n",
       "      <td>0.230000</td>\n",
       "      <td>8.000000</td>\n",
       "    </tr>\n",
       "    <tr>\n",
       "      <th>max</th>\n",
       "      <td>84.000000</td>\n",
       "      <td>948000.000000</td>\n",
       "      <td>41.000000</td>\n",
       "      <td>35000.000000</td>\n",
       "      <td>23.220000</td>\n",
       "      <td>1.000000</td>\n",
       "      <td>0.830000</td>\n",
       "      <td>30.000000</td>\n",
       "    </tr>\n",
       "  </tbody>\n",
       "</table>\n",
       "</div>"
      ],
      "text/plain": [
       "       idade_pessoa  salario_ano_pessoa  anos_trabalhados_pessoa  \\\n",
       "count  29583.000000        29583.000000             29583.000000   \n",
       "mean      27.699997        65525.552987                 4.633911   \n",
       "std        6.168867        46921.136552                 4.056791   \n",
       "min       20.000000         4000.000000                 0.000000   \n",
       "25%       23.000000        38500.000000                 2.000000   \n",
       "50%       26.000000        55000.000000                 4.000000   \n",
       "75%       30.000000        79000.000000                 7.000000   \n",
       "max       84.000000       948000.000000                41.000000   \n",
       "\n",
       "       valor_emprestimo  taxa_juros_emprestimo  status_inadimplencia  \\\n",
       "count      29583.000000           29583.000000          29583.000000   \n",
       "mean        9583.453335              11.010195              0.218808   \n",
       "std         6317.036143               3.239640              0.413445   \n",
       "min          500.000000               5.420000              0.000000   \n",
       "25%         5000.000000               7.900000              0.000000   \n",
       "50%         8000.000000              10.990000              0.000000   \n",
       "75%        12250.000000              13.470000              0.000000   \n",
       "max        35000.000000              23.220000              1.000000   \n",
       "\n",
       "       percentual_emprestimo_salario  tempo_primeira_solicitacao  \n",
       "count                   29583.000000                29583.000000  \n",
       "mean                        0.169739                    5.786938  \n",
       "std                         0.107013                    4.026903  \n",
       "min                         0.000000                    2.000000  \n",
       "25%                         0.090000                    3.000000  \n",
       "50%                         0.150000                    4.000000  \n",
       "75%                         0.230000                    8.000000  \n",
       "max                         0.830000                   30.000000  "
      ]
     },
     "execution_count": 23,
     "metadata": {},
     "output_type": "execute_result"
    }
   ],
   "source": [
    "dados_sem_out.describe()"
   ]
  },
  {
   "cell_type": "markdown",
   "id": "feba4847",
   "metadata": {},
   "source": [
    "No final das contas, perdemos alguns registros da nossa base de dados, porém elas afetariam diretamente no nosso modelo, ou seja, remover esses outliers irá trazer mais vantagens do que desvantagens."
   ]
  },
  {
   "cell_type": "markdown",
   "id": "8297082e",
   "metadata": {},
   "source": [
    "### 3. Correlação de Variáveis"
   ]
  },
  {
   "cell_type": "code",
   "execution_count": 24,
   "id": "56897888",
   "metadata": {},
   "outputs": [
    {
     "data": {
      "text/plain": [
       "<AxesSubplot:>"
      ]
     },
     "execution_count": 24,
     "metadata": {},
     "output_type": "execute_result"
    },
    {
     "data": {
      "image/png": "[encoded data removed]",
      "text/plain": [
       "<Figure size 720x360 with 2 Axes>"
      ]
     },
     "metadata": {
      "needs_background": "light"
     },
     "output_type": "display_data"
    }
   ],
   "source": [
    "import seaborn as sns\n",
    "\n",
    "plt.figure(figsize=(10,5))\n",
    "sns.heatmap(dados.corr(), annot = True)"
   ]
  },
  {
   "cell_type": "markdown",
   "id": "70dea595",
   "metadata": {},
   "source": [
    "Analise das correlações pelo mapa de calor:\n",
    "\n",
    "• A base de dados não possui correlações muito forte entre as variáveis. Por esse motivo, não teremos aqui uma relação linear entre os dados."
   ]
  },
  {
   "cell_type": "markdown",
   "id": "6cf50421",
   "metadata": {},
   "source": [
    "### 4. Aplicação de encoding nas variáveis categóricas"
   ]
  },
  {
   "cell_type": "code",
   "execution_count": 25,
   "id": "9b8cd2d3",
   "metadata": {},
   "outputs": [
    {
     "name": "stdout",
     "output_type": "stream",
     "text": [
      "<class 'pandas.core.frame.DataFrame'>\n",
      "Int64Index: 29583 entries, 0 to 34484\n",
      "Data columns (total 15 columns):\n",
      " #   Column                         Non-Null Count  Dtype  \n",
      "---  ------                         --------------  -----  \n",
      " 0   id_pessoa                      29583 non-null  object \n",
      " 1   idade_pessoa                   29583 non-null  int64  \n",
      " 2   salario_ano_pessoa             29583 non-null  int64  \n",
      " 3   propriedade_pessoa             29583 non-null  object \n",
      " 4   anos_trabalhados_pessoa        29583 non-null  float64\n",
      " 5   id_emprestimo                  29583 non-null  object \n",
      " 6   motivo_emprestimo              29583 non-null  object \n",
      " 7   pontuacao_emprestimo           29583 non-null  object \n",
      " 8   valor_emprestimo               29583 non-null  int64  \n",
      " 9   taxa_juros_emprestimo          29583 non-null  float64\n",
      " 10  status_inadimplencia           29583 non-null  int64  \n",
      " 11  percentual_emprestimo_salario  29583 non-null  float64\n",
      " 12  id_historico                   29583 non-null  object \n",
      " 13  verifica_inadimplencia         29583 non-null  object \n",
      " 14  tempo_primeira_solicitacao     29583 non-null  int64  \n",
      "dtypes: float64(3), int64(5), object(7)\n",
      "memory usage: 3.6+ MB\n"
     ]
    }
   ],
   "source": [
    "dados_sem_out.info()"
   ]
  },
  {
   "cell_type": "markdown",
   "id": "c9ac3b06",
   "metadata": {},
   "source": [
    "As variáveis categóricas da base de dados são: 'propriedade_pessoa', 'motivo_emprestimo', 'pontuacao_emprestimo' e 'verifica_inadimplencia'. Vamos fazer o encoding dessas variáveis"
   ]
  },
  {
   "cell_type": "code",
   "execution_count": 26,
   "id": "e1121fb5",
   "metadata": {},
   "outputs": [
    {
     "data": {
      "text/plain": [
       "array(['Aluguel', 'Hipoteca', 'Propria', 'Outros'], dtype=object)"
      ]
     },
     "execution_count": 26,
     "metadata": {},
     "output_type": "execute_result"
    }
   ],
   "source": [
    "dados_sem_out.propriedade_pessoa.unique()"
   ]
  },
  {
   "cell_type": "code",
   "execution_count": 27,
   "id": "3535f2e7",
   "metadata": {},
   "outputs": [],
   "source": [
    "dic = {\n",
    "    'Aluguel': 1,\n",
    "    'Hipoteca': 2,\n",
    "    'Propria': 3,\n",
    "    'Outros': 4\n",
    "}\n",
    "dados_sem_out.propriedade_pessoa = dados_sem_out.propriedade_pessoa.map(dic)"
   ]
  },
  {
   "cell_type": "code",
   "execution_count": 28,
   "id": "e89c9d54",
   "metadata": {},
   "outputs": [
    {
     "data": {
      "text/plain": [
       "array(['Melhora_do_lar', 'Empreendimento', 'Pagamento_debitos', 'Pessoal',\n",
       "       'Medico', 'Educativo'], dtype=object)"
      ]
     },
     "execution_count": 28,
     "metadata": {},
     "output_type": "execute_result"
    }
   ],
   "source": [
    "dados_sem_out.motivo_emprestimo.unique()"
   ]
  },
  {
   "cell_type": "code",
   "execution_count": 29,
   "id": "1c80f7d2",
   "metadata": {},
   "outputs": [],
   "source": [
    "dic = {\n",
    "    'Melhora_do_lar': 1,\n",
    "    'Empreendimento': 2,\n",
    "    'Pagamento_debitos': 3,\n",
    "    'Pessoal': 4,\n",
    "    'Medico': 5,\n",
    "    'Educativo': 6\n",
    "}\n",
    "dados_sem_out.motivo_emprestimo = dados_sem_out.motivo_emprestimo.map(dic)"
   ]
  },
  {
   "cell_type": "code",
   "execution_count": 30,
   "id": "abe8086c",
   "metadata": {},
   "outputs": [
    {
     "data": {
      "text/plain": [
       "array(['A', 'C', 'D', 'E', 'B', 'F', 'G'], dtype=object)"
      ]
     },
     "execution_count": 30,
     "metadata": {},
     "output_type": "execute_result"
    }
   ],
   "source": [
    "dados_sem_out.pontuacao_emprestimo.unique()"
   ]
  },
  {
   "cell_type": "code",
   "execution_count": 31,
   "id": "803ca350",
   "metadata": {},
   "outputs": [],
   "source": [
    "dic = {\n",
    "    'A': 1,\n",
    "    'B': 2,\n",
    "    'C': 3,\n",
    "    'D': 4,\n",
    "    'E': 5,\n",
    "    'F': 6,\n",
    "    'G': 7\n",
    "}\n",
    "dados_sem_out.pontuacao_emprestimo = dados_sem_out.pontuacao_emprestimo.map(dic)"
   ]
  },
  {
   "cell_type": "code",
   "execution_count": 32,
   "id": "d96955ee",
   "metadata": {},
   "outputs": [
    {
     "data": {
      "text/plain": [
       "array(['N', 'Y'], dtype=object)"
      ]
     },
     "execution_count": 32,
     "metadata": {},
     "output_type": "execute_result"
    }
   ],
   "source": [
    "dados_sem_out.verifica_inadimplencia.unique()"
   ]
  },
  {
   "cell_type": "code",
   "execution_count": 33,
   "id": "fcff7885",
   "metadata": {},
   "outputs": [],
   "source": [
    "dic = {\n",
    "    'N': 0,\n",
    "    'Y': 1\n",
    "}\n",
    "dados_sem_out.verifica_inadimplencia = dados_sem_out.verifica_inadimplencia.map(dic)"
   ]
  },
  {
   "cell_type": "markdown",
   "id": "459c290f",
   "metadata": {},
   "source": [
    "### 5. Normalização das variáveis"
   ]
  },
  {
   "cell_type": "markdown",
   "id": "5212d68e",
   "metadata": {},
   "source": [
    "Antes de fazer a normalização das variáveis precisamos separar as nossas colunas de variáveis categóricas por colunas com características dessas variáveis com valores binários. O motivo disso é que o modelo se adapta melhor dessa forma !"
   ]
  },
  {
   "cell_type": "code",
   "execution_count": 34,
   "id": "94c17060",
   "metadata": {},
   "outputs": [],
   "source": [
    "dados_sem_out = pd.get_dummies(dados_sem_out, columns = ['propriedade_pessoa', 'motivo_emprestimo', 'pontuacao_emprestimo'])"
   ]
  },
  {
   "cell_type": "code",
   "execution_count": 35,
   "id": "c2d77009",
   "metadata": {},
   "outputs": [
    {
     "data": {
      "text/plain": [
       "Index(['id_pessoa', 'idade_pessoa', 'salario_ano_pessoa',\n",
       "       'anos_trabalhados_pessoa', 'id_emprestimo', 'valor_emprestimo',\n",
       "       'taxa_juros_emprestimo', 'status_inadimplencia',\n",
       "       'percentual_emprestimo_salario', 'id_historico',\n",
       "       'verifica_inadimplencia', 'tempo_primeira_solicitacao',\n",
       "       'propriedade_pessoa_1', 'propriedade_pessoa_2', 'propriedade_pessoa_3',\n",
       "       'propriedade_pessoa_4', 'motivo_emprestimo_1', 'motivo_emprestimo_2',\n",
       "       'motivo_emprestimo_3', 'motivo_emprestimo_4', 'motivo_emprestimo_5',\n",
       "       'motivo_emprestimo_6', 'pontuacao_emprestimo_1',\n",
       "       'pontuacao_emprestimo_2', 'pontuacao_emprestimo_3',\n",
       "       'pontuacao_emprestimo_4', 'pontuacao_emprestimo_5',\n",
       "       'pontuacao_emprestimo_6', 'pontuacao_emprestimo_7'],\n",
       "      dtype='object')"
      ]
     },
     "execution_count": 35,
     "metadata": {},
     "output_type": "execute_result"
    }
   ],
   "source": [
    "dados_sem_out.columns"
   ]
  },
  {
   "cell_type": "markdown",
   "id": "5065cc98",
   "metadata": {},
   "source": [
    "Existe mais um passo a se fazer antes de normalizar as variáveis, pois só queremos normalizar as variáveis de entrada (X). Logo, precisamos remover as colunas que só servem para identificação como a coluna 'id_pessoa' e a coluna que representa nossa saída (Y)."
   ]
  },
  {
   "cell_type": "code",
   "execution_count": 36,
   "id": "eef1b25f",
   "metadata": {},
   "outputs": [],
   "source": [
    "x = dados_sem_out.drop(columns = ['id_pessoa', 'id_emprestimo', 'status_inadimplencia', 'id_historico'])\n",
    "y = dados_sem_out['status_inadimplencia']"
   ]
  },
  {
   "cell_type": "code",
   "execution_count": 37,
   "id": "d4a5f113",
   "metadata": {},
   "outputs": [
    {
     "data": {
      "text/plain": [
       "Index(['idade_pessoa', 'salario_ano_pessoa', 'anos_trabalhados_pessoa',\n",
       "       'valor_emprestimo', 'taxa_juros_emprestimo',\n",
       "       'percentual_emprestimo_salario', 'verifica_inadimplencia',\n",
       "       'tempo_primeira_solicitacao', 'propriedade_pessoa_1',\n",
       "       'propriedade_pessoa_2', 'propriedade_pessoa_3', 'propriedade_pessoa_4',\n",
       "       'motivo_emprestimo_1', 'motivo_emprestimo_2', 'motivo_emprestimo_3',\n",
       "       'motivo_emprestimo_4', 'motivo_emprestimo_5', 'motivo_emprestimo_6',\n",
       "       'pontuacao_emprestimo_1', 'pontuacao_emprestimo_2',\n",
       "       'pontuacao_emprestimo_3', 'pontuacao_emprestimo_4',\n",
       "       'pontuacao_emprestimo_5', 'pontuacao_emprestimo_6',\n",
       "       'pontuacao_emprestimo_7'],\n",
       "      dtype='object')"
      ]
     },
     "execution_count": 37,
     "metadata": {},
     "output_type": "execute_result"
    }
   ],
   "source": [
    "x.columns"
   ]
  },
  {
   "cell_type": "code",
   "execution_count": 38,
   "id": "904c381d",
   "metadata": {},
   "outputs": [
    {
     "data": {
      "text/plain": [
       "0        0\n",
       "1        1\n",
       "2        0\n",
       "4        1\n",
       "5        0\n",
       "        ..\n",
       "34479    1\n",
       "34480    0\n",
       "34481    0\n",
       "34482    1\n",
       "34484    0\n",
       "Name: status_inadimplencia, Length: 29583, dtype: int64"
      ]
     },
     "execution_count": 38,
     "metadata": {},
     "output_type": "execute_result"
    }
   ],
   "source": [
    "y"
   ]
  },
  {
   "cell_type": "markdown",
   "id": "fe01b29c",
   "metadata": {},
   "source": [
    "Agora sim é hora de fazer a normalização das variáveis a serem treinadas !"
   ]
  },
  {
   "cell_type": "code",
   "execution_count": 39,
   "id": "4b74c5d7",
   "metadata": {
    "scrolled": true
   },
   "outputs": [
    {
     "data": {
      "text/html": [
       "<div>\n",
       "<style scoped>\n",
       "    .dataframe tbody tr th:only-of-type {\n",
       "        vertical-align: middle;\n",
       "    }\n",
       "\n",
       "    .dataframe tbody tr th {\n",
       "        vertical-align: top;\n",
       "    }\n",
       "\n",
       "    .dataframe thead th {\n",
       "        text-align: right;\n",
       "    }\n",
       "</style>\n",
       "<table border=\"1\" class=\"dataframe\">\n",
       "  <thead>\n",
       "    <tr style=\"text-align: right;\">\n",
       "      <th></th>\n",
       "      <th>idade_pessoa</th>\n",
       "      <th>salario_ano_pessoa</th>\n",
       "      <th>anos_trabalhados_pessoa</th>\n",
       "      <th>valor_emprestimo</th>\n",
       "      <th>taxa_juros_emprestimo</th>\n",
       "      <th>percentual_emprestimo_salario</th>\n",
       "      <th>verifica_inadimplencia</th>\n",
       "      <th>tempo_primeira_solicitacao</th>\n",
       "      <th>propriedade_pessoa_1</th>\n",
       "      <th>propriedade_pessoa_2</th>\n",
       "      <th>...</th>\n",
       "      <th>motivo_emprestimo_4</th>\n",
       "      <th>motivo_emprestimo_5</th>\n",
       "      <th>motivo_emprestimo_6</th>\n",
       "      <th>pontuacao_emprestimo_1</th>\n",
       "      <th>pontuacao_emprestimo_2</th>\n",
       "      <th>pontuacao_emprestimo_3</th>\n",
       "      <th>pontuacao_emprestimo_4</th>\n",
       "      <th>pontuacao_emprestimo_5</th>\n",
       "      <th>pontuacao_emprestimo_6</th>\n",
       "      <th>pontuacao_emprestimo_7</th>\n",
       "    </tr>\n",
       "  </thead>\n",
       "  <tbody>\n",
       "    <tr>\n",
       "      <th>0</th>\n",
       "      <td>-0.113474</td>\n",
       "      <td>0.052737</td>\n",
       "      <td>-0.156262</td>\n",
       "      <td>-0.139855</td>\n",
       "      <td>-0.966233</td>\n",
       "      <td>-0.371352</td>\n",
       "      <td>-0.463420</td>\n",
       "      <td>-0.195424</td>\n",
       "      <td>0.989408</td>\n",
       "      <td>-0.835888</td>\n",
       "      <td>...</td>\n",
       "      <td>-0.452347</td>\n",
       "      <td>-0.476607</td>\n",
       "      <td>-0.498278</td>\n",
       "      <td>1.418851</td>\n",
       "      <td>-0.6841</td>\n",
       "      <td>-0.496321</td>\n",
       "      <td>-0.355969</td>\n",
       "      <td>-0.175711</td>\n",
       "      <td>-0.085562</td>\n",
       "      <td>-0.044703</td>\n",
       "    </tr>\n",
       "    <tr>\n",
       "      <th>1</th>\n",
       "      <td>-0.599796</td>\n",
       "      <td>-1.127987</td>\n",
       "      <td>-0.649271</td>\n",
       "      <td>-1.121344</td>\n",
       "      <td>0.648171</td>\n",
       "      <td>0.282787</td>\n",
       "      <td>2.157871</td>\n",
       "      <td>-0.940426</td>\n",
       "      <td>0.989408</td>\n",
       "      <td>-0.835888</td>\n",
       "      <td>...</td>\n",
       "      <td>-0.452347</td>\n",
       "      <td>-0.476607</td>\n",
       "      <td>-0.498278</td>\n",
       "      <td>-0.704795</td>\n",
       "      <td>-0.6841</td>\n",
       "      <td>2.014824</td>\n",
       "      <td>-0.355969</td>\n",
       "      <td>-0.175711</td>\n",
       "      <td>-0.085562</td>\n",
       "      <td>-0.044703</td>\n",
       "    </tr>\n",
       "    <tr>\n",
       "      <th>2</th>\n",
       "      <td>0.372847</td>\n",
       "      <td>0.734744</td>\n",
       "      <td>2.062278</td>\n",
       "      <td>0.382551</td>\n",
       "      <td>-0.966233</td>\n",
       "      <td>-0.464801</td>\n",
       "      <td>-0.463420</td>\n",
       "      <td>0.797912</td>\n",
       "      <td>0.989408</td>\n",
       "      <td>-0.835888</td>\n",
       "      <td>...</td>\n",
       "      <td>-0.452347</td>\n",
       "      <td>-0.476607</td>\n",
       "      <td>-0.498278</td>\n",
       "      <td>1.418851</td>\n",
       "      <td>-0.6841</td>\n",
       "      <td>-0.496321</td>\n",
       "      <td>-0.355969</td>\n",
       "      <td>-0.175711</td>\n",
       "      <td>-0.085562</td>\n",
       "      <td>-0.044703</td>\n",
       "    </tr>\n",
       "    <tr>\n",
       "      <th>3</th>\n",
       "      <td>0.372847</td>\n",
       "      <td>0.956396</td>\n",
       "      <td>-0.895775</td>\n",
       "      <td>0.699160</td>\n",
       "      <td>1.814987</td>\n",
       "      <td>-0.371352</td>\n",
       "      <td>-0.463420</td>\n",
       "      <td>0.052910</td>\n",
       "      <td>0.989408</td>\n",
       "      <td>-0.835888</td>\n",
       "      <td>...</td>\n",
       "      <td>-0.452347</td>\n",
       "      <td>-0.476607</td>\n",
       "      <td>-0.498278</td>\n",
       "      <td>-0.704795</td>\n",
       "      <td>-0.6841</td>\n",
       "      <td>-0.496321</td>\n",
       "      <td>2.809234</td>\n",
       "      <td>-0.175711</td>\n",
       "      <td>-0.085562</td>\n",
       "      <td>-0.044703</td>\n",
       "    </tr>\n",
       "    <tr>\n",
       "      <th>4</th>\n",
       "      <td>0.534954</td>\n",
       "      <td>-0.821340</td>\n",
       "      <td>-1.142280</td>\n",
       "      <td>-0.598939</td>\n",
       "      <td>-1.355172</td>\n",
       "      <td>0.376236</td>\n",
       "      <td>-0.463420</td>\n",
       "      <td>0.797912</td>\n",
       "      <td>0.989408</td>\n",
       "      <td>-0.835888</td>\n",
       "      <td>...</td>\n",
       "      <td>-0.452347</td>\n",
       "      <td>-0.476607</td>\n",
       "      <td>-0.498278</td>\n",
       "      <td>1.418851</td>\n",
       "      <td>-0.6841</td>\n",
       "      <td>-0.496321</td>\n",
       "      <td>-0.355969</td>\n",
       "      <td>-0.175711</td>\n",
       "      <td>-0.085562</td>\n",
       "      <td>-0.044703</td>\n",
       "    </tr>\n",
       "  </tbody>\n",
       "</table>\n",
       "<p>5 rows × 25 columns</p>\n",
       "</div>"
      ],
      "text/plain": [
       "   idade_pessoa  salario_ano_pessoa  anos_trabalhados_pessoa  \\\n",
       "0     -0.113474            0.052737                -0.156262   \n",
       "1     -0.599796           -1.127987                -0.649271   \n",
       "2      0.372847            0.734744                 2.062278   \n",
       "3      0.372847            0.956396                -0.895775   \n",
       "4      0.534954           -0.821340                -1.142280   \n",
       "\n",
       "   valor_emprestimo  taxa_juros_emprestimo  percentual_emprestimo_salario  \\\n",
       "0         -0.139855              -0.966233                      -0.371352   \n",
       "1         -1.121344               0.648171                       0.282787   \n",
       "2          0.382551              -0.966233                      -0.464801   \n",
       "3          0.699160               1.814987                      -0.371352   \n",
       "4         -0.598939              -1.355172                       0.376236   \n",
       "\n",
       "   verifica_inadimplencia  tempo_primeira_solicitacao  propriedade_pessoa_1  \\\n",
       "0               -0.463420                   -0.195424              0.989408   \n",
       "1                2.157871                   -0.940426              0.989408   \n",
       "2               -0.463420                    0.797912              0.989408   \n",
       "3               -0.463420                    0.052910              0.989408   \n",
       "4               -0.463420                    0.797912              0.989408   \n",
       "\n",
       "   propriedade_pessoa_2  ...  motivo_emprestimo_4  motivo_emprestimo_5  \\\n",
       "0             -0.835888  ...            -0.452347            -0.476607   \n",
       "1             -0.835888  ...            -0.452347            -0.476607   \n",
       "2             -0.835888  ...            -0.452347            -0.476607   \n",
       "3             -0.835888  ...            -0.452347            -0.476607   \n",
       "4             -0.835888  ...            -0.452347            -0.476607   \n",
       "\n",
       "   motivo_emprestimo_6  pontuacao_emprestimo_1  pontuacao_emprestimo_2  \\\n",
       "0            -0.498278                1.418851                 -0.6841   \n",
       "1            -0.498278               -0.704795                 -0.6841   \n",
       "2            -0.498278                1.418851                 -0.6841   \n",
       "3            -0.498278               -0.704795                 -0.6841   \n",
       "4            -0.498278                1.418851                 -0.6841   \n",
       "\n",
       "   pontuacao_emprestimo_3  pontuacao_emprestimo_4  pontuacao_emprestimo_5  \\\n",
       "0               -0.496321               -0.355969               -0.175711   \n",
       "1                2.014824               -0.355969               -0.175711   \n",
       "2               -0.496321               -0.355969               -0.175711   \n",
       "3               -0.496321                2.809234               -0.175711   \n",
       "4               -0.496321               -0.355969               -0.175711   \n",
       "\n",
       "   pontuacao_emprestimo_6  pontuacao_emprestimo_7  \n",
       "0               -0.085562               -0.044703  \n",
       "1               -0.085562               -0.044703  \n",
       "2               -0.085562               -0.044703  \n",
       "3               -0.085562               -0.044703  \n",
       "4               -0.085562               -0.044703  \n",
       "\n",
       "[5 rows x 25 columns]"
      ]
     },
     "execution_count": 39,
     "metadata": {},
     "output_type": "execute_result"
    }
   ],
   "source": [
    "from sklearn.preprocessing import StandardScaler\n",
    "\n",
    "scaler = StandardScaler()\n",
    "x_scale = scaler.fit_transform(x)\n",
    "x_scale = pd.DataFrame(x_scale, columns = x.columns)\n",
    "x_scale.head(5)"
   ]
  },
  {
   "cell_type": "markdown",
   "id": "cbe4ada3",
   "metadata": {},
   "source": [
    "### 6. Balanceamento na variável alvo"
   ]
  },
  {
   "cell_type": "markdown",
   "id": "d052a7c5",
   "metadata": {},
   "source": [
    "Primeiramente vamos ver se nossa variável alvo (O que queremos prever) está balanceada ou não:"
   ]
  },
  {
   "cell_type": "code",
   "execution_count": 40,
   "id": "29e6d353",
   "metadata": {},
   "outputs": [
    {
     "name": "stdout",
     "output_type": "stream",
     "text": [
      "Nº de pessoas que não são inadimplentes:  23110\n",
      "Nº de pessoas que são inadimplentes:  6473\n"
     ]
    }
   ],
   "source": [
    "print('Nº de pessoas que não são inadimplentes: ', y.value_counts()[0])\n",
    "print('Nº de pessoas que são inadimplentes: ', y.value_counts()[1])"
   ]
  },
  {
   "cell_type": "markdown",
   "id": "489bd751",
   "metadata": {},
   "source": [
    "É notório que os nossos dados tem muito mais pessoas que não são inadimplentes (0) do que pessoas que são inadimplentes (1). Se treinarmos o modelo dessa forma, ele pode se acostumar muito com os dados de treino e escolher que chutar todas as respostas como 'não inadimplente' seja uma boa escolha. E de fato, observe: \n",
    "    \n"
   ]
  },
  {
   "cell_type": "code",
   "execution_count": 41,
   "id": "fd66924f",
   "metadata": {
    "scrolled": false
   },
   "outputs": [
    {
     "name": "stdout",
     "output_type": "stream",
     "text": [
      "Chute todos como não inadimplentes: 78.11919007538113%\n"
     ]
    }
   ],
   "source": [
    "print('Chute todos como não inadimplentes: {}%'.format(y.value_counts()[0]/(y.value_counts()[1]+y.value_counts()[0]) * 100))"
   ]
  },
  {
   "cell_type": "markdown",
   "id": "d9eb8f02",
   "metadata": {},
   "source": [
    "Se o modelo chuta todos como não inadimplentes, vamos ter 78% de acurácia no nosso modelo. Mas não é isso que queremos. Queremos que além de uma boa acurácia o modelo seja benéfico para a Alura Cash.\n",
    "\n",
    "Por isso, vamos utilizar a técnica de OverSampling que consiste em aumentar a quantidade de registros da classe com menor frequência até que a base de dados possua uma quantidade equilibrada entre as classes da variável alvo."
   ]
  },
  {
   "cell_type": "code",
   "execution_count": 42,
   "id": "a8cd53ca",
   "metadata": {},
   "outputs": [],
   "source": [
    "from imblearn.over_sampling import SMOTE\n",
    "\n",
    "seed = 25\n",
    "oversample = SMOTE(random_state = seed)\n",
    "x_scale, y = oversample.fit_resample(x_scale,y)"
   ]
  },
  {
   "cell_type": "code",
   "execution_count": 43,
   "id": "6f25b34e",
   "metadata": {},
   "outputs": [
    {
     "name": "stdout",
     "output_type": "stream",
     "text": [
      "Nº de pessoas que não são inadimplentes:  23110\n",
      "Nº de pessoas que são inadimplentes:  23110\n"
     ]
    }
   ],
   "source": [
    "print('Nº de pessoas que não são inadimplentes: ', y.value_counts()[0])\n",
    "print('Nº de pessoas que são inadimplentes: ', y.value_counts()[1])"
   ]
  },
  {
   "cell_type": "markdown",
   "id": "d9d93f16",
   "metadata": {},
   "source": [
    "Como visto acima agora temos nossa variável alvo balanceada, chegou finalmente de elaborar o modelo de Machine Learning."
   ]
  },
  {
   "cell_type": "markdown",
   "id": "44029b08",
   "metadata": {},
   "source": [
    "### 7. Criação do Modelo de ML"
   ]
  },
  {
   "cell_type": "markdown",
   "id": "4516f0b6",
   "metadata": {},
   "source": [
    ">**7.1. Regressão Logística**"
   ]
  },
  {
   "cell_type": "markdown",
   "id": "3b195815",
   "metadata": {},
   "source": [
    "Dividindo os dados de treino e dados de teste:"
   ]
  },
  {
   "cell_type": "code",
   "execution_count": 48,
   "id": "eb3c5068",
   "metadata": {},
   "outputs": [],
   "source": [
    "from sklearn.model_selection import train_test_split\n",
    "x_train, x_test, y_train, y_test = train_test_split(x_scale, y, test_size = 0.3, random_state = seed, stratify = y)"
   ]
  },
  {
   "cell_type": "code",
   "execution_count": 52,
   "id": "f1eaae60",
   "metadata": {},
   "outputs": [
    {
     "name": "stdout",
     "output_type": "stream",
     "text": [
      "Tamanho da amostra total:  46220\n",
      "Tamanho da amostra de treino:  32354\n",
      "Tamanho da amostra de treino:  13866\n"
     ]
    }
   ],
   "source": [
    "print('Tamanho da amostra total: ', x_scale.shape[0])\n",
    "print('Tamanho da amostra de treino: ', x_train.shape[0])\n",
    "print('Tamanho da amostra de treino: ', x_test.shape[0])"
   ]
  },
  {
   "cell_type": "markdown",
   "id": "50d084bf",
   "metadata": {},
   "source": [
    "Aplicando o modelo e obtendo métricas:"
   ]
  },
  {
   "cell_type": "code",
   "execution_count": 76,
   "id": "90308365",
   "metadata": {},
   "outputs": [
    {
     "name": "stdout",
     "output_type": "stream",
     "text": [
      "O Score foi de 80.2%\n",
      "A Acurácia foi de 79.7%\n",
      "A Taxa de Recall foi de 77.0%\n",
      "A Taxa de Balanceamendo (F1-score) foi de 79.10000000000001%\n",
      "Roc_auc score foi de 0.874\n"
     ]
    },
    {
     "name": "stderr",
     "output_type": "stream",
     "text": [
      "C:\\Users\\mvsam\\Anaconda3\\lib\\site-packages\\sklearn\\utils\\deprecation.py:87: FutureWarning: Function plot_confusion_matrix is deprecated; Function `plot_confusion_matrix` is deprecated in 1.0 and will be removed in 1.2. Use one of the class methods: ConfusionMatrixDisplay.from_predictions or ConfusionMatrixDisplay.from_estimator.\n",
      "  warnings.warn(msg, category=FutureWarning)\n"
     ]
    },
    {
     "data": {
      "image/png": "[encoded data removed]",
      "text/plain": [
       "<Figure size 432x288 with 2 Axes>"
      ]
     },
     "metadata": {
      "needs_background": "light"
     },
     "output_type": "display_data"
    },
    {
     "data": {
      "image/png": "[encoded data removed]",
      "text/plain": [
       "<Figure size 360x360 with 1 Axes>"
      ]
     },
     "metadata": {
      "needs_background": "light"
     },
     "output_type": "display_data"
    }
   ],
   "source": [
    "# Importação de bibliotecas:\n",
    "\n",
    "from sklearn.linear_model import LogisticRegression\n",
    "from sklearn.metrics import accuracy_score, recall_score, f1_score\n",
    "import matplotlib.pyplot as plt\n",
    "from sklearn.metrics import plot_confusion_matrix\n",
    "from sklearn.metrics import roc_curve, roc_auc_score\n",
    "\n",
    "# Modelo e previsões:\n",
    "\n",
    "modelo = LogisticRegression(max_iter=1000, random_state = seed)\n",
    "modelo.fit(x_train, y_train)\n",
    "\n",
    "previsoes = modelo.predict(x_test)\n",
    "\n",
    "# Metricas:\n",
    "\n",
    "score = round(modelo.score(x_train, y_train),3) * 100\n",
    "\n",
    "acuracia = round(accuracy_score(y_test, previsoes),3) * 100\n",
    "\n",
    "recall = round(recall_score(y_test, previsoes),3)*100\n",
    "\n",
    "f1 = round(f1_score(y_test, previsoes),3)*100\n",
    "\n",
    "print('O Score foi de {}%'.format(score))\n",
    "print('A Acurácia foi de {}%'.format(acuracia))\n",
    "print('A Taxa de Recall foi de {}%'.format(recall))\n",
    "print('A Taxa de Balanceamendo (F1-score) foi de {}%'.format(f1))\n",
    "\n",
    "matriz_confusao = plot_confusion_matrix(modelo, x_test, y_test)\n",
    "matriz_confusao\n",
    "\n",
    "# Plot da Curva ROC:\n",
    "\n",
    "prob_previsao = modelo.predict_proba(x_test)[:,1]\n",
    "\n",
    "# tfp = Taxa Falsos Positivos\n",
    "# tvp = Taxa Verdadeiros Positivos\n",
    "\n",
    "tfp, tvp, limite = roc_curve(y_test, prob_previsao)\n",
    "print('Roc_auc score foi de {}'.format(round(roc_auc_score(y_test, prob_previsao),3)))\n",
    "\n",
    "plt.subplots(1, figsize=(5,5))\n",
    "plt.title('Curva ROC')\n",
    "plt.plot(tfp, tvp)\n",
    "plt.xlabel('Especificidade')\n",
    "plt.ylabel('Sensibilidade')\n",
    "plt.show()"
   ]
  },
  {
   "cell_type": "markdown",
   "id": "7cc94c57",
   "metadata": {},
   "source": [
    ">**7.2. Decision Tree**"
   ]
  },
  {
   "cell_type": "code",
   "execution_count": 78,
   "id": "382ef4b5",
   "metadata": {},
   "outputs": [
    {
     "name": "stdout",
     "output_type": "stream",
     "text": [
      "O Score foi de 100.0%\n",
      "A Acurácia foi de 88.2%\n",
      "A Taxa de Recall foi de 88.5%\n",
      "A Taxa de Balanceamendo (F1-score) foi de 88.2%\n",
      "roc_auc 0.8818693206404153\n"
     ]
    },
    {
     "name": "stderr",
     "output_type": "stream",
     "text": [
      "C:\\Users\\mvsam\\Anaconda3\\lib\\site-packages\\sklearn\\utils\\deprecation.py:87: FutureWarning: Function plot_confusion_matrix is deprecated; Function `plot_confusion_matrix` is deprecated in 1.0 and will be removed in 1.2. Use one of the class methods: ConfusionMatrixDisplay.from_predictions or ConfusionMatrixDisplay.from_estimator.\n",
      "  warnings.warn(msg, category=FutureWarning)\n"
     ]
    },
    {
     "data": {
      "image/png": "[encoded data removed]",
      "text/plain": [
       "<Figure size 432x288 with 2 Axes>"
      ]
     },
     "metadata": {
      "needs_background": "light"
     },
     "output_type": "display_data"
    },
    {
     "data": {
      "image/png": "[encoded data removed]",
      "text/plain": [
       "<Figure size 360x360 with 1 Axes>"
      ]
     },
     "metadata": {
      "needs_background": "light"
     },
     "output_type": "display_data"
    }
   ],
   "source": [
    "# Importação de bibliotecas:\n",
    "\n",
    "from sklearn.tree import DecisionTreeClassifier\n",
    "from sklearn.metrics import accuracy_score, recall_score, f1_score\n",
    "import matplotlib.pyplot as plt\n",
    "from sklearn.metrics import plot_confusion_matrix\n",
    "from sklearn.metrics import roc_curve, roc_auc_score\n",
    "\n",
    "# Modelo e previsões:\n",
    "\n",
    "modelo = DecisionTreeClassifier(random_state = seed)\n",
    "modelo.fit(x_train, y_train)\n",
    "\n",
    "previsoes = modelo.predict(x_test)\n",
    "\n",
    "# Metricas:\n",
    "\n",
    "score = round(modelo.score(x_train, y_train),3) * 100\n",
    "\n",
    "acuracia = round(accuracy_score(y_test, previsoes),3) * 100\n",
    "\n",
    "recall = round(recall_score(y_test, previsoes),3)*100\n",
    "\n",
    "f1 = round(f1_score(y_test, previsoes),3)*100\n",
    "\n",
    "print('O Score foi de {}%'.format(score))\n",
    "print('A Acurácia foi de {}%'.format(acuracia))\n",
    "print('A Taxa de Recall foi de {}%'.format(recall))\n",
    "print('A Taxa de Balanceamendo (F1-score) foi de {}%'.format(f1))\n",
    "\n",
    "matriz_confusao = plot_confusion_matrix(modelo, x_test, y_test)\n",
    "matriz_confusao\n",
    "\n",
    "# Plot da Curva ROC:\n",
    "\n",
    "prob_previsao = modelo.predict_proba(x_test)[:,1]\n",
    "\n",
    "# tfp = Taxa Falsos Positivos\n",
    "# tvp = Taxa Verdadeiros Positivos\n",
    "\n",
    "tfp, tvp, limite = roc_curve(y_test, prob_previsao)\n",
    "print('roc_auc', roc_auc_score(y_test, prob_previsao))\n",
    "\n",
    "plt.subplots(1, figsize=(5,5))\n",
    "plt.title('Curva ROC')\n",
    "plt.plot(tfp, tvp)\n",
    "plt.xlabel('Especificidade')\n",
    "plt.ylabel('Sensibilidade')\n",
    "plt.show()"
   ]
  },
  {
   "cell_type": "markdown",
   "id": "76dbd0ef",
   "metadata": {},
   "source": [
    ">**7.3. Random Forest**"
   ]
  },
  {
   "cell_type": "code",
   "execution_count": 79,
   "id": "146d8119",
   "metadata": {},
   "outputs": [
    {
     "name": "stdout",
     "output_type": "stream",
     "text": [
      "O Score foi de 100.0%\n",
      "A Acurácia foi de 93.4%\n",
      "A Taxa de Recall foi de 89.1%\n",
      "A Taxa de Balanceamendo (F1-score) foi de 93.10000000000001%\n"
     ]
    },
    {
     "name": "stderr",
     "output_type": "stream",
     "text": [
      "C:\\Users\\mvsam\\Anaconda3\\lib\\site-packages\\sklearn\\utils\\deprecation.py:87: FutureWarning: Function plot_confusion_matrix is deprecated; Function `plot_confusion_matrix` is deprecated in 1.0 and will be removed in 1.2. Use one of the class methods: ConfusionMatrixDisplay.from_predictions or ConfusionMatrixDisplay.from_estimator.\n",
      "  warnings.warn(msg, category=FutureWarning)\n"
     ]
    },
    {
     "name": "stdout",
     "output_type": "stream",
     "text": [
      "roc_auc 0.9836215414027849\n"
     ]
    },
    {
     "data": {
      "image/png": "[encoded data removed]",
      "text/plain": [
       "<Figure size 432x288 with 2 Axes>"
      ]
     },
     "metadata": {
      "needs_background": "light"
     },
     "output_type": "display_data"
    },
    {
     "data": {
      "image/png": "[encoded data removed]",
      "text/plain": [
       "<Figure size 360x360 with 1 Axes>"
      ]
     },
     "metadata": {
      "needs_background": "light"
     },
     "output_type": "display_data"
    }
   ],
   "source": [
    "# Importação de bibliotecas:\n",
    "\n",
    "from sklearn.ensemble import RandomForestClassifier\n",
    "from sklearn.metrics import accuracy_score, recall_score, f1_score\n",
    "import matplotlib.pyplot as plt\n",
    "from sklearn.metrics import plot_confusion_matrix\n",
    "from sklearn.metrics import roc_curve, roc_auc_score\n",
    "\n",
    "# Modelo e previsões:\n",
    "\n",
    "modelo = RandomForestClassifier(random_state = seed, max_dept)\n",
    "modelo.fit(x_train, y_train)\n",
    "\n",
    "previsoes = modelo.predict(x_test)\n",
    "\n",
    "# Metricas:\n",
    "\n",
    "score = round(modelo.score(x_train, y_train),3) * 100\n",
    "\n",
    "acuracia = round(accuracy_score(y_test, previsoes),3) * 100\n",
    "\n",
    "recall = round(recall_score(y_test, previsoes),3)*100\n",
    "\n",
    "f1 = round(f1_score(y_test, previsoes),3)*100\n",
    "\n",
    "print('O Score foi de {}%'.format(score))\n",
    "print('A Acurácia foi de {}%'.format(acuracia))\n",
    "print('A Taxa de Recall foi de {}%'.format(recall))\n",
    "print('A Taxa de Balanceamendo (F1-score) foi de {}%'.format(f1))\n",
    "\n",
    "matriz_confusao = plot_confusion_matrix(modelo, x_test, y_test)\n",
    "matriz_confusao\n",
    "\n",
    "# Plot da Curva ROC:\n",
    "\n",
    "prob_previsao = modelo.predict_proba(x_test)[:,1]\n",
    "\n",
    "# tfp = Taxa Falsos Positivos\n",
    "# tvp = Taxa Verdadeiros Positivos\n",
    "\n",
    "tfp, tvp, limite = roc_curve(y_test, prob_previsao)\n",
    "print('roc_auc', roc_auc_score(y_test, prob_previsao))\n",
    "\n",
    "plt.subplots(1, figsize=(5,5))\n",
    "plt.title('Curva ROC')\n",
    "plt.plot(tfp, tvp)\n",
    "plt.xlabel('Especificidade')\n",
    "plt.ylabel('Sensibilidade')\n",
    "plt.show()"
   ]
  },
  {
   "cell_type": "code",
   "execution_count": null,
   "id": "15b6a424",
   "metadata": {},
   "outputs": [],
   "source": []
  }
 ],
 "metadata": {
  "kernelspec": {
   "display_name": "Python 3 (ipykernel)",
   "language": "python",
   "name": "python3"
  },
  "language_info": {
   "codemirror_mode": {
    "name": "ipython",
    "version": 3
   },
   "file_extension": ".py",
   "mimetype": "text/x-python",
   "name": "python",
   "nbconvert_exporter": "python",
   "pygments_lexer": "ipython3",
   "version": "3.9.12"
  }
 },
 "nbformat": 4,
 "nbformat_minor": 5
}
