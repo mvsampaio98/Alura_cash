{
 "cells": [
  {
   "cell_type": "markdown",
   "id": "5c698dbd",
   "metadata": {},
   "source": [
    "<h1><center>ALURA CASH</center></h1>"
   ]
  },
  {
   "cell_type": "markdown",
   "id": "9ce71c45",
   "metadata": {},
   "source": [
    "**Importando base de dados**"
   ]
  },
  {
   "cell_type": "code",
   "execution_count": 1,
   "id": "9ca31d5f",
   "metadata": {
    "scrolled": true
   },
   "outputs": [
    {
     "data": {
      "text/html": [
       "<div>\n",
       "<style scoped>\n",
       "    .dataframe tbody tr th:only-of-type {\n",
       "        vertical-align: middle;\n",
       "    }\n",
       "\n",
       "    .dataframe tbody tr th {\n",
       "        vertical-align: top;\n",
       "    }\n",
       "\n",
       "    .dataframe thead th {\n",
       "        text-align: right;\n",
       "    }\n",
       "</style>\n",
       "<table border=\"1\" class=\"dataframe\">\n",
       "  <thead>\n",
       "    <tr style=\"text-align: right;\">\n",
       "      <th></th>\n",
       "      <th>id_pessoa</th>\n",
       "      <th>idade_pessoa</th>\n",
       "      <th>salario_ano_pessoa</th>\n",
       "      <th>propriedade_pessoa</th>\n",
       "      <th>anos_trabalhados_pessoa</th>\n",
       "      <th>id_emprestimo</th>\n",
       "      <th>motivo_emprestimo</th>\n",
       "      <th>pontuacao_emprestimo</th>\n",
       "      <th>valor_emprestimo</th>\n",
       "      <th>taxa_juros_emprestimo</th>\n",
       "      <th>status_inadimplencia</th>\n",
       "      <th>percentual_emprestimo_salario</th>\n",
       "      <th>id_historico</th>\n",
       "      <th>verifica_inadimplencia</th>\n",
       "      <th>tempo_primeira_solicitacao</th>\n",
       "    </tr>\n",
       "  </thead>\n",
       "  <tbody>\n",
       "    <tr>\n",
       "      <th>0</th>\n",
       "      <td>F9a6bBd9-Xe2o</td>\n",
       "      <td>27</td>\n",
       "      <td>68000</td>\n",
       "      <td>Aluguel</td>\n",
       "      <td>4.0</td>\n",
       "      <td>8HuvzhAq-k7Xi</td>\n",
       "      <td>Melhora_do_lar</td>\n",
       "      <td>A</td>\n",
       "      <td>8700</td>\n",
       "      <td>7.88</td>\n",
       "      <td>0</td>\n",
       "      <td>0.13</td>\n",
       "      <td>L42AQtMx-SEGR</td>\n",
       "      <td>N</td>\n",
       "      <td>5</td>\n",
       "    </tr>\n",
       "    <tr>\n",
       "      <th>1</th>\n",
       "      <td>RSQpYv0W-D6Oo</td>\n",
       "      <td>24</td>\n",
       "      <td>12600</td>\n",
       "      <td>Aluguel</td>\n",
       "      <td>2.0</td>\n",
       "      <td>PDpdl2hQ-Sszr</td>\n",
       "      <td>Empreendimento</td>\n",
       "      <td>C</td>\n",
       "      <td>2500</td>\n",
       "      <td>13.11</td>\n",
       "      <td>1</td>\n",
       "      <td>0.20</td>\n",
       "      <td>oZ2iPvfD-HdIo</td>\n",
       "      <td>Y</td>\n",
       "      <td>2</td>\n",
       "    </tr>\n",
       "    <tr>\n",
       "      <th>2</th>\n",
       "      <td>bRYeof0L-cqHI</td>\n",
       "      <td>30</td>\n",
       "      <td>100000</td>\n",
       "      <td>Aluguel</td>\n",
       "      <td>13.0</td>\n",
       "      <td>0T2YFLWb-IZze</td>\n",
       "      <td>Pagamento_debitos</td>\n",
       "      <td>A</td>\n",
       "      <td>12000</td>\n",
       "      <td>7.88</td>\n",
       "      <td>0</td>\n",
       "      <td>0.12</td>\n",
       "      <td>0Y1a64ag-4RLW</td>\n",
       "      <td>N</td>\n",
       "      <td>9</td>\n",
       "    </tr>\n",
       "    <tr>\n",
       "      <th>3</th>\n",
       "      <td>d0YRlkdZ-nuLT</td>\n",
       "      <td>28</td>\n",
       "      <td>83000</td>\n",
       "      <td>Hipoteca</td>\n",
       "      <td>6.0</td>\n",
       "      <td>xzTEiD3e-BbFZ</td>\n",
       "      <td>Pagamento_debitos</td>\n",
       "      <td>B</td>\n",
       "      <td>5000</td>\n",
       "      <td>0.00</td>\n",
       "      <td>0</td>\n",
       "      <td>0.06</td>\n",
       "      <td>Z5LA433k-5vqf</td>\n",
       "      <td>N</td>\n",
       "      <td>9</td>\n",
       "    </tr>\n",
       "    <tr>\n",
       "      <th>4</th>\n",
       "      <td>njGBnugm-85Dv</td>\n",
       "      <td>30</td>\n",
       "      <td>110400</td>\n",
       "      <td>Aluguel</td>\n",
       "      <td>1.0</td>\n",
       "      <td>QKDlpIm7-sqMC</td>\n",
       "      <td>Empreendimento</td>\n",
       "      <td>D</td>\n",
       "      <td>14000</td>\n",
       "      <td>16.89</td>\n",
       "      <td>1</td>\n",
       "      <td>0.13</td>\n",
       "      <td>ObEkaKZr-9MDa</td>\n",
       "      <td>N</td>\n",
       "      <td>6</td>\n",
       "    </tr>\n",
       "  </tbody>\n",
       "</table>\n",
       "</div>"
      ],
      "text/plain": [
       "       id_pessoa  idade_pessoa  salario_ano_pessoa propriedade_pessoa  \\\n",
       "0  F9a6bBd9-Xe2o            27               68000            Aluguel   \n",
       "1  RSQpYv0W-D6Oo            24               12600            Aluguel   \n",
       "2  bRYeof0L-cqHI            30              100000            Aluguel   \n",
       "3  d0YRlkdZ-nuLT            28               83000           Hipoteca   \n",
       "4  njGBnugm-85Dv            30              110400            Aluguel   \n",
       "\n",
       "   anos_trabalhados_pessoa  id_emprestimo  motivo_emprestimo  \\\n",
       "0                      4.0  8HuvzhAq-k7Xi     Melhora_do_lar   \n",
       "1                      2.0  PDpdl2hQ-Sszr     Empreendimento   \n",
       "2                     13.0  0T2YFLWb-IZze  Pagamento_debitos   \n",
       "3                      6.0  xzTEiD3e-BbFZ  Pagamento_debitos   \n",
       "4                      1.0  QKDlpIm7-sqMC     Empreendimento   \n",
       "\n",
       "  pontuacao_emprestimo  valor_emprestimo  taxa_juros_emprestimo  \\\n",
       "0                    A              8700                   7.88   \n",
       "1                    C              2500                  13.11   \n",
       "2                    A             12000                   7.88   \n",
       "3                    B              5000                   0.00   \n",
       "4                    D             14000                  16.89   \n",
       "\n",
       "   status_inadimplencia  percentual_emprestimo_salario   id_historico  \\\n",
       "0                     0                           0.13  L42AQtMx-SEGR   \n",
       "1                     1                           0.20  oZ2iPvfD-HdIo   \n",
       "2                     0                           0.12  0Y1a64ag-4RLW   \n",
       "3                     0                           0.06  Z5LA433k-5vqf   \n",
       "4                     1                           0.13  ObEkaKZr-9MDa   \n",
       "\n",
       "  verifica_inadimplencia  tempo_primeira_solicitacao  \n",
       "0                      N                           5  \n",
       "1                      Y                           2  \n",
       "2                      N                           9  \n",
       "3                      N                           9  \n",
       "4                      N                           6  "
      ]
     },
     "execution_count": 1,
     "metadata": {},
     "output_type": "execute_result"
    }
   ],
   "source": [
    "import pandas as pd\n",
    "\n",
    "dados = pd.read_csv('data/analise_de_risco.csv', sep=';')\n",
    "\n",
    "dados.head()"
   ]
  },
  {
   "cell_type": "markdown",
   "id": "37fefd2a",
   "metadata": {},
   "source": [
    "### 1. Remoção de Dados Nulos"
   ]
  },
  {
   "cell_type": "markdown",
   "id": "e77bce24",
   "metadata": {},
   "source": [
    "Existem várias formas de tratar os dados nulos, entre elas estão:\n",
    "    \n",
    "> Deletar todas as linhas que possuem registros nulos com dropna();\n",
    "\n",
    "> Utilizar a técnica fillna() para substituir os dados nulos por um valor específico que desejamos.\n",
    "\n",
    "Uma técnica bastante utilizada para tratamento de dados nulos é substitui-los pela média ou mediana de uma determinada coluna.\n",
    "\n",
    "Vou primeiro verificar a quantidade de valores nulos por coluna:"
   ]
  },
  {
   "cell_type": "code",
   "execution_count": 2,
   "id": "4f929df2",
   "metadata": {
    "scrolled": true
   },
   "outputs": [
    {
     "data": {
      "text/plain": [
       "id_pessoa                          0\n",
       "idade_pessoa                       0\n",
       "salario_ano_pessoa                 0\n",
       "propriedade_pessoa               331\n",
       "anos_trabalhados_pessoa            0\n",
       "id_emprestimo                      0\n",
       "motivo_emprestimo                311\n",
       "pontuacao_emprestimo             309\n",
       "valor_emprestimo                   0\n",
       "taxa_juros_emprestimo              0\n",
       "status_inadimplencia               0\n",
       "percentual_emprestimo_salario      0\n",
       "id_historico                       0\n",
       "verifica_inadimplencia           366\n",
       "tempo_primeira_solicitacao         0\n",
       "dtype: int64"
      ]
     },
     "execution_count": 2,
     "metadata": {},
     "output_type": "execute_result"
    }
   ],
   "source": [
    "dados.isnull().sum()"
   ]
  },
  {
   "cell_type": "markdown",
   "id": "67cf7b93",
   "metadata": {},
   "source": [
    "Como as colunas que possuem dados faltantes são todas categóricas, não faz sentido tirar a média ou a mediana delas e nem substituir por outro valor. Então eu optei por apenas excluir esses registros:"
   ]
  },
  {
   "cell_type": "code",
   "execution_count": 3,
   "id": "c0c8684c",
   "metadata": {},
   "outputs": [],
   "source": [
    "dados = dados.dropna(axis = 0)"
   ]
  },
  {
   "cell_type": "markdown",
   "id": "e17ba70c",
   "metadata": {},
   "source": [
    "Checando novamente os valores nulos: "
   ]
  },
  {
   "cell_type": "code",
   "execution_count": 4,
   "id": "54075a67",
   "metadata": {
    "scrolled": true
   },
   "outputs": [
    {
     "data": {
      "text/plain": [
       "id_pessoa                        0\n",
       "idade_pessoa                     0\n",
       "salario_ano_pessoa               0\n",
       "propriedade_pessoa               0\n",
       "anos_trabalhados_pessoa          0\n",
       "id_emprestimo                    0\n",
       "motivo_emprestimo                0\n",
       "pontuacao_emprestimo             0\n",
       "valor_emprestimo                 0\n",
       "taxa_juros_emprestimo            0\n",
       "status_inadimplencia             0\n",
       "percentual_emprestimo_salario    0\n",
       "id_historico                     0\n",
       "verifica_inadimplencia           0\n",
       "tempo_primeira_solicitacao       0\n",
       "dtype: int64"
      ]
     },
     "execution_count": 4,
     "metadata": {},
     "output_type": "execute_result"
    }
   ],
   "source": [
    "dados.isnull().sum()"
   ]
  },
  {
   "cell_type": "markdown",
   "id": "ff668051",
   "metadata": {},
   "source": [
    "### 2. Tratamento de Outliers"
   ]
  },
  {
   "cell_type": "markdown",
   "id": "83aaf025",
   "metadata": {},
   "source": [
    "Nessa etapa iremos utilizar muito o .describe() que é basicamente o resumo trazendo a média, desvio padrão, valores minímos e máximos, quartis e a quantidade de dados, claro que essa função irá ignorar outras variáveis categóricas, mas no momento queremos tratar os outliers das colunas numéricas.\n",
    "\n",
    "Paralelo a esse comando muito útil do python, iremos utilizar gráficos do tipo BoxPlot do matplotlib para facilitar a visualização de possíveis outliers em nossas amostras.\n",
    "\n"
   ]
  },
  {
   "cell_type": "markdown",
   "id": "d6486f34",
   "metadata": {},
   "source": [
    "**O que é o BoxPlot ?**"
   ]
  },
  {
   "cell_type": "markdown",
   "id": "2e555aed",
   "metadata": {},
   "source": [
    "O box plot dá uma idéia da posição, dispersão, assimetria, caudas e dados discrepantes (outliers). A posição central é dada pela mediana e a dispersão por $IIQ$. As posições relativas de $Q1$, $Mediana$ e $Q3$ dão uma noção da simetria da distribuição. Os comprimentos das cauda são dados pelas linhas que vão do retângulo aos valores remotos e pelos valores atípicos."
   ]
  },
  {
   "cell_type": "markdown",
   "id": "582757be",
   "metadata": {},
   "source": [
    "<img src='https://caelum-online-public.s3.amazonaws.com/1177-estatistica-parte1/01/img005.png' width='50%'>"
   ]
  },
  {
   "cell_type": "markdown",
   "id": "0df157a1",
   "metadata": {},
   "source": [
    "Vamos começar vendo a descrição dos dados:"
   ]
  },
  {
   "cell_type": "code",
   "execution_count": 5,
   "id": "a61f5042",
   "metadata": {
    "scrolled": true
   },
   "outputs": [
    {
     "data": {
      "text/html": [
       "<div>\n",
       "<style scoped>\n",
       "    .dataframe tbody tr th:only-of-type {\n",
       "        vertical-align: middle;\n",
       "    }\n",
       "\n",
       "    .dataframe tbody tr th {\n",
       "        vertical-align: top;\n",
       "    }\n",
       "\n",
       "    .dataframe thead th {\n",
       "        text-align: right;\n",
       "    }\n",
       "</style>\n",
       "<table border=\"1\" class=\"dataframe\">\n",
       "  <thead>\n",
       "    <tr style=\"text-align: right;\">\n",
       "      <th></th>\n",
       "      <th>idade_pessoa</th>\n",
       "      <th>salario_ano_pessoa</th>\n",
       "      <th>anos_trabalhados_pessoa</th>\n",
       "      <th>valor_emprestimo</th>\n",
       "      <th>taxa_juros_emprestimo</th>\n",
       "      <th>status_inadimplencia</th>\n",
       "      <th>percentual_emprestimo_salario</th>\n",
       "      <th>tempo_primeira_solicitacao</th>\n",
       "    </tr>\n",
       "  </thead>\n",
       "  <tbody>\n",
       "    <tr>\n",
       "      <th>count</th>\n",
       "      <td>33360.000000</td>\n",
       "      <td>3.336000e+04</td>\n",
       "      <td>33360.000000</td>\n",
       "      <td>33360.000000</td>\n",
       "      <td>33360.000000</td>\n",
       "      <td>33360.000000</td>\n",
       "      <td>33360.000000</td>\n",
       "      <td>33360.000000</td>\n",
       "    </tr>\n",
       "    <tr>\n",
       "      <th>mean</th>\n",
       "      <td>27.561721</td>\n",
       "      <td>6.564681e+04</td>\n",
       "      <td>4.628567</td>\n",
       "      <td>9529.754197</td>\n",
       "      <td>9.893280</td>\n",
       "      <td>0.216457</td>\n",
       "      <td>0.169135</td>\n",
       "      <td>5.807374</td>\n",
       "    </tr>\n",
       "    <tr>\n",
       "      <th>std</th>\n",
       "      <td>6.698419</td>\n",
       "      <td>6.174520e+04</td>\n",
       "      <td>4.159946</td>\n",
       "      <td>6348.596166</td>\n",
       "      <td>4.523957</td>\n",
       "      <td>0.411835</td>\n",
       "      <td>0.107204</td>\n",
       "      <td>4.057953</td>\n",
       "    </tr>\n",
       "    <tr>\n",
       "      <th>min</th>\n",
       "      <td>0.000000</td>\n",
       "      <td>0.000000e+00</td>\n",
       "      <td>0.000000</td>\n",
       "      <td>0.000000</td>\n",
       "      <td>0.000000</td>\n",
       "      <td>0.000000</td>\n",
       "      <td>0.000000</td>\n",
       "      <td>2.000000</td>\n",
       "    </tr>\n",
       "    <tr>\n",
       "      <th>25%</th>\n",
       "      <td>23.000000</td>\n",
       "      <td>3.827100e+04</td>\n",
       "      <td>2.000000</td>\n",
       "      <td>5000.000000</td>\n",
       "      <td>7.490000</td>\n",
       "      <td>0.000000</td>\n",
       "      <td>0.090000</td>\n",
       "      <td>3.000000</td>\n",
       "    </tr>\n",
       "    <tr>\n",
       "      <th>50%</th>\n",
       "      <td>26.000000</td>\n",
       "      <td>5.500000e+04</td>\n",
       "      <td>4.000000</td>\n",
       "      <td>8000.000000</td>\n",
       "      <td>10.620000</td>\n",
       "      <td>0.000000</td>\n",
       "      <td>0.150000</td>\n",
       "      <td>4.000000</td>\n",
       "    </tr>\n",
       "    <tr>\n",
       "      <th>75%</th>\n",
       "      <td>30.000000</td>\n",
       "      <td>7.900000e+04</td>\n",
       "      <td>7.000000</td>\n",
       "      <td>12000.000000</td>\n",
       "      <td>13.110000</td>\n",
       "      <td>0.000000</td>\n",
       "      <td>0.230000</td>\n",
       "      <td>8.000000</td>\n",
       "    </tr>\n",
       "    <tr>\n",
       "      <th>max</th>\n",
       "      <td>144.000000</td>\n",
       "      <td>6.000000e+06</td>\n",
       "      <td>123.000000</td>\n",
       "      <td>35000.000000</td>\n",
       "      <td>23.220000</td>\n",
       "      <td>1.000000</td>\n",
       "      <td>0.830000</td>\n",
       "      <td>30.000000</td>\n",
       "    </tr>\n",
       "  </tbody>\n",
       "</table>\n",
       "</div>"
      ],
      "text/plain": [
       "       idade_pessoa  salario_ano_pessoa  anos_trabalhados_pessoa  \\\n",
       "count  33360.000000        3.336000e+04             33360.000000   \n",
       "mean      27.561721        6.564681e+04                 4.628567   \n",
       "std        6.698419        6.174520e+04                 4.159946   \n",
       "min        0.000000        0.000000e+00                 0.000000   \n",
       "25%       23.000000        3.827100e+04                 2.000000   \n",
       "50%       26.000000        5.500000e+04                 4.000000   \n",
       "75%       30.000000        7.900000e+04                 7.000000   \n",
       "max      144.000000        6.000000e+06               123.000000   \n",
       "\n",
       "       valor_emprestimo  taxa_juros_emprestimo  status_inadimplencia  \\\n",
       "count      33360.000000           33360.000000          33360.000000   \n",
       "mean        9529.754197               9.893280              0.216457   \n",
       "std         6348.596166               4.523957              0.411835   \n",
       "min            0.000000               0.000000              0.000000   \n",
       "25%         5000.000000               7.490000              0.000000   \n",
       "50%         8000.000000              10.620000              0.000000   \n",
       "75%        12000.000000              13.110000              0.000000   \n",
       "max        35000.000000              23.220000              1.000000   \n",
       "\n",
       "       percentual_emprestimo_salario  tempo_primeira_solicitacao  \n",
       "count                   33360.000000                33360.000000  \n",
       "mean                        0.169135                    5.807374  \n",
       "std                         0.107204                    4.057953  \n",
       "min                         0.000000                    2.000000  \n",
       "25%                         0.090000                    3.000000  \n",
       "50%                         0.150000                    4.000000  \n",
       "75%                         0.230000                    8.000000  \n",
       "max                         0.830000                   30.000000  "
      ]
     },
     "execution_count": 5,
     "metadata": {},
     "output_type": "execute_result"
    }
   ],
   "source": [
    "dados.describe()"
   ]
  },
  {
   "cell_type": "markdown",
   "id": "8703cd85",
   "metadata": {},
   "source": [
    "Na primeira coluna **'idade_pessoa'** notamos que o valor maximo é de 144 anos e o valor mínimo 0 anos. Isso representa claramente outliers em nossa base de dados. \n",
    "\n",
    "Para ficar mais claro vamos visualizar essa coluna em um boxplot:"
   ]
  },
  {
   "cell_type": "code",
   "execution_count": 6,
   "id": "5742ff47",
   "metadata": {},
   "outputs": [
    {
     "data": {
      "text/plain": [
       "<AxesSubplot:>"
      ]
     },
     "execution_count": 6,
     "metadata": {},
     "output_type": "execute_result"
    },
    {
     "data": {
      "image/png": "[encoded data removed]",
      "text/plain": [
       "<Figure size 720x360 with 1 Axes>"
      ]
     },
     "metadata": {
      "needs_background": "light"
     },
     "output_type": "display_data"
    }
   ],
   "source": [
    "import matplotlib.pyplot as plt\n",
    "plt.figure(figsize=(10,5))\n",
    "dados.boxplot(column = ['idade_pessoa'])"
   ]
  },
  {
   "cell_type": "markdown",
   "id": "911af7a8",
   "metadata": {},
   "source": [
    "**OBS: Eu optei por não remover alguns dados que estão após o limite superior e abaixo ao limite inferior do boxplot, visando um modelo mais abrangente**"
   ]
  },
  {
   "cell_type": "markdown",
   "id": "5968dff7",
   "metadata": {},
   "source": [
    "Pelo BoxPlot é possível notar uma grande quantidade de pessoas com idade = 0 e acima dos 85 anos já parecem estar muito longe dos dados comuns que temos. Visto isso, iremos tratar para não afetar nosso modelo"
   ]
  },
  {
   "cell_type": "code",
   "execution_count": 7,
   "id": "2c72f8d0",
   "metadata": {},
   "outputs": [],
   "source": [
    "dados_idade_out = dados.loc[dados.idade_pessoa > 18]\n",
    "dados_idade_out2 = dados_idade_out.loc[dados_idade_out.idade_pessoa < 85]"
   ]
  },
  {
   "cell_type": "code",
   "execution_count": 8,
   "id": "b4161987",
   "metadata": {},
   "outputs": [
    {
     "data": {
      "image/png": "[encoded data removed]",
      "text/plain": [
       "<Figure size 720x504 with 2 Axes>"
      ]
     },
     "metadata": {
      "needs_background": "light"
     },
     "output_type": "display_data"
    }
   ],
   "source": [
    "fig, ax = plt.subplots(1, 2, figsize=(10,7))\n",
    "ax[0].boxplot(dados.idade_pessoa)\n",
    "ax[0].set_title('Idade_pessoa - Com Outliers')\n",
    "ax[0].grid(True)\n",
    "ax[1].boxplot(dados_idade_out2.idade_pessoa)\n",
    "ax[1].set_title('Idade_pessoa - Sem Outliers')\n",
    "ax[1].grid(True)"
   ]
  },
  {
   "cell_type": "markdown",
   "id": "3ef200d1",
   "metadata": {},
   "source": [
    "Agora ja temos uma melhora na dispersão de dados comparado com anteriormente"
   ]
  },
  {
   "cell_type": "code",
   "execution_count": 9,
   "id": "f7b8b507",
   "metadata": {},
   "outputs": [
    {
     "data": {
      "text/html": [
       "<div>\n",
       "<style scoped>\n",
       "    .dataframe tbody tr th:only-of-type {\n",
       "        vertical-align: middle;\n",
       "    }\n",
       "\n",
       "    .dataframe tbody tr th {\n",
       "        vertical-align: top;\n",
       "    }\n",
       "\n",
       "    .dataframe thead th {\n",
       "        text-align: right;\n",
       "    }\n",
       "</style>\n",
       "<table border=\"1\" class=\"dataframe\">\n",
       "  <thead>\n",
       "    <tr style=\"text-align: right;\">\n",
       "      <th></th>\n",
       "      <th>idade_pessoa</th>\n",
       "      <th>salario_ano_pessoa</th>\n",
       "      <th>anos_trabalhados_pessoa</th>\n",
       "      <th>valor_emprestimo</th>\n",
       "      <th>taxa_juros_emprestimo</th>\n",
       "      <th>status_inadimplencia</th>\n",
       "      <th>percentual_emprestimo_salario</th>\n",
       "      <th>tempo_primeira_solicitacao</th>\n",
       "    </tr>\n",
       "  </thead>\n",
       "  <tbody>\n",
       "    <tr>\n",
       "      <th>count</th>\n",
       "      <td>33146.000000</td>\n",
       "      <td>3.314600e+04</td>\n",
       "      <td>33146.000000</td>\n",
       "      <td>33146.000000</td>\n",
       "      <td>33146.000000</td>\n",
       "      <td>33146.000000</td>\n",
       "      <td>33146.000000</td>\n",
       "      <td>33146.000000</td>\n",
       "    </tr>\n",
       "    <tr>\n",
       "      <th>mean</th>\n",
       "      <td>27.716376</td>\n",
       "      <td>6.554003e+04</td>\n",
       "      <td>4.632746</td>\n",
       "      <td>9535.114343</td>\n",
       "      <td>9.902509</td>\n",
       "      <td>0.216678</td>\n",
       "      <td>0.169280</td>\n",
       "      <td>5.801092</td>\n",
       "    </tr>\n",
       "    <tr>\n",
       "      <th>std</th>\n",
       "      <td>6.201413</td>\n",
       "      <td>5.253935e+04</td>\n",
       "      <td>4.158681</td>\n",
       "      <td>6343.415706</td>\n",
       "      <td>4.516430</td>\n",
       "      <td>0.411987</td>\n",
       "      <td>0.107184</td>\n",
       "      <td>4.048721</td>\n",
       "    </tr>\n",
       "    <tr>\n",
       "      <th>min</th>\n",
       "      <td>20.000000</td>\n",
       "      <td>0.000000e+00</td>\n",
       "      <td>0.000000</td>\n",
       "      <td>0.000000</td>\n",
       "      <td>0.000000</td>\n",
       "      <td>0.000000</td>\n",
       "      <td>0.000000</td>\n",
       "      <td>2.000000</td>\n",
       "    </tr>\n",
       "    <tr>\n",
       "      <th>25%</th>\n",
       "      <td>23.000000</td>\n",
       "      <td>3.840000e+04</td>\n",
       "      <td>2.000000</td>\n",
       "      <td>5000.000000</td>\n",
       "      <td>7.490000</td>\n",
       "      <td>0.000000</td>\n",
       "      <td>0.090000</td>\n",
       "      <td>3.000000</td>\n",
       "    </tr>\n",
       "    <tr>\n",
       "      <th>50%</th>\n",
       "      <td>26.000000</td>\n",
       "      <td>5.500000e+04</td>\n",
       "      <td>4.000000</td>\n",
       "      <td>8000.000000</td>\n",
       "      <td>10.620000</td>\n",
       "      <td>0.000000</td>\n",
       "      <td>0.150000</td>\n",
       "      <td>4.000000</td>\n",
       "    </tr>\n",
       "    <tr>\n",
       "      <th>75%</th>\n",
       "      <td>30.000000</td>\n",
       "      <td>7.900000e+04</td>\n",
       "      <td>7.000000</td>\n",
       "      <td>12000.000000</td>\n",
       "      <td>13.110000</td>\n",
       "      <td>0.000000</td>\n",
       "      <td>0.230000</td>\n",
       "      <td>8.000000</td>\n",
       "    </tr>\n",
       "    <tr>\n",
       "      <th>max</th>\n",
       "      <td>84.000000</td>\n",
       "      <td>2.039784e+06</td>\n",
       "      <td>123.000000</td>\n",
       "      <td>35000.000000</td>\n",
       "      <td>23.220000</td>\n",
       "      <td>1.000000</td>\n",
       "      <td>0.830000</td>\n",
       "      <td>30.000000</td>\n",
       "    </tr>\n",
       "  </tbody>\n",
       "</table>\n",
       "</div>"
      ],
      "text/plain": [
       "       idade_pessoa  salario_ano_pessoa  anos_trabalhados_pessoa  \\\n",
       "count  33146.000000        3.314600e+04             33146.000000   \n",
       "mean      27.716376        6.554003e+04                 4.632746   \n",
       "std        6.201413        5.253935e+04                 4.158681   \n",
       "min       20.000000        0.000000e+00                 0.000000   \n",
       "25%       23.000000        3.840000e+04                 2.000000   \n",
       "50%       26.000000        5.500000e+04                 4.000000   \n",
       "75%       30.000000        7.900000e+04                 7.000000   \n",
       "max       84.000000        2.039784e+06               123.000000   \n",
       "\n",
       "       valor_emprestimo  taxa_juros_emprestimo  status_inadimplencia  \\\n",
       "count      33146.000000           33146.000000          33146.000000   \n",
       "mean        9535.114343               9.902509              0.216678   \n",
       "std         6343.415706               4.516430              0.411987   \n",
       "min            0.000000               0.000000              0.000000   \n",
       "25%         5000.000000               7.490000              0.000000   \n",
       "50%         8000.000000              10.620000              0.000000   \n",
       "75%        12000.000000              13.110000              0.000000   \n",
       "max        35000.000000              23.220000              1.000000   \n",
       "\n",
       "       percentual_emprestimo_salario  tempo_primeira_solicitacao  \n",
       "count                   33146.000000                33146.000000  \n",
       "mean                        0.169280                    5.801092  \n",
       "std                         0.107184                    4.048721  \n",
       "min                         0.000000                    2.000000  \n",
       "25%                         0.090000                    3.000000  \n",
       "50%                         0.150000                    4.000000  \n",
       "75%                         0.230000                    8.000000  \n",
       "max                         0.830000                   30.000000  "
      ]
     },
     "execution_count": 9,
     "metadata": {},
     "output_type": "execute_result"
    }
   ],
   "source": [
    "dados_idade_out2.describe()"
   ]
  },
  {
   "cell_type": "code",
   "execution_count": 10,
   "id": "aca3fd3b",
   "metadata": {},
   "outputs": [
    {
     "data": {
      "text/plain": [
       "<AxesSubplot:>"
      ]
     },
     "execution_count": 10,
     "metadata": {},
     "output_type": "execute_result"
    },
    {
     "data": {
      "image/png": "[encoded data removed]",
      "text/plain": [
       "<Figure size 720x360 with 1 Axes>"
      ]
     },
     "metadata": {
      "needs_background": "light"
     },
     "output_type": "display_data"
    }
   ],
   "source": [
    "plt.figure(figsize=(10,5))\n",
    "dados_idade_out2.boxplot(column = ['salario_ano_pessoa'])"
   ]
  },
  {
   "cell_type": "markdown",
   "id": "ffb3d6de",
   "metadata": {},
   "source": [
    "Pode ser visto que acima de poucas pessoas posuem o salario acima dos 1 milhão anuais e pessoas que não ganham nenhum salário anual parece não fazer sentido para o que queremos. Iremos tratar isso:"
   ]
  },
  {
   "cell_type": "code",
   "execution_count": 11,
   "id": "d363b4ab",
   "metadata": {},
   "outputs": [],
   "source": [
    "dados_salario_ano = dados_idade_out2.loc[dados_idade_out2.salario_ano_pessoa < 1000000]\n",
    "dados_salario_ano2 = dados_salario_ano.loc[dados_salario_ano.salario_ano_pessoa > 0]"
   ]
  },
  {
   "cell_type": "code",
   "execution_count": 12,
   "id": "38d38d1e",
   "metadata": {
    "scrolled": false
   },
   "outputs": [
    {
     "data": {
      "image/png": "[encoded data removed]",
      "text/plain": [
       "<Figure size 720x504 with 2 Axes>"
      ]
     },
     "metadata": {
      "needs_background": "light"
     },
     "output_type": "display_data"
    }
   ],
   "source": [
    "fig, ax = plt.subplots(1, 2, figsize=(10,7))\n",
    "ax[0].boxplot(dados_idade_out2.salario_ano_pessoa)\n",
    "ax[0].set_title('Salário Anual - Com Outliers')\n",
    "ax[0].grid(True)\n",
    "ax[1].boxplot(dados_salario_ano2.salario_ano_pessoa)\n",
    "ax[1].set_title('Salário Anual - Sem Outliers')\n",
    "ax[1].grid(True)"
   ]
  },
  {
   "cell_type": "markdown",
   "id": "675eeb10",
   "metadata": {},
   "source": [
    "Veja que mesmo removendo os outliers claros ainda sim a variável dos salários anuais continua dispersa, porém vou optar por não exluir esses dados."
   ]
  },
  {
   "cell_type": "code",
   "execution_count": 13,
   "id": "b52de7dc",
   "metadata": {},
   "outputs": [
    {
     "data": {
      "text/html": [
       "<div>\n",
       "<style scoped>\n",
       "    .dataframe tbody tr th:only-of-type {\n",
       "        vertical-align: middle;\n",
       "    }\n",
       "\n",
       "    .dataframe tbody tr th {\n",
       "        vertical-align: top;\n",
       "    }\n",
       "\n",
       "    .dataframe thead th {\n",
       "        text-align: right;\n",
       "    }\n",
       "</style>\n",
       "<table border=\"1\" class=\"dataframe\">\n",
       "  <thead>\n",
       "    <tr style=\"text-align: right;\">\n",
       "      <th></th>\n",
       "      <th>idade_pessoa</th>\n",
       "      <th>salario_ano_pessoa</th>\n",
       "      <th>anos_trabalhados_pessoa</th>\n",
       "      <th>valor_emprestimo</th>\n",
       "      <th>taxa_juros_emprestimo</th>\n",
       "      <th>status_inadimplencia</th>\n",
       "      <th>percentual_emprestimo_salario</th>\n",
       "      <th>tempo_primeira_solicitacao</th>\n",
       "    </tr>\n",
       "  </thead>\n",
       "  <tbody>\n",
       "    <tr>\n",
       "      <th>count</th>\n",
       "      <td>32973.000000</td>\n",
       "      <td>32973.000000</td>\n",
       "      <td>32973.000000</td>\n",
       "      <td>32973.000000</td>\n",
       "      <td>32973.000000</td>\n",
       "      <td>32973.000000</td>\n",
       "      <td>32973.000000</td>\n",
       "      <td>32973.000000</td>\n",
       "    </tr>\n",
       "    <tr>\n",
       "      <th>mean</th>\n",
       "      <td>27.713281</td>\n",
       "      <td>65516.216268</td>\n",
       "      <td>4.635763</td>\n",
       "      <td>9544.211173</td>\n",
       "      <td>9.912245</td>\n",
       "      <td>0.217147</td>\n",
       "      <td>0.169393</td>\n",
       "      <td>5.798441</td>\n",
       "    </tr>\n",
       "    <tr>\n",
       "      <th>std</th>\n",
       "      <td>6.192305</td>\n",
       "      <td>47099.566872</td>\n",
       "      <td>4.158444</td>\n",
       "      <td>6340.027808</td>\n",
       "      <td>4.507023</td>\n",
       "      <td>0.412310</td>\n",
       "      <td>0.107037</td>\n",
       "      <td>4.046236</td>\n",
       "    </tr>\n",
       "    <tr>\n",
       "      <th>min</th>\n",
       "      <td>20.000000</td>\n",
       "      <td>4000.000000</td>\n",
       "      <td>0.000000</td>\n",
       "      <td>0.000000</td>\n",
       "      <td>0.000000</td>\n",
       "      <td>0.000000</td>\n",
       "      <td>0.000000</td>\n",
       "      <td>2.000000</td>\n",
       "    </tr>\n",
       "    <tr>\n",
       "      <th>25%</th>\n",
       "      <td>23.000000</td>\n",
       "      <td>38500.000000</td>\n",
       "      <td>2.000000</td>\n",
       "      <td>5000.000000</td>\n",
       "      <td>7.490000</td>\n",
       "      <td>0.000000</td>\n",
       "      <td>0.090000</td>\n",
       "      <td>3.000000</td>\n",
       "    </tr>\n",
       "    <tr>\n",
       "      <th>50%</th>\n",
       "      <td>26.000000</td>\n",
       "      <td>55000.000000</td>\n",
       "      <td>4.000000</td>\n",
       "      <td>8000.000000</td>\n",
       "      <td>10.620000</td>\n",
       "      <td>0.000000</td>\n",
       "      <td>0.150000</td>\n",
       "      <td>4.000000</td>\n",
       "    </tr>\n",
       "    <tr>\n",
       "      <th>75%</th>\n",
       "      <td>30.000000</td>\n",
       "      <td>79200.000000</td>\n",
       "      <td>7.000000</td>\n",
       "      <td>12000.000000</td>\n",
       "      <td>13.110000</td>\n",
       "      <td>0.000000</td>\n",
       "      <td>0.230000</td>\n",
       "      <td>8.000000</td>\n",
       "    </tr>\n",
       "    <tr>\n",
       "      <th>max</th>\n",
       "      <td>84.000000</td>\n",
       "      <td>948000.000000</td>\n",
       "      <td>123.000000</td>\n",
       "      <td>35000.000000</td>\n",
       "      <td>23.220000</td>\n",
       "      <td>1.000000</td>\n",
       "      <td>0.830000</td>\n",
       "      <td>30.000000</td>\n",
       "    </tr>\n",
       "  </tbody>\n",
       "</table>\n",
       "</div>"
      ],
      "text/plain": [
       "       idade_pessoa  salario_ano_pessoa  anos_trabalhados_pessoa  \\\n",
       "count  32973.000000        32973.000000             32973.000000   \n",
       "mean      27.713281        65516.216268                 4.635763   \n",
       "std        6.192305        47099.566872                 4.158444   \n",
       "min       20.000000         4000.000000                 0.000000   \n",
       "25%       23.000000        38500.000000                 2.000000   \n",
       "50%       26.000000        55000.000000                 4.000000   \n",
       "75%       30.000000        79200.000000                 7.000000   \n",
       "max       84.000000       948000.000000               123.000000   \n",
       "\n",
       "       valor_emprestimo  taxa_juros_emprestimo  status_inadimplencia  \\\n",
       "count      32973.000000           32973.000000          32973.000000   \n",
       "mean        9544.211173               9.912245              0.217147   \n",
       "std         6340.027808               4.507023              0.412310   \n",
       "min            0.000000               0.000000              0.000000   \n",
       "25%         5000.000000               7.490000              0.000000   \n",
       "50%         8000.000000              10.620000              0.000000   \n",
       "75%        12000.000000              13.110000              0.000000   \n",
       "max        35000.000000              23.220000              1.000000   \n",
       "\n",
       "       percentual_emprestimo_salario  tempo_primeira_solicitacao  \n",
       "count                   32973.000000                32973.000000  \n",
       "mean                        0.169393                    5.798441  \n",
       "std                         0.107037                    4.046236  \n",
       "min                         0.000000                    2.000000  \n",
       "25%                         0.090000                    3.000000  \n",
       "50%                         0.150000                    4.000000  \n",
       "75%                         0.230000                    8.000000  \n",
       "max                         0.830000                   30.000000  "
      ]
     },
     "execution_count": 13,
     "metadata": {},
     "output_type": "execute_result"
    }
   ],
   "source": [
    "dados_salario_ano2.describe()"
   ]
  },
  {
   "cell_type": "code",
   "execution_count": 14,
   "id": "2fc6d0b6",
   "metadata": {},
   "outputs": [
    {
     "data": {
      "text/plain": [
       "<AxesSubplot:>"
      ]
     },
     "execution_count": 14,
     "metadata": {},
     "output_type": "execute_result"
    },
    {
     "data": {
      "image/png": "[encoded data removed]",
      "text/plain": [
       "<Figure size 720x360 with 1 Axes>"
      ]
     },
     "metadata": {
      "needs_background": "light"
     },
     "output_type": "display_data"
    }
   ],
   "source": [
    "plt.figure(figsize=(10,5))\n",
    "dados_salario_ano2.boxplot(column = ['anos_trabalhados_pessoa'])"
   ]
  },
  {
   "cell_type": "markdown",
   "id": "6eadb01f",
   "metadata": {},
   "source": [
    "Vemos que temos um dado acima de 120 anos de trabalho, o que é impossível. Iremos remover esse dado."
   ]
  },
  {
   "cell_type": "code",
   "execution_count": 15,
   "id": "90af458d",
   "metadata": {},
   "outputs": [],
   "source": [
    "dados_anos_trabalhados = dados_salario_ano2.loc[dados_salario_ano2.anos_trabalhados_pessoa < 100]"
   ]
  },
  {
   "cell_type": "code",
   "execution_count": 16,
   "id": "677f54bd",
   "metadata": {
    "scrolled": false
   },
   "outputs": [
    {
     "data": {
      "image/png": "[encoded data removed]",
      "text/plain": [
       "<Figure size 720x504 with 2 Axes>"
      ]
     },
     "metadata": {
      "needs_background": "light"
     },
     "output_type": "display_data"
    }
   ],
   "source": [
    "fig, ax = plt.subplots(1, 2, figsize=(10,7))\n",
    "ax[0].boxplot(dados_salario_ano2.anos_trabalhados_pessoa)\n",
    "ax[0].set_title('Salário Anual - Com Outliers')\n",
    "ax[0].grid(True)\n",
    "ax[1].boxplot(dados_anos_trabalhados.anos_trabalhados_pessoa)\n",
    "ax[1].set_title('Salário Anual - Sem Outliers')\n",
    "ax[1].grid(True)"
   ]
  },
  {
   "cell_type": "markdown",
   "id": "0e298952",
   "metadata": {},
   "source": [
    "Ao contrario da variável anterior, essa se mostrou bem eficiente ao remover um dos outliers"
   ]
  },
  {
   "cell_type": "code",
   "execution_count": 17,
   "id": "2c27b6a0",
   "metadata": {},
   "outputs": [
    {
     "data": {
      "text/html": [
       "<div>\n",
       "<style scoped>\n",
       "    .dataframe tbody tr th:only-of-type {\n",
       "        vertical-align: middle;\n",
       "    }\n",
       "\n",
       "    .dataframe tbody tr th {\n",
       "        vertical-align: top;\n",
       "    }\n",
       "\n",
       "    .dataframe thead th {\n",
       "        text-align: right;\n",
       "    }\n",
       "</style>\n",
       "<table border=\"1\" class=\"dataframe\">\n",
       "  <thead>\n",
       "    <tr style=\"text-align: right;\">\n",
       "      <th></th>\n",
       "      <th>idade_pessoa</th>\n",
       "      <th>salario_ano_pessoa</th>\n",
       "      <th>anos_trabalhados_pessoa</th>\n",
       "      <th>valor_emprestimo</th>\n",
       "      <th>taxa_juros_emprestimo</th>\n",
       "      <th>status_inadimplencia</th>\n",
       "      <th>percentual_emprestimo_salario</th>\n",
       "      <th>tempo_primeira_solicitacao</th>\n",
       "    </tr>\n",
       "  </thead>\n",
       "  <tbody>\n",
       "    <tr>\n",
       "      <th>count</th>\n",
       "      <td>33360.000000</td>\n",
       "      <td>3.336000e+04</td>\n",
       "      <td>33360.000000</td>\n",
       "      <td>33360.000000</td>\n",
       "      <td>33360.000000</td>\n",
       "      <td>33360.000000</td>\n",
       "      <td>33360.000000</td>\n",
       "      <td>33360.000000</td>\n",
       "    </tr>\n",
       "    <tr>\n",
       "      <th>mean</th>\n",
       "      <td>27.561721</td>\n",
       "      <td>6.564681e+04</td>\n",
       "      <td>4.628567</td>\n",
       "      <td>9529.754197</td>\n",
       "      <td>9.893280</td>\n",
       "      <td>0.216457</td>\n",
       "      <td>0.169135</td>\n",
       "      <td>5.807374</td>\n",
       "    </tr>\n",
       "    <tr>\n",
       "      <th>std</th>\n",
       "      <td>6.698419</td>\n",
       "      <td>6.174520e+04</td>\n",
       "      <td>4.159946</td>\n",
       "      <td>6348.596166</td>\n",
       "      <td>4.523957</td>\n",
       "      <td>0.411835</td>\n",
       "      <td>0.107204</td>\n",
       "      <td>4.057953</td>\n",
       "    </tr>\n",
       "    <tr>\n",
       "      <th>min</th>\n",
       "      <td>0.000000</td>\n",
       "      <td>0.000000e+00</td>\n",
       "      <td>0.000000</td>\n",
       "      <td>0.000000</td>\n",
       "      <td>0.000000</td>\n",
       "      <td>0.000000</td>\n",
       "      <td>0.000000</td>\n",
       "      <td>2.000000</td>\n",
       "    </tr>\n",
       "    <tr>\n",
       "      <th>25%</th>\n",
       "      <td>23.000000</td>\n",
       "      <td>3.827100e+04</td>\n",
       "      <td>2.000000</td>\n",
       "      <td>5000.000000</td>\n",
       "      <td>7.490000</td>\n",
       "      <td>0.000000</td>\n",
       "      <td>0.090000</td>\n",
       "      <td>3.000000</td>\n",
       "    </tr>\n",
       "    <tr>\n",
       "      <th>50%</th>\n",
       "      <td>26.000000</td>\n",
       "      <td>5.500000e+04</td>\n",
       "      <td>4.000000</td>\n",
       "      <td>8000.000000</td>\n",
       "      <td>10.620000</td>\n",
       "      <td>0.000000</td>\n",
       "      <td>0.150000</td>\n",
       "      <td>4.000000</td>\n",
       "    </tr>\n",
       "    <tr>\n",
       "      <th>75%</th>\n",
       "      <td>30.000000</td>\n",
       "      <td>7.900000e+04</td>\n",
       "      <td>7.000000</td>\n",
       "      <td>12000.000000</td>\n",
       "      <td>13.110000</td>\n",
       "      <td>0.000000</td>\n",
       "      <td>0.230000</td>\n",
       "      <td>8.000000</td>\n",
       "    </tr>\n",
       "    <tr>\n",
       "      <th>max</th>\n",
       "      <td>144.000000</td>\n",
       "      <td>6.000000e+06</td>\n",
       "      <td>123.000000</td>\n",
       "      <td>35000.000000</td>\n",
       "      <td>23.220000</td>\n",
       "      <td>1.000000</td>\n",
       "      <td>0.830000</td>\n",
       "      <td>30.000000</td>\n",
       "    </tr>\n",
       "  </tbody>\n",
       "</table>\n",
       "</div>"
      ],
      "text/plain": [
       "       idade_pessoa  salario_ano_pessoa  anos_trabalhados_pessoa  \\\n",
       "count  33360.000000        3.336000e+04             33360.000000   \n",
       "mean      27.561721        6.564681e+04                 4.628567   \n",
       "std        6.698419        6.174520e+04                 4.159946   \n",
       "min        0.000000        0.000000e+00                 0.000000   \n",
       "25%       23.000000        3.827100e+04                 2.000000   \n",
       "50%       26.000000        5.500000e+04                 4.000000   \n",
       "75%       30.000000        7.900000e+04                 7.000000   \n",
       "max      144.000000        6.000000e+06               123.000000   \n",
       "\n",
       "       valor_emprestimo  taxa_juros_emprestimo  status_inadimplencia  \\\n",
       "count      33360.000000           33360.000000          33360.000000   \n",
       "mean        9529.754197               9.893280              0.216457   \n",
       "std         6348.596166               4.523957              0.411835   \n",
       "min            0.000000               0.000000              0.000000   \n",
       "25%         5000.000000               7.490000              0.000000   \n",
       "50%         8000.000000              10.620000              0.000000   \n",
       "75%        12000.000000              13.110000              0.000000   \n",
       "max        35000.000000              23.220000              1.000000   \n",
       "\n",
       "       percentual_emprestimo_salario  tempo_primeira_solicitacao  \n",
       "count                   33360.000000                33360.000000  \n",
       "mean                        0.169135                    5.807374  \n",
       "std                         0.107204                    4.057953  \n",
       "min                         0.000000                    2.000000  \n",
       "25%                         0.090000                    3.000000  \n",
       "50%                         0.150000                    4.000000  \n",
       "75%                         0.230000                    8.000000  \n",
       "max                         0.830000                   30.000000  "
      ]
     },
     "execution_count": 17,
     "metadata": {},
     "output_type": "execute_result"
    }
   ],
   "source": [
    "dados.describe()"
   ]
  },
  {
   "cell_type": "markdown",
   "id": "24686121",
   "metadata": {},
   "source": [
    "O valor do emprestimo não pode ser igual a zero, logo iremos eliminar esses registros. Da mesma maneira a taxa de juros ser zero se tratando de um emprestimo parece ser também um outlier. Vamos tratar essas duas colunas"
   ]
  },
  {
   "cell_type": "code",
   "execution_count": 18,
   "id": "5a16d184",
   "metadata": {},
   "outputs": [],
   "source": [
    "dados_valor_emprestimo = dados_anos_trabalhados.loc[dados_anos_trabalhados.valor_emprestimo > 0]\n",
    "dados_taxa_juros = dados_valor_emprestimo.loc[dados_valor_emprestimo.taxa_juros_emprestimo > 0]"
   ]
  },
  {
   "cell_type": "code",
   "execution_count": 19,
   "id": "c1243db2",
   "metadata": {},
   "outputs": [],
   "source": [
    "dados = dados_taxa_juros"
   ]
  },
  {
   "cell_type": "markdown",
   "id": "56ec5425",
   "metadata": {},
   "source": [
    "Vamos analisar como ficou nossa base de dados depois de tratar esses outliers:"
   ]
  },
  {
   "cell_type": "code",
   "execution_count": 20,
   "id": "f6f631de",
   "metadata": {
    "scrolled": false
   },
   "outputs": [
    {
     "name": "stdout",
     "output_type": "stream",
     "text": [
      "<class 'pandas.core.frame.DataFrame'>\n",
      "Int64Index: 29583 entries, 0 to 34484\n",
      "Data columns (total 15 columns):\n",
      " #   Column                         Non-Null Count  Dtype  \n",
      "---  ------                         --------------  -----  \n",
      " 0   id_pessoa                      29583 non-null  object \n",
      " 1   idade_pessoa                   29583 non-null  int64  \n",
      " 2   salario_ano_pessoa             29583 non-null  int64  \n",
      " 3   propriedade_pessoa             29583 non-null  object \n",
      " 4   anos_trabalhados_pessoa        29583 non-null  float64\n",
      " 5   id_emprestimo                  29583 non-null  object \n",
      " 6   motivo_emprestimo              29583 non-null  object \n",
      " 7   pontuacao_emprestimo           29583 non-null  object \n",
      " 8   valor_emprestimo               29583 non-null  int64  \n",
      " 9   taxa_juros_emprestimo          29583 non-null  float64\n",
      " 10  status_inadimplencia           29583 non-null  int64  \n",
      " 11  percentual_emprestimo_salario  29583 non-null  float64\n",
      " 12  id_historico                   29583 non-null  object \n",
      " 13  verifica_inadimplencia         29583 non-null  object \n",
      " 14  tempo_primeira_solicitacao     29583 non-null  int64  \n",
      "dtypes: float64(3), int64(5), object(7)\n",
      "memory usage: 3.6+ MB\n"
     ]
    }
   ],
   "source": [
    "dados.info()"
   ]
  },
  {
   "cell_type": "code",
   "execution_count": 21,
   "id": "af81438b",
   "metadata": {
    "scrolled": true
   },
   "outputs": [
    {
     "data": {
      "text/html": [
       "<div>\n",
       "<style scoped>\n",
       "    .dataframe tbody tr th:only-of-type {\n",
       "        vertical-align: middle;\n",
       "    }\n",
       "\n",
       "    .dataframe tbody tr th {\n",
       "        vertical-align: top;\n",
       "    }\n",
       "\n",
       "    .dataframe thead th {\n",
       "        text-align: right;\n",
       "    }\n",
       "</style>\n",
       "<table border=\"1\" class=\"dataframe\">\n",
       "  <thead>\n",
       "    <tr style=\"text-align: right;\">\n",
       "      <th></th>\n",
       "      <th>idade_pessoa</th>\n",
       "      <th>salario_ano_pessoa</th>\n",
       "      <th>anos_trabalhados_pessoa</th>\n",
       "      <th>valor_emprestimo</th>\n",
       "      <th>taxa_juros_emprestimo</th>\n",
       "      <th>status_inadimplencia</th>\n",
       "      <th>percentual_emprestimo_salario</th>\n",
       "      <th>tempo_primeira_solicitacao</th>\n",
       "    </tr>\n",
       "  </thead>\n",
       "  <tbody>\n",
       "    <tr>\n",
       "      <th>count</th>\n",
       "      <td>29583.000000</td>\n",
       "      <td>29583.000000</td>\n",
       "      <td>29583.000000</td>\n",
       "      <td>29583.000000</td>\n",
       "      <td>29583.000000</td>\n",
       "      <td>29583.000000</td>\n",
       "      <td>29583.000000</td>\n",
       "      <td>29583.000000</td>\n",
       "    </tr>\n",
       "    <tr>\n",
       "      <th>mean</th>\n",
       "      <td>27.699997</td>\n",
       "      <td>65525.552987</td>\n",
       "      <td>4.633911</td>\n",
       "      <td>9583.453335</td>\n",
       "      <td>11.010195</td>\n",
       "      <td>0.218808</td>\n",
       "      <td>0.169739</td>\n",
       "      <td>5.786938</td>\n",
       "    </tr>\n",
       "    <tr>\n",
       "      <th>std</th>\n",
       "      <td>6.168867</td>\n",
       "      <td>46921.136552</td>\n",
       "      <td>4.056791</td>\n",
       "      <td>6317.036143</td>\n",
       "      <td>3.239640</td>\n",
       "      <td>0.413445</td>\n",
       "      <td>0.107013</td>\n",
       "      <td>4.026903</td>\n",
       "    </tr>\n",
       "    <tr>\n",
       "      <th>min</th>\n",
       "      <td>20.000000</td>\n",
       "      <td>4000.000000</td>\n",
       "      <td>0.000000</td>\n",
       "      <td>500.000000</td>\n",
       "      <td>5.420000</td>\n",
       "      <td>0.000000</td>\n",
       "      <td>0.000000</td>\n",
       "      <td>2.000000</td>\n",
       "    </tr>\n",
       "    <tr>\n",
       "      <th>25%</th>\n",
       "      <td>23.000000</td>\n",
       "      <td>38500.000000</td>\n",
       "      <td>2.000000</td>\n",
       "      <td>5000.000000</td>\n",
       "      <td>7.900000</td>\n",
       "      <td>0.000000</td>\n",
       "      <td>0.090000</td>\n",
       "      <td>3.000000</td>\n",
       "    </tr>\n",
       "    <tr>\n",
       "      <th>50%</th>\n",
       "      <td>26.000000</td>\n",
       "      <td>55000.000000</td>\n",
       "      <td>4.000000</td>\n",
       "      <td>8000.000000</td>\n",
       "      <td>10.990000</td>\n",
       "      <td>0.000000</td>\n",
       "      <td>0.150000</td>\n",
       "      <td>4.000000</td>\n",
       "    </tr>\n",
       "    <tr>\n",
       "      <th>75%</th>\n",
       "      <td>30.000000</td>\n",
       "      <td>79000.000000</td>\n",
       "      <td>7.000000</td>\n",
       "      <td>12250.000000</td>\n",
       "      <td>13.470000</td>\n",
       "      <td>0.000000</td>\n",
       "      <td>0.230000</td>\n",
       "      <td>8.000000</td>\n",
       "    </tr>\n",
       "    <tr>\n",
       "      <th>max</th>\n",
       "      <td>84.000000</td>\n",
       "      <td>948000.000000</td>\n",
       "      <td>41.000000</td>\n",
       "      <td>35000.000000</td>\n",
       "      <td>23.220000</td>\n",
       "      <td>1.000000</td>\n",
       "      <td>0.830000</td>\n",
       "      <td>30.000000</td>\n",
       "    </tr>\n",
       "  </tbody>\n",
       "</table>\n",
       "</div>"
      ],
      "text/plain": [
       "       idade_pessoa  salario_ano_pessoa  anos_trabalhados_pessoa  \\\n",
       "count  29583.000000        29583.000000             29583.000000   \n",
       "mean      27.699997        65525.552987                 4.633911   \n",
       "std        6.168867        46921.136552                 4.056791   \n",
       "min       20.000000         4000.000000                 0.000000   \n",
       "25%       23.000000        38500.000000                 2.000000   \n",
       "50%       26.000000        55000.000000                 4.000000   \n",
       "75%       30.000000        79000.000000                 7.000000   \n",
       "max       84.000000       948000.000000                41.000000   \n",
       "\n",
       "       valor_emprestimo  taxa_juros_emprestimo  status_inadimplencia  \\\n",
       "count      29583.000000           29583.000000          29583.000000   \n",
       "mean        9583.453335              11.010195              0.218808   \n",
       "std         6317.036143               3.239640              0.413445   \n",
       "min          500.000000               5.420000              0.000000   \n",
       "25%         5000.000000               7.900000              0.000000   \n",
       "50%         8000.000000              10.990000              0.000000   \n",
       "75%        12250.000000              13.470000              0.000000   \n",
       "max        35000.000000              23.220000              1.000000   \n",
       "\n",
       "       percentual_emprestimo_salario  tempo_primeira_solicitacao  \n",
       "count                   29583.000000                29583.000000  \n",
       "mean                        0.169739                    5.786938  \n",
       "std                         0.107013                    4.026903  \n",
       "min                         0.000000                    2.000000  \n",
       "25%                         0.090000                    3.000000  \n",
       "50%                         0.150000                    4.000000  \n",
       "75%                         0.230000                    8.000000  \n",
       "max                         0.830000                   30.000000  "
      ]
     },
     "execution_count": 21,
     "metadata": {},
     "output_type": "execute_result"
    }
   ],
   "source": [
    "dados.describe()"
   ]
  },
  {
   "cell_type": "markdown",
   "id": "499d4972",
   "metadata": {},
   "source": [
    "No final das contas, perdemos alguns registros da nossa base de dados, porém elas afetariam diretamente no nosso modelo, ou seja, remover esses outliers irá trazer mais vantagens do que desvantagens."
   ]
  },
  {
   "cell_type": "markdown",
   "id": "4f3effc1",
   "metadata": {},
   "source": [
    "### 3. Correlação de Variáveis"
   ]
  },
  {
   "cell_type": "code",
   "execution_count": null,
   "id": "03a05461",
   "metadata": {},
   "outputs": [
    {
     "data": {
      "text/plain": [
       "<AxesSubplot:>"
      ]
     },
     "execution_count": 22,
     "metadata": {},
     "output_type": "execute_result"
    }
   ],
   "source": [
    "import seaborn as sns\n",
    "\n",
    "plt.figure(figsize=(10,5))\n",
    "sns.heatmap(dados.corr(), annot = True)"
   ]
  },
  {
   "cell_type": "markdown",
   "id": "50d90bac",
   "metadata": {},
   "source": [
    "Analise das correlações pelo mapa de calor:\n",
    "\n",
    "• O **valor do emprestimo** parece ter correlação com **salario anual da pessoa**\n",
    "\n",
    "• A **taxa de juros do emprestimo** parece ter correlação com o **status de inadimplência**\n",
    "\n",
    "• O **percentual entre o emprestimo e o salario** parece ter uma correlação ainda mais forte com o **status de inadimplência**"
   ]
  }
 ],
 "metadata": {
  "kernelspec": {
   "display_name": "Python 3 (ipykernel)",
   "language": "python",
   "name": "python3"
  },
  "language_info": {
   "codemirror_mode": {
    "name": "ipython",
    "version": 3
   },
   "file_extension": ".py",
   "mimetype": "text/x-python",
   "name": "python",
   "nbconvert_exporter": "python",
   "pygments_lexer": "ipython3",
   "version": "3.9.12"
  }
 },
 "nbformat": 4,
 "nbformat_minor": 5
}
